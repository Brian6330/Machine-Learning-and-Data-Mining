{
 "cells": [
  {
   "cell_type": "markdown",
   "metadata": {},
   "source": [
    "### Exercise 5 -  Evaluation\n",
    "\n",
    "First name: Brian\n",
    "<br>\n",
    "Last name: Schweigler\n",
    "<br>\n",
    "Matriculation number: 16-102-071"
   ]
  },
  {
   "cell_type": "markdown",
   "metadata": {},
   "source": [
    "#### (1) Take the titanic dataset and using all attributes to predict the class `Survived' with Decision tree, KNN, Naive Bayes classifiers. (convert age and fare into classes ; exclude names from the attribute list) Determine:\n",
    "\n",
    "\n",
    "#### (a) Accuracy of the classifiers with 5-fold CV\n",
    "#### (b) Calculate theirs Precision, Recall and F1-score\n"
   ]
  },
  {
   "cell_type": "markdown",
   "metadata": {},
   "source": [
    "First some imports and preprocessing"
   ]
  },
  {
   "cell_type": "code",
   "execution_count": 1,
   "metadata": {},
   "outputs": [
    {
     "name": "stdout",
     "output_type": "stream",
     "text": [
      "                                                    Survived  Pclass  Sex  \\\n",
      "Name                                                                        \n",
      "Mr. Owen Harris Braund                                     0       3    1   \n",
      "Mrs. John Bradley (Florence Briggs Thayer) Cumings         1       1    0   \n",
      "Miss. Laina Heikkinen                                      1       3    0   \n",
      "\n",
      "                                                     Age  \\\n",
      "Name                                                       \n",
      "Mr. Owen Harris Braund                              22.0   \n",
      "Mrs. John Bradley (Florence Briggs Thayer) Cumings  38.0   \n",
      "Miss. Laina Heikkinen                               26.0   \n",
      "\n",
      "                                                    Siblings/Spouses Aboard  \\\n",
      "Name                                                                          \n",
      "Mr. Owen Harris Braund                                                    1   \n",
      "Mrs. John Bradley (Florence Briggs Thayer) Cumings                        1   \n",
      "Miss. Laina Heikkinen                                                     0   \n",
      "\n",
      "                                                    Parents/Children Aboard  \\\n",
      "Name                                                                          \n",
      "Mr. Owen Harris Braund                                                    0   \n",
      "Mrs. John Bradley (Florence Briggs Thayer) Cumings                        0   \n",
      "Miss. Laina Heikkinen                                                     0   \n",
      "\n",
      "                                                       Fare  AgeGroup  \\\n",
      "Name                                                                    \n",
      "Mr. Owen Harris Braund                               7.2500         2   \n",
      "Mrs. John Bradley (Florence Briggs Thayer) Cumings  71.2833         2   \n",
      "Miss. Laina Heikkinen                                7.9250         2   \n",
      "\n",
      "                                                    FareGroup  \n",
      "Name                                                           \n",
      "Mr. Owen Harris Braund                                      0  \n",
      "Mrs. John Bradley (Florence Briggs Thayer) Cumings          3  \n",
      "Miss. Laina Heikkinen                                       0  \n"
     ]
    }
   ],
   "source": [
    "%load_ext autoreload\n",
    "%autoreload 2\n",
    "%matplotlib inline\n",
    "\n",
    "import pandas as pd\n",
    "import numpy as np\n",
    "from sklearn.tree import DecisionTreeClassifier\n",
    "from sklearn import preprocessing\n",
    "from mlxtend.evaluate import accuracy_score\n",
    "from sklearn.neighbors import KNeighborsClassifier\n",
    "from sklearn.naive_bayes import GaussianNB\n",
    "from sklearn.metrics import accuracy_score, precision_score, recall_score, f1_score\n",
    "from sklearn.model_selection import KFold\n",
    "\n",
    "df = pd.read_csv(\"data/titanic.csv\", index_col='Name')\n",
    "pd.set_option('display.max_colwidth', None)\n",
    "le = preprocessing.LabelEncoder()\n",
    "bins = [0, 4, 18, 65, 100]\n",
    "labels = ['Infant', 'Child', 'Adult', 'Elderly']\n",
    "labels = [1, 2, 3, 4]\n",
    "df['AgeGroup'] = pd.cut(df['Age'], bins=bins, labels=labels, right=False)\n",
    "df[\"AgeGroup\"] = le.fit_transform(df[\"AgeGroup\"])\n",
    "df['FareGroup'] = pd.qcut(x=df['Fare'], q=4)\n",
    "df[\"FareGroup\"] = le.fit_transform(df[\"FareGroup\"])\n",
    "df[\"Survived\"] = le.fit_transform(df[\"Survived\"])\n",
    "df[\"Sex\"] = le.fit_transform(df[\"Sex\"])\n",
    "print(df.head(3))\n",
    "\n",
    "models = {\n",
    "    'Decision Tree': DecisionTreeClassifier(),\n",
    "    'KNN': KNeighborsClassifier(metric='manhattan'),\n",
    "    'Naive Bayes': GaussianNB(),\n",
    "}"
   ]
  },
  {
   "cell_type": "code",
   "execution_count": 2,
   "metadata": {},
   "outputs": [
    {
     "name": "stdout",
     "output_type": "stream",
     "text": [
      "DecisionTreeClassifier()\n"
     ]
    },
    {
     "data": {
      "text/plain": "      Accuracy  Precision    Recall  F1-Score\nFold                                         \n1     0.814607   0.661765  0.818182  0.731707\n2     0.803371   0.625000  0.849057  0.720000\n3     0.774011   0.716418  0.695652  0.705882\n4     0.745763   0.614286  0.704918  0.656489\n5     0.858757   0.738462  0.857143  0.793388",
      "text/html": "<div>\n<style scoped>\n    .dataframe tbody tr th:only-of-type {\n        vertical-align: middle;\n    }\n\n    .dataframe tbody tr th {\n        vertical-align: top;\n    }\n\n    .dataframe thead th {\n        text-align: right;\n    }\n</style>\n<table border=\"1\" class=\"dataframe\">\n  <thead>\n    <tr style=\"text-align: right;\">\n      <th></th>\n      <th>Accuracy</th>\n      <th>Precision</th>\n      <th>Recall</th>\n      <th>F1-Score</th>\n    </tr>\n    <tr>\n      <th>Fold</th>\n      <th></th>\n      <th></th>\n      <th></th>\n      <th></th>\n    </tr>\n  </thead>\n  <tbody>\n    <tr>\n      <th>1</th>\n      <td>0.814607</td>\n      <td>0.661765</td>\n      <td>0.818182</td>\n      <td>0.731707</td>\n    </tr>\n    <tr>\n      <th>2</th>\n      <td>0.803371</td>\n      <td>0.625000</td>\n      <td>0.849057</td>\n      <td>0.720000</td>\n    </tr>\n    <tr>\n      <th>3</th>\n      <td>0.774011</td>\n      <td>0.716418</td>\n      <td>0.695652</td>\n      <td>0.705882</td>\n    </tr>\n    <tr>\n      <th>4</th>\n      <td>0.745763</td>\n      <td>0.614286</td>\n      <td>0.704918</td>\n      <td>0.656489</td>\n    </tr>\n    <tr>\n      <th>5</th>\n      <td>0.858757</td>\n      <td>0.738462</td>\n      <td>0.857143</td>\n      <td>0.793388</td>\n    </tr>\n  </tbody>\n</table>\n</div>"
     },
     "metadata": {},
     "output_type": "display_data"
    },
    {
     "name": "stdout",
     "output_type": "stream",
     "text": [
      "KNeighborsClassifier(metric='manhattan')\n"
     ]
    },
    {
     "data": {
      "text/plain": "      Accuracy  Precision    Recall  F1-Score\nFold                                         \n1     0.842697   0.691176  0.870370  0.770492\n2     0.837079   0.666667  0.905660  0.768000\n3     0.813559   0.731343  0.765625  0.748092\n4     0.796610   0.642857  0.803571  0.714286\n5     0.841808   0.707692  0.836364  0.766667",
      "text/html": "<div>\n<style scoped>\n    .dataframe tbody tr th:only-of-type {\n        vertical-align: middle;\n    }\n\n    .dataframe tbody tr th {\n        vertical-align: top;\n    }\n\n    .dataframe thead th {\n        text-align: right;\n    }\n</style>\n<table border=\"1\" class=\"dataframe\">\n  <thead>\n    <tr style=\"text-align: right;\">\n      <th></th>\n      <th>Accuracy</th>\n      <th>Precision</th>\n      <th>Recall</th>\n      <th>F1-Score</th>\n    </tr>\n    <tr>\n      <th>Fold</th>\n      <th></th>\n      <th></th>\n      <th></th>\n      <th></th>\n    </tr>\n  </thead>\n  <tbody>\n    <tr>\n      <th>1</th>\n      <td>0.842697</td>\n      <td>0.691176</td>\n      <td>0.870370</td>\n      <td>0.770492</td>\n    </tr>\n    <tr>\n      <th>2</th>\n      <td>0.837079</td>\n      <td>0.666667</td>\n      <td>0.905660</td>\n      <td>0.768000</td>\n    </tr>\n    <tr>\n      <th>3</th>\n      <td>0.813559</td>\n      <td>0.731343</td>\n      <td>0.765625</td>\n      <td>0.748092</td>\n    </tr>\n    <tr>\n      <th>4</th>\n      <td>0.796610</td>\n      <td>0.642857</td>\n      <td>0.803571</td>\n      <td>0.714286</td>\n    </tr>\n    <tr>\n      <th>5</th>\n      <td>0.841808</td>\n      <td>0.707692</td>\n      <td>0.836364</td>\n      <td>0.766667</td>\n    </tr>\n  </tbody>\n</table>\n</div>"
     },
     "metadata": {},
     "output_type": "display_data"
    },
    {
     "name": "stdout",
     "output_type": "stream",
     "text": [
      "GaussianNB()\n"
     ]
    },
    {
     "data": {
      "text/plain": "      Accuracy  Precision    Recall  F1-Score\nFold                                         \n1     0.764045   0.691176  0.691176  0.691176\n2     0.735955   0.722222  0.658228  0.688742\n3     0.768362   0.820896  0.654762  0.728477\n4     0.728814   0.828571  0.617021  0.707317\n5     0.807910   0.830769  0.701299  0.760563",
      "text/html": "<div>\n<style scoped>\n    .dataframe tbody tr th:only-of-type {\n        vertical-align: middle;\n    }\n\n    .dataframe tbody tr th {\n        vertical-align: top;\n    }\n\n    .dataframe thead th {\n        text-align: right;\n    }\n</style>\n<table border=\"1\" class=\"dataframe\">\n  <thead>\n    <tr style=\"text-align: right;\">\n      <th></th>\n      <th>Accuracy</th>\n      <th>Precision</th>\n      <th>Recall</th>\n      <th>F1-Score</th>\n    </tr>\n    <tr>\n      <th>Fold</th>\n      <th></th>\n      <th></th>\n      <th></th>\n      <th></th>\n    </tr>\n  </thead>\n  <tbody>\n    <tr>\n      <th>1</th>\n      <td>0.764045</td>\n      <td>0.691176</td>\n      <td>0.691176</td>\n      <td>0.691176</td>\n    </tr>\n    <tr>\n      <th>2</th>\n      <td>0.735955</td>\n      <td>0.722222</td>\n      <td>0.658228</td>\n      <td>0.688742</td>\n    </tr>\n    <tr>\n      <th>3</th>\n      <td>0.768362</td>\n      <td>0.820896</td>\n      <td>0.654762</td>\n      <td>0.728477</td>\n    </tr>\n    <tr>\n      <th>4</th>\n      <td>0.728814</td>\n      <td>0.828571</td>\n      <td>0.617021</td>\n      <td>0.707317</td>\n    </tr>\n    <tr>\n      <th>5</th>\n      <td>0.807910</td>\n      <td>0.830769</td>\n      <td>0.701299</td>\n      <td>0.760563</td>\n    </tr>\n  </tbody>\n</table>\n</div>"
     },
     "metadata": {},
     "output_type": "display_data"
    }
   ],
   "source": [
    "all_features = ['Pclass', 'Sex', 'Siblings/Spouses Aboard',\n",
    "                'Parents/Children Aboard', 'AgeGroup', 'FareGroup']\n",
    "\n",
    "\n",
    "def kfold_eval(model, x: pd.DataFrame, y: pd.DataFrame):\n",
    "    kf = KFold(n_splits=5, shuffle=True, random_state=6)\n",
    "    accuracy = np.empty(kf.n_splits)\n",
    "    precision = np.empty(kf.n_splits)\n",
    "    recall = np.empty(kf.n_splits)\n",
    "    f1 = np.empty(kf.n_splits)\n",
    "\n",
    "    i = 0\n",
    "    for train_index, test_index in kf.split(x):\n",
    "        x_train, x_test = x.iloc[train_index], x.iloc[test_index]\n",
    "        y_train, y_test = y.iloc[train_index], y.iloc[test_index]\n",
    "\n",
    "        model.fit(x_train, y_train)\n",
    "        prediction = model.predict(x_test)\n",
    "\n",
    "        accuracy[i] = accuracy_score(prediction, y_test)\n",
    "        precision[i] = precision_score(prediction, y_test)\n",
    "        recall[i] = recall_score(prediction, y_test)\n",
    "        f1[i] = f1_score(prediction, y_test)\n",
    "        i += 1\n",
    "\n",
    "    print(model)\n",
    "    return accuracy, precision, recall, f1\n",
    "\n",
    "\n",
    "for name, model in models.items():\n",
    "    a, p, r, f = kfold_eval(model, df[all_features], df[\"Survived\"])\n",
    "    data = {\n",
    "        'Fold': [1, 2, 3, 4, 5],\n",
    "        'Accuracy': a,\n",
    "        'Precision': p,\n",
    "        'Recall': r,\n",
    "        'F1-Score': f,\n",
    "    }\n",
    "\n",
    "    scores = pd.DataFrame(data).set_index('Fold')\n",
    "    display(scores)"
   ]
  },
  {
   "cell_type": "markdown",
   "metadata": {},
   "source": [
    "It seems like for the decision Tree and KNeighbors, 3 fold would suffice, in terms of accuracy.\n"
   ]
  },
  {
   "cell_type": "markdown",
   "metadata": {},
   "source": [
    "#### (2) Build Decision tree, KNN, Naive Bayes models with your selected stock / market index using all attributes to predict 'daily returns'. ('daily returns' must first be converted into a decision class that will be used as the target(label), all other attributes must be grouped into classes) Determine:\n",
    "\n",
    "#### (a) Accuracy of the classifiers with 10-fold CV\n",
    "\n",
    "#### (b) Calculate their Precision, Recall and F1-score\n",
    "\n",
    "First simply import the dataset and set up the values:"
   ]
  },
  {
   "cell_type": "code",
   "execution_count": 3,
   "metadata": {},
   "outputs": [
    {
     "name": "stdout",
     "output_type": "stream",
     "text": [
      "                  Open        High         Low       Close   Adj Close  Volume\n",
      "Date                                                                          \n",
      "1971-02-05  100.000000  100.000000  100.000000  100.000000  100.000000       0\n",
      "1971-02-08  100.839996  100.839996  100.839996  100.839996  100.839996       0\n",
      "1971-02-09  100.760002  100.760002  100.760002  100.760002  100.760002       0\n",
      "                    Open          High           Low         Close  \\\n",
      "Date                                                                 \n",
      "2021-09-17  15163.360352  15166.559570  14998.730469  15043.969727   \n",
      "2021-09-20  14758.139648  14841.820312  14530.070312  14713.900391   \n",
      "2021-09-21  14803.400391  14847.027344  14696.467773  14779.216797   \n",
      "\n",
      "               Adj Close      Volume  Daily Return  Binary Decision  \\\n",
      "Date                                                                  \n",
      "2021-09-17  15043.969727  6682650000     -0.009086                0   \n",
      "2021-09-20  14713.900391  4860630000     -0.021940                0   \n",
      "2021-09-21  14779.216797  3083208000      0.004439                1   \n",
      "\n",
      "            Rolling Mean 5  Rolling Mean 10  Rolling Mean 20  Rolling Mean 50  \\\n",
      "Date                                                                            \n",
      "2021-09-17    15106.151953     15191.898926     15143.947949     14875.465586   \n",
      "2021-09-20    15027.816016     15126.937012     15143.909961     14875.705195   \n",
      "2021-09-21    14976.107422     15067.425684     15135.738281     14876.624727   \n",
      "\n",
      "            Rolling Mean 200  \n",
      "Date                          \n",
      "2021-09-17      13844.889136  \n",
      "2021-09-20      13856.711787  \n",
      "2021-09-21      13868.721973  \n"
     ]
    }
   ],
   "source": [
    "stock_df = pd.read_csv(\"data/Nasdaq.csv\", index_col='Date')\n",
    "print(stock_df.head(3))\n",
    "\n",
    "daily_return = np.empty(stock_df['Close'].shape)\n",
    "#  From Slides: Daily return (r): Difference in percentage between\n",
    "#  price at time t+1 and time t\n",
    "daily_return[0] = float('NaN')  # The first\n",
    "daily_return[1:] = np.ediff1d(stock_df['Close']) / stock_df['Close'][:-1]\n",
    "stock_df.insert(loc=len(stock_df.columns), column='Daily Return', value=daily_return)\n",
    "\n",
    "binary = (daily_return > 0).astype(float)\n",
    "stock_df.insert(loc=len(stock_df.columns), column='Binary Decision', value=binary)\n",
    "stock_df[\"Binary Decision\"] = le.fit_transform(stock_df[\"Binary Decision\"])\n",
    "\n",
    "stock_df['Rolling Mean 5'] = stock_df['Close'].rolling(5).mean()\n",
    "stock_df['Rolling Mean 10'] = stock_df['Close'].rolling(10).mean()\n",
    "stock_df['Rolling Mean 20'] = stock_df['Close'].rolling(20).mean()\n",
    "stock_df['Rolling Mean 50'] = stock_df['Close'].rolling(50).mean()\n",
    "stock_df['Rolling Mean 200'] = stock_df['Close'].rolling(200).mean()\n",
    "stock_df = stock_df.fillna(0)  # NAs replaced with zero\n",
    "\n",
    "stock_models = {\n",
    "    'Decision Tree': DecisionTreeClassifier(),\n",
    "    'KNN': KNeighborsClassifier(metric='manhattan'),\n",
    "    'Naive Bayes': GaussianNB(),\n",
    "}\n",
    "print(stock_df.tail(3))\n",
    "\n"
   ]
  },
  {
   "cell_type": "markdown",
   "metadata": {},
   "source": [
    "With the Rolling Mean, we already have a sort of grouping, thus I vouch to leave the values ungrouped and just work with the Rolling Mean, especially as it is what was also used in prior exercises."
   ]
  },
  {
   "cell_type": "code",
   "execution_count": 4,
   "metadata": {},
   "outputs": [
    {
     "name": "stdout",
     "output_type": "stream",
     "text": [
      "DecisionTreeClassifier()\n"
     ]
    },
    {
     "data": {
      "text/plain": "      Accuracy  Precision    Recall  F1-Score\nFold                                         \n1     0.331185   0.347599  0.329873  0.317819\n2     0.308622   0.316172  0.322944  0.307801\n3     0.343548   0.357075  0.359593  0.325359\n4     0.305645   0.331909  0.324319  0.297232\n5     0.304839   0.325341  0.295058  0.204497\n6     0.304032   0.324861  0.322175  0.296573\n7     0.344355   0.342394  0.345174  0.334500\n8     0.377419   0.372596  0.371232  0.371268\n9     0.300000   0.305284  0.301397  0.271422\n10    0.277419   0.289440  0.277566  0.241323",
      "text/html": "<div>\n<style scoped>\n    .dataframe tbody tr th:only-of-type {\n        vertical-align: middle;\n    }\n\n    .dataframe tbody tr th {\n        vertical-align: top;\n    }\n\n    .dataframe thead th {\n        text-align: right;\n    }\n</style>\n<table border=\"1\" class=\"dataframe\">\n  <thead>\n    <tr style=\"text-align: right;\">\n      <th></th>\n      <th>Accuracy</th>\n      <th>Precision</th>\n      <th>Recall</th>\n      <th>F1-Score</th>\n    </tr>\n    <tr>\n      <th>Fold</th>\n      <th></th>\n      <th></th>\n      <th></th>\n      <th></th>\n    </tr>\n  </thead>\n  <tbody>\n    <tr>\n      <th>1</th>\n      <td>0.331185</td>\n      <td>0.347599</td>\n      <td>0.329873</td>\n      <td>0.317819</td>\n    </tr>\n    <tr>\n      <th>2</th>\n      <td>0.308622</td>\n      <td>0.316172</td>\n      <td>0.322944</td>\n      <td>0.307801</td>\n    </tr>\n    <tr>\n      <th>3</th>\n      <td>0.343548</td>\n      <td>0.357075</td>\n      <td>0.359593</td>\n      <td>0.325359</td>\n    </tr>\n    <tr>\n      <th>4</th>\n      <td>0.305645</td>\n      <td>0.331909</td>\n      <td>0.324319</td>\n      <td>0.297232</td>\n    </tr>\n    <tr>\n      <th>5</th>\n      <td>0.304839</td>\n      <td>0.325341</td>\n      <td>0.295058</td>\n      <td>0.204497</td>\n    </tr>\n    <tr>\n      <th>6</th>\n      <td>0.304032</td>\n      <td>0.324861</td>\n      <td>0.322175</td>\n      <td>0.296573</td>\n    </tr>\n    <tr>\n      <th>7</th>\n      <td>0.344355</td>\n      <td>0.342394</td>\n      <td>0.345174</td>\n      <td>0.334500</td>\n    </tr>\n    <tr>\n      <th>8</th>\n      <td>0.377419</td>\n      <td>0.372596</td>\n      <td>0.371232</td>\n      <td>0.371268</td>\n    </tr>\n    <tr>\n      <th>9</th>\n      <td>0.300000</td>\n      <td>0.305284</td>\n      <td>0.301397</td>\n      <td>0.271422</td>\n    </tr>\n    <tr>\n      <th>10</th>\n      <td>0.277419</td>\n      <td>0.289440</td>\n      <td>0.277566</td>\n      <td>0.241323</td>\n    </tr>\n  </tbody>\n</table>\n</div>"
     },
     "metadata": {},
     "output_type": "display_data"
    },
    {
     "name": "stdout",
     "output_type": "stream",
     "text": [
      "KNeighborsClassifier(metric='manhattan')\n"
     ]
    },
    {
     "data": {
      "text/plain": "      Accuracy  Precision    Recall  F1-Score\nFold                                         \n1     0.338437   0.359269  0.346339  0.310099\n2     0.352941   0.341236  0.343763  0.339733\n3     0.368548   0.321497  0.302754  0.268633\n4     0.358065   0.341657  0.338960  0.337458\n5     0.334677   0.340029  0.341090  0.331863\n6     0.325806   0.336826  0.335054  0.305033\n7     0.334677   0.326823  0.324489  0.319987\n8     0.334677   0.325243  0.324334  0.318713\n9     0.308871   0.310049  0.316524  0.299645\n10    0.345968   0.359740  0.379808  0.319568",
      "text/html": "<div>\n<style scoped>\n    .dataframe tbody tr th:only-of-type {\n        vertical-align: middle;\n    }\n\n    .dataframe tbody tr th {\n        vertical-align: top;\n    }\n\n    .dataframe thead th {\n        text-align: right;\n    }\n</style>\n<table border=\"1\" class=\"dataframe\">\n  <thead>\n    <tr style=\"text-align: right;\">\n      <th></th>\n      <th>Accuracy</th>\n      <th>Precision</th>\n      <th>Recall</th>\n      <th>F1-Score</th>\n    </tr>\n    <tr>\n      <th>Fold</th>\n      <th></th>\n      <th></th>\n      <th></th>\n      <th></th>\n    </tr>\n  </thead>\n  <tbody>\n    <tr>\n      <th>1</th>\n      <td>0.338437</td>\n      <td>0.359269</td>\n      <td>0.346339</td>\n      <td>0.310099</td>\n    </tr>\n    <tr>\n      <th>2</th>\n      <td>0.352941</td>\n      <td>0.341236</td>\n      <td>0.343763</td>\n      <td>0.339733</td>\n    </tr>\n    <tr>\n      <th>3</th>\n      <td>0.368548</td>\n      <td>0.321497</td>\n      <td>0.302754</td>\n      <td>0.268633</td>\n    </tr>\n    <tr>\n      <th>4</th>\n      <td>0.358065</td>\n      <td>0.341657</td>\n      <td>0.338960</td>\n      <td>0.337458</td>\n    </tr>\n    <tr>\n      <th>5</th>\n      <td>0.334677</td>\n      <td>0.340029</td>\n      <td>0.341090</td>\n      <td>0.331863</td>\n    </tr>\n    <tr>\n      <th>6</th>\n      <td>0.325806</td>\n      <td>0.336826</td>\n      <td>0.335054</td>\n      <td>0.305033</td>\n    </tr>\n    <tr>\n      <th>7</th>\n      <td>0.334677</td>\n      <td>0.326823</td>\n      <td>0.324489</td>\n      <td>0.319987</td>\n    </tr>\n    <tr>\n      <th>8</th>\n      <td>0.334677</td>\n      <td>0.325243</td>\n      <td>0.324334</td>\n      <td>0.318713</td>\n    </tr>\n    <tr>\n      <th>9</th>\n      <td>0.308871</td>\n      <td>0.310049</td>\n      <td>0.316524</td>\n      <td>0.299645</td>\n    </tr>\n    <tr>\n      <th>10</th>\n      <td>0.345968</td>\n      <td>0.359740</td>\n      <td>0.379808</td>\n      <td>0.319568</td>\n    </tr>\n  </tbody>\n</table>\n</div>"
     },
     "metadata": {},
     "output_type": "display_data"
    },
    {
     "name": "stdout",
     "output_type": "stream",
     "text": [
      "GaussianNB()\n"
     ]
    },
    {
     "data": {
      "text/plain": "      Accuracy  Precision    Recall  F1-Score\nFold                                         \n1     0.359388   0.333333  0.119796  0.176250\n2     0.439162   0.333333  0.146387  0.203434\n3     0.402419   0.333333  0.134140  0.191298\n4     0.426613   0.333333  0.142204  0.199359\n5     0.364516   0.333333  0.121505  0.178093\n6     0.252419   0.388310  0.410156  0.242221\n7     0.352419   0.347758  0.214705  0.247343\n8     0.376613   0.343797  0.273010  0.211165\n9     0.317742   0.333310  0.220640  0.173877\n10    0.303226   0.331054  0.348902  0.162319",
      "text/html": "<div>\n<style scoped>\n    .dataframe tbody tr th:only-of-type {\n        vertical-align: middle;\n    }\n\n    .dataframe tbody tr th {\n        vertical-align: top;\n    }\n\n    .dataframe thead th {\n        text-align: right;\n    }\n</style>\n<table border=\"1\" class=\"dataframe\">\n  <thead>\n    <tr style=\"text-align: right;\">\n      <th></th>\n      <th>Accuracy</th>\n      <th>Precision</th>\n      <th>Recall</th>\n      <th>F1-Score</th>\n    </tr>\n    <tr>\n      <th>Fold</th>\n      <th></th>\n      <th></th>\n      <th></th>\n      <th></th>\n    </tr>\n  </thead>\n  <tbody>\n    <tr>\n      <th>1</th>\n      <td>0.359388</td>\n      <td>0.333333</td>\n      <td>0.119796</td>\n      <td>0.176250</td>\n    </tr>\n    <tr>\n      <th>2</th>\n      <td>0.439162</td>\n      <td>0.333333</td>\n      <td>0.146387</td>\n      <td>0.203434</td>\n    </tr>\n    <tr>\n      <th>3</th>\n      <td>0.402419</td>\n      <td>0.333333</td>\n      <td>0.134140</td>\n      <td>0.191298</td>\n    </tr>\n    <tr>\n      <th>4</th>\n      <td>0.426613</td>\n      <td>0.333333</td>\n      <td>0.142204</td>\n      <td>0.199359</td>\n    </tr>\n    <tr>\n      <th>5</th>\n      <td>0.364516</td>\n      <td>0.333333</td>\n      <td>0.121505</td>\n      <td>0.178093</td>\n    </tr>\n    <tr>\n      <th>6</th>\n      <td>0.252419</td>\n      <td>0.388310</td>\n      <td>0.410156</td>\n      <td>0.242221</td>\n    </tr>\n    <tr>\n      <th>7</th>\n      <td>0.352419</td>\n      <td>0.347758</td>\n      <td>0.214705</td>\n      <td>0.247343</td>\n    </tr>\n    <tr>\n      <th>8</th>\n      <td>0.376613</td>\n      <td>0.343797</td>\n      <td>0.273010</td>\n      <td>0.211165</td>\n    </tr>\n    <tr>\n      <th>9</th>\n      <td>0.317742</td>\n      <td>0.333310</td>\n      <td>0.220640</td>\n      <td>0.173877</td>\n    </tr>\n    <tr>\n      <th>10</th>\n      <td>0.303226</td>\n      <td>0.331054</td>\n      <td>0.348902</td>\n      <td>0.162319</td>\n    </tr>\n  </tbody>\n</table>\n</div>"
     },
     "metadata": {},
     "output_type": "display_data"
    }
   ],
   "source": [
    "stock_df[\"Class Daily Return\"] = pd.qcut(stock_df[\"Daily Return\"], q=3)\n",
    "stock_df[\"Class Daily Return\"], _ = stock_df[\"Class Daily Return\"].factorize(sort=True)\n",
    "\n",
    "all_stock_features = ['Volume', 'Rolling Mean 5', 'Rolling Mean 10',\n",
    "                      'Rolling Mean 20', 'Rolling Mean 50', 'Rolling Mean 200']\n",
    "\n",
    "\n",
    "def stock_kfold_eval(model, x: pd.DataFrame, y: pd.DataFrame):\n",
    "    kf = KFold(n_splits=10)\n",
    "    accuracy = np.empty(kf.n_splits)\n",
    "    precision = np.empty(kf.n_splits)\n",
    "    recall = np.empty(kf.n_splits)\n",
    "    f1 = np.empty(kf.n_splits)\n",
    "\n",
    "    i = 0\n",
    "    for train_index, test_index in kf.split(x):\n",
    "        x_train, x_test = x.iloc[train_index], x.iloc[test_index]\n",
    "        y_train, y_test = y.iloc[train_index], y.iloc[test_index]\n",
    "\n",
    "        model.fit(x_train, y_train)\n",
    "        prediction = model.predict(x_test)\n",
    "\n",
    "        accuracy[i] = accuracy_score(prediction, y_test)\n",
    "        precision[i] = precision_score(prediction, y_test,\n",
    "                                       average='macro', zero_division=0)\n",
    "        recall[i] = recall_score(prediction, y_test,\n",
    "                                 average='macro', zero_division=0)\n",
    "        f1[i] = f1_score(prediction, y_test,\n",
    "                         average='macro', zero_division=0)\n",
    "        i += 1\n",
    "\n",
    "    print(model)\n",
    "    return accuracy, precision, recall, f1\n",
    "\n",
    "\n",
    "for name, model in stock_models.items():\n",
    "    a, p, r, f = stock_kfold_eval(model, stock_df[all_stock_features],\n",
    "                                  stock_df[\"Class Daily Return\"])\n",
    "    stock_data = {\n",
    "        'Fold': [1, 2, 3, 4, 5, 6, 7, 8, 9, 10],\n",
    "        'Accuracy': a,\n",
    "        'Precision': p,\n",
    "        'Recall': r,\n",
    "        'F1-Score': f,\n",
    "    }\n",
    "\n",
    "    stock_scores = pd.DataFrame(stock_data).set_index('Fold')\n",
    "    display(stock_scores)\n"
   ]
  },
  {
   "cell_type": "markdown",
   "metadata": {},
   "source": [
    "In the stock_df case, 2-fold works well enough with GaussianNB, 3-fold with Kneighbors and Decision Tree prefers 7 (or 8) fold.\n",
    "\n"
   ]
  }
 ],
 "metadata": {
  "kernelspec": {
   "display_name": "Python 3 (ipykernel)",
   "language": "python",
   "name": "python3"
  },
  "language_info": {
   "codemirror_mode": {
    "name": "ipython",
    "version": 3
   },
   "file_extension": ".py",
   "mimetype": "text/x-python",
   "name": "python",
   "nbconvert_exporter": "python",
   "pygments_lexer": "ipython3",
   "version": "3.9.2"
  }
 },
 "nbformat": 4,
 "nbformat_minor": 4
}
