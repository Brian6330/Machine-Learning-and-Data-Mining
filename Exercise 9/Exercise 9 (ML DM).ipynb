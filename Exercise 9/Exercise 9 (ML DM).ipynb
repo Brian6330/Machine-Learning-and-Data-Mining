{
 "cells": [
  {
   "cell_type": "markdown",
   "metadata": {},
   "source": [
    "### Exercise 9 - Ensemble Learning\n",
    "\n",
    "First name: Brian\n",
    "<br>\n",
    "Last name: Schweigler\n",
    "<br>\n",
    "Matriculation number: 16-102-071"
   ]
  },
  {
   "cell_type": "markdown",
   "metadata": {},
   "source": [
    "#### (1) Take the titanic dataset and using all attributes to predict the class ‘Survived’ (convert age and fare into classes ; exclude names from the attribute list) Build a boosting ensemble model with:\n",
    "(a) Adaboost\n",
    "(b) Gradientboost\n",
    "(c) XGB\n",
    "Show the Comparison of the Performance of the models\n"
   ]
  },
  {
   "cell_type": "code",
   "execution_count": 2,
   "metadata": {},
   "outputs": [
    {
     "name": "stdout",
     "output_type": "stream",
     "text": [
      "The autoreload extension is already loaded. To reload it, use:\n",
      "  %reload_ext autoreload\n",
      "                                                    Survived  Pclass  Sex  \\\n",
      "Name                                                                        \n",
      "Mr. Owen Harris Braund                                     0       3    1   \n",
      "Mrs. John Bradley (Florence Briggs Thayer) Cumings         1       1    0   \n",
      "\n",
      "                                                     Age  \\\n",
      "Name                                                       \n",
      "Mr. Owen Harris Braund                              22.0   \n",
      "Mrs. John Bradley (Florence Briggs Thayer) Cumings  38.0   \n",
      "\n",
      "                                                    Siblings/Spouses Aboard  \\\n",
      "Name                                                                          \n",
      "Mr. Owen Harris Braund                                                    1   \n",
      "Mrs. John Bradley (Florence Briggs Thayer) Cumings                        1   \n",
      "\n",
      "                                                    Parents/Children Aboard  \\\n",
      "Name                                                                          \n",
      "Mr. Owen Harris Braund                                                    0   \n",
      "Mrs. John Bradley (Florence Briggs Thayer) Cumings                        0   \n",
      "\n",
      "                                                       Fare  AgeGroup  \\\n",
      "Name                                                                    \n",
      "Mr. Owen Harris Braund                               7.2500         2   \n",
      "Mrs. John Bradley (Florence Briggs Thayer) Cumings  71.2833         2   \n",
      "\n",
      "                                                    FareGroup  \n",
      "Name                                                           \n",
      "Mr. Owen Harris Braund                                      0  \n",
      "Mrs. John Bradley (Florence Briggs Thayer) Cumings          3  \n"
     ]
    }
   ],
   "source": [
    "%load_ext autoreload\n",
    "%autoreload 2\n",
    "%matplotlib inline\n",
    "\n",
    "import pandas as pd\n",
    "import numpy as np\n",
    "from sklearn import preprocessing\n",
    "from mlxtend.evaluate import accuracy_score\n",
    "from sklearn.metrics import accuracy_score, precision_score, recall_score, f1_score\n",
    "from sklearn.svm import SVC\n",
    "from sklearn.model_selection import KFold\n",
    "from sklearn.ensemble import GradientBoostingClassifier, AdaBoostClassifier\n",
    "from xgboost.sklearn import XGBClassifier\n",
    "from IPython.core.display import display\n",
    "\n",
    "df = pd.read_csv(\"data/titanic.csv\", index_col='Name')\n",
    "pd.set_option('display.max_colwidth', None)\n",
    "le = preprocessing.LabelEncoder()\n",
    "bins = [0, 4, 18, 65, 100]\n",
    "labels = ['Infant', 'Child', 'Adult', 'Elderly']\n",
    "labels = [1, 2, 3, 4]\n",
    "df['AgeGroup'] = pd.cut(df['Age'], bins=bins, labels=labels, right=False)\n",
    "df[\"AgeGroup\"] = le.fit_transform(df[\"AgeGroup\"])\n",
    "df['FareGroup'] = pd.qcut(x=df['Fare'], q=4)\n",
    "df[\"FareGroup\"] = le.fit_transform(df[\"FareGroup\"])\n",
    "df[\"Survived\"] = le.fit_transform(df[\"Survived\"])\n",
    "df[\"Sex\"] = le.fit_transform(df[\"Sex\"])\n",
    "print(df.head(2))\n",
    "\n",
    "models = {\n",
    "    'AdaBoostClassifier': AdaBoostClassifier(),\n",
    "    'Gradientboost': GradientBoostingClassifier(learning_rate=0.01),\n",
    "    'XGBClassifier': XGBClassifier(),\n",
    "}"
   ]
  },
  {
   "cell_type": "code",
   "execution_count": 4,
   "metadata": {},
   "outputs": [
    {
     "name": "stdout",
     "output_type": "stream",
     "text": [
      "AdaBoostClassifier\n"
     ]
    },
    {
     "data": {
      "text/plain": "      Accuracy  Precision    Recall  F1-Score\nFold                                         \n1     0.820225   0.779412  0.757143  0.768116\n2     0.764045   0.611111  0.758621  0.676923\n3     0.779661   0.716418  0.705882  0.711111\n4     0.762712   0.657143  0.718750  0.686567\n5     0.813559   0.769231  0.735294  0.751880",
      "text/html": "<div>\n<style scoped>\n    .dataframe tbody tr th:only-of-type {\n        vertical-align: middle;\n    }\n\n    .dataframe tbody tr th {\n        vertical-align: top;\n    }\n\n    .dataframe thead th {\n        text-align: right;\n    }\n</style>\n<table border=\"1\" class=\"dataframe\">\n  <thead>\n    <tr style=\"text-align: right;\">\n      <th></th>\n      <th>Accuracy</th>\n      <th>Precision</th>\n      <th>Recall</th>\n      <th>F1-Score</th>\n    </tr>\n    <tr>\n      <th>Fold</th>\n      <th></th>\n      <th></th>\n      <th></th>\n      <th></th>\n    </tr>\n  </thead>\n  <tbody>\n    <tr>\n      <th>1</th>\n      <td>0.820225</td>\n      <td>0.779412</td>\n      <td>0.757143</td>\n      <td>0.768116</td>\n    </tr>\n    <tr>\n      <th>2</th>\n      <td>0.764045</td>\n      <td>0.611111</td>\n      <td>0.758621</td>\n      <td>0.676923</td>\n    </tr>\n    <tr>\n      <th>3</th>\n      <td>0.779661</td>\n      <td>0.716418</td>\n      <td>0.705882</td>\n      <td>0.711111</td>\n    </tr>\n    <tr>\n      <th>4</th>\n      <td>0.762712</td>\n      <td>0.657143</td>\n      <td>0.718750</td>\n      <td>0.686567</td>\n    </tr>\n    <tr>\n      <th>5</th>\n      <td>0.813559</td>\n      <td>0.769231</td>\n      <td>0.735294</td>\n      <td>0.751880</td>\n    </tr>\n  </tbody>\n</table>\n</div>"
     },
     "metadata": {},
     "output_type": "display_data"
    },
    {
     "name": "stdout",
     "output_type": "stream",
     "text": [
      "Gradientboost\n"
     ]
    },
    {
     "data": {
      "text/plain": "      Accuracy  Precision    Recall  F1-Score\nFold                                         \n1     0.848315   0.632353  0.955556  0.761062\n2     0.786517   0.541667  0.886364  0.672414\n3     0.819209   0.656716  0.830189  0.733333\n4     0.790960   0.542857  0.883721  0.672566\n5     0.847458   0.646154  0.913043  0.756757",
      "text/html": "<div>\n<style scoped>\n    .dataframe tbody tr th:only-of-type {\n        vertical-align: middle;\n    }\n\n    .dataframe tbody tr th {\n        vertical-align: top;\n    }\n\n    .dataframe thead th {\n        text-align: right;\n    }\n</style>\n<table border=\"1\" class=\"dataframe\">\n  <thead>\n    <tr style=\"text-align: right;\">\n      <th></th>\n      <th>Accuracy</th>\n      <th>Precision</th>\n      <th>Recall</th>\n      <th>F1-Score</th>\n    </tr>\n    <tr>\n      <th>Fold</th>\n      <th></th>\n      <th></th>\n      <th></th>\n      <th></th>\n    </tr>\n  </thead>\n  <tbody>\n    <tr>\n      <th>1</th>\n      <td>0.848315</td>\n      <td>0.632353</td>\n      <td>0.955556</td>\n      <td>0.761062</td>\n    </tr>\n    <tr>\n      <th>2</th>\n      <td>0.786517</td>\n      <td>0.541667</td>\n      <td>0.886364</td>\n      <td>0.672414</td>\n    </tr>\n    <tr>\n      <th>3</th>\n      <td>0.819209</td>\n      <td>0.656716</td>\n      <td>0.830189</td>\n      <td>0.733333</td>\n    </tr>\n    <tr>\n      <th>4</th>\n      <td>0.790960</td>\n      <td>0.542857</td>\n      <td>0.883721</td>\n      <td>0.672566</td>\n    </tr>\n    <tr>\n      <th>5</th>\n      <td>0.847458</td>\n      <td>0.646154</td>\n      <td>0.913043</td>\n      <td>0.756757</td>\n    </tr>\n  </tbody>\n</table>\n</div>"
     },
     "metadata": {},
     "output_type": "display_data"
    },
    {
     "name": "stdout",
     "output_type": "stream",
     "text": [
      "XGBClassifier\n"
     ]
    },
    {
     "data": {
      "text/plain": "      Accuracy  Precision    Recall  F1-Score\nFold                                         \n1     0.837079   0.691176  0.854545  0.764228\n2     0.814607   0.611111  0.897959  0.727273\n3     0.790960   0.776119  0.702703  0.737589\n4     0.768362   0.671429  0.723077  0.696296\n5     0.847458   0.769231  0.806452  0.787402",
      "text/html": "<div>\n<style scoped>\n    .dataframe tbody tr th:only-of-type {\n        vertical-align: middle;\n    }\n\n    .dataframe tbody tr th {\n        vertical-align: top;\n    }\n\n    .dataframe thead th {\n        text-align: right;\n    }\n</style>\n<table border=\"1\" class=\"dataframe\">\n  <thead>\n    <tr style=\"text-align: right;\">\n      <th></th>\n      <th>Accuracy</th>\n      <th>Precision</th>\n      <th>Recall</th>\n      <th>F1-Score</th>\n    </tr>\n    <tr>\n      <th>Fold</th>\n      <th></th>\n      <th></th>\n      <th></th>\n      <th></th>\n    </tr>\n  </thead>\n  <tbody>\n    <tr>\n      <th>1</th>\n      <td>0.837079</td>\n      <td>0.691176</td>\n      <td>0.854545</td>\n      <td>0.764228</td>\n    </tr>\n    <tr>\n      <th>2</th>\n      <td>0.814607</td>\n      <td>0.611111</td>\n      <td>0.897959</td>\n      <td>0.727273</td>\n    </tr>\n    <tr>\n      <th>3</th>\n      <td>0.790960</td>\n      <td>0.776119</td>\n      <td>0.702703</td>\n      <td>0.737589</td>\n    </tr>\n    <tr>\n      <th>4</th>\n      <td>0.768362</td>\n      <td>0.671429</td>\n      <td>0.723077</td>\n      <td>0.696296</td>\n    </tr>\n    <tr>\n      <th>5</th>\n      <td>0.847458</td>\n      <td>0.769231</td>\n      <td>0.806452</td>\n      <td>0.787402</td>\n    </tr>\n  </tbody>\n</table>\n</div>"
     },
     "metadata": {},
     "output_type": "display_data"
    }
   ],
   "source": [
    "all_features = ['Pclass', 'Sex', 'Siblings/Spouses Aboard',\n",
    "                'Parents/Children Aboard', 'AgeGroup', 'FareGroup']\n",
    "\n",
    "\n",
    "def kfold_boost_eval(model, x: pd.DataFrame, y: pd.DataFrame):\n",
    "    kf = KFold(n_splits=5, shuffle=True, random_state=6)\n",
    "    accuracy = np.empty(kf.n_splits)\n",
    "    precision = np.empty(kf.n_splits)\n",
    "    recall = np.empty(kf.n_splits)\n",
    "    f1 = np.empty(kf.n_splits)\n",
    "\n",
    "    i = 0\n",
    "    for train_index, test_index in kf.split(x):\n",
    "        x_train, x_test = x.iloc[train_index], x.iloc[test_index]\n",
    "        y_train, y_test = y.iloc[train_index], y.iloc[test_index]\n",
    "\n",
    "        model.fit(x_train, y_train)\n",
    "        prediction = model.predict(x_test)\n",
    "\n",
    "        accuracy[i] = accuracy_score(prediction, y_test)\n",
    "        precision[i] = precision_score(prediction, y_test)\n",
    "        recall[i] = recall_score(prediction, y_test)\n",
    "        f1[i] = f1_score(prediction, y_test)\n",
    "        i += 1\n",
    "\n",
    "    print(name)\n",
    "    return accuracy, precision, recall, f1\n",
    "\n",
    "\n",
    "for name, model in models.items():\n",
    "    a, p, r, f = kfold_boost_eval(model, df[all_features], df[\"Survived\"])\n",
    "    data = {\n",
    "        'Fold': [1, 2, 3, 4, 5],\n",
    "        'Accuracy': a,\n",
    "        'Precision': p,\n",
    "        'Recall': r,\n",
    "        'F1-Score': f,\n",
    "    }\n",
    "\n",
    "    scores = pd.DataFrame(data).set_index('Fold')\n",
    "    display(scores)"
   ]
  },
  {
   "cell_type": "markdown",
   "metadata": {},
   "source": [
    "Seems like the linear and polynomial models have the highest accuracy, while the Sigmoid model performs the worst. We expect a clear correlation between e.g. PClass and Survived, thus a Sigmoid shouldn't fit, which is confirmed."
   ]
  },
  {
   "cell_type": "markdown",
   "metadata": {},
   "source": [
    "#### (2) With your selected stock / market index using all attributes to predict ‘daily returns’(decision). (‘daily returns’ must first be converted into a decision class that will be used as the target(label), all other attributes must be grouped into classes)\n",
    "(a) Build a voting ensemble model and Explain how the voting technique affects the performance of the model.\n",
    "(b) Stack any models of your choice to create an ensemble.\n",
    "How does stacking compare with voting?"
   ]
  },
  {
   "cell_type": "code",
   "execution_count": 7,
   "metadata": {},
   "outputs": [
    {
     "name": "stdout",
     "output_type": "stream",
     "text": [
      "                  Open        High         Low       Close   Adj Close  Volume\n",
      "Date                                                                          \n",
      "1971-02-05  100.000000  100.000000  100.000000  100.000000  100.000000       0\n",
      "1971-02-08  100.839996  100.839996  100.839996  100.839996  100.839996       0\n",
      "1971-02-09  100.760002  100.760002  100.760002  100.760002  100.760002       0\n",
      "                    Open          High           Low         Close  \\\n",
      "Date                                                                 \n",
      "2021-09-20  14758.139648  14841.820312  14530.070312  14713.900391   \n",
      "2021-09-21  14803.400391  14847.027344  14696.467773  14779.216797   \n",
      "\n",
      "               Adj Close      Volume  Daily Return  Binary Decision  \\\n",
      "Date                                                                  \n",
      "2021-09-20  14713.900391  4860630000     -0.021940                0   \n",
      "2021-09-21  14779.216797  3083208000      0.004439                1   \n",
      "\n",
      "            Rolling Mean 5  Rolling Mean 10  Rolling Mean 20  Rolling Mean 50  \\\n",
      "Date                                                                            \n",
      "2021-09-20    15027.816016     15126.937012     15143.909961     14875.705195   \n",
      "2021-09-21    14976.107422     15067.425684     15135.738281     14876.624727   \n",
      "\n",
      "            Rolling Mean 200  \n",
      "Date                          \n",
      "2021-09-20      13856.711787  \n",
      "2021-09-21      13868.721973  \n"
     ]
    }
   ],
   "source": [
    "from sklearn.svm import LinearSVC\n",
    "\n",
    "stock_df = pd.read_csv(\"data/Nasdaq.csv\", index_col='Date')\n",
    "print(stock_df.head(3))\n",
    "\n",
    "daily_return = np.empty(stock_df['Close'].shape)\n",
    "#  From Slides: Daily return (r): Difference in percentage between\n",
    "#  price at time t+1 and time t\n",
    "daily_return[0] = float('NaN')  # The first\n",
    "daily_return[1:] = np.ediff1d(stock_df['Close']) / stock_df['Close'][:-1]\n",
    "stock_df.insert(loc=len(stock_df.columns), column='Daily Return', value=daily_return)\n",
    "\n",
    "binary = (daily_return > 0).astype(float)\n",
    "stock_df.insert(loc=len(stock_df.columns), column='Binary Decision', value=binary)\n",
    "stock_df[\"Binary Decision\"] = le.fit_transform(stock_df[\"Binary Decision\"])\n",
    "\n",
    "stock_df['Rolling Mean 5'] = stock_df['Close'].rolling(5).mean()\n",
    "stock_df['Rolling Mean 10'] = stock_df['Close'].rolling(10).mean()\n",
    "stock_df['Rolling Mean 20'] = stock_df['Close'].rolling(20).mean()\n",
    "stock_df['Rolling Mean 50'] = stock_df['Close'].rolling(50).mean()\n",
    "stock_df['Rolling Mean 200'] = stock_df['Close'].rolling(200).mean()\n",
    "stock_df = stock_df.fillna(0)  # NAs replaced with zero\n",
    "\n",
    "stock_models = {\n",
    "    'Linear SVM Kernel': LinearSVC(dual=False),\n",
    "    'Poly SVM Kernel': SVC(kernel='poly'),\n",
    "    'Rbf SVM Kernel': SVC(kernel='rbf'),\n",
    "    'Sigmoid SVM Kernel': SVC(kernel='sigmoid'),\n",
    "}\n",
    "print(stock_df.tail(2))"
   ]
  },
  {
   "cell_type": "markdown",
   "source": [
    "With the Rolling Mean, we already have a sort of grouping, thus I vouch to leave the values ungrouped and just work with the Rolling Mean, especially as it is what was also used in prior exercises."
   ],
   "metadata": {
    "collapsed": false
   }
  },
  {
   "cell_type": "code",
   "execution_count": 8,
   "outputs": [],
   "source": [
    "stock_df[\"Class Daily Return\"] = pd.qcut(stock_df[\"Daily Return\"], q=3)\n",
    "stock_df[\"Class Daily Return\"], _ = stock_df[\"Class Daily Return\"].factorize(sort=True)\n",
    "\n",
    "all_stock_features = ['Volume', 'Rolling Mean 5', 'Rolling Mean 10',\n",
    "                      'Rolling Mean 20', 'Rolling Mean 50', 'Rolling Mean 200']"
   ],
   "metadata": {
    "collapsed": false
   }
  },
  {
   "cell_type": "code",
   "execution_count": 9,
   "outputs": [],
   "source": [
    "def kfold_svm_stock_eval(model, x: pd.DataFrame, y: pd.DataFrame):\n",
    "    kf = KFold(n_splits=5)\n",
    "    accuracy = np.empty(kf.n_splits)\n",
    "    precision = np.empty(kf.n_splits)\n",
    "    recall = np.empty(kf.n_splits)\n",
    "    f1 = np.empty(kf.n_splits)\n",
    "\n",
    "    i = 0\n",
    "    for train_index, test_index in kf.split(x):\n",
    "        x_train, x_test = x.iloc[train_index], x.iloc[test_index]\n",
    "        y_train, y_test = y.iloc[train_index], y.iloc[test_index]\n",
    "\n",
    "        model.fit(x_train, y_train)\n",
    "        prediction = model.predict(x_test)\n",
    "\n",
    "        accuracy[i] = accuracy_score(prediction, y_test)\n",
    "        precision[i] = precision_score(prediction, y_test,\n",
    "                                       average='macro', zero_division=0)\n",
    "        recall[i] = recall_score(prediction, y_test,\n",
    "                                 average='macro', zero_division=0)\n",
    "        f1[i] = f1_score(prediction, y_test,\n",
    "                         average='macro', zero_division=0)\n",
    "        i += 1\n",
    "\n",
    "    print(name)\n",
    "    return accuracy, precision, recall, f1\n"
   ],
   "metadata": {
    "collapsed": false
   }
  },
  {
   "cell_type": "code",
   "execution_count": 10,
   "outputs": [
    {
     "name": "stdout",
     "output_type": "stream",
     "text": [
      "Linear SVM Kernel\n"
     ]
    },
    {
     "data": {
      "text/plain": "      Accuracy  Precision    Recall  F1-Score\nFold                                         \n1     0.398227   0.332787  0.216155  0.190712\n2     0.304313   0.319782  0.215310  0.227100\n3     0.385484   0.333333  0.128495  0.185487\n4     0.364516   0.333333  0.121505  0.178093\n5     0.317339   0.333333  0.105780  0.160596",
      "text/html": "<div>\n<style scoped>\n    .dataframe tbody tr th:only-of-type {\n        vertical-align: middle;\n    }\n\n    .dataframe tbody tr th {\n        vertical-align: top;\n    }\n\n    .dataframe thead th {\n        text-align: right;\n    }\n</style>\n<table border=\"1\" class=\"dataframe\">\n  <thead>\n    <tr style=\"text-align: right;\">\n      <th></th>\n      <th>Accuracy</th>\n      <th>Precision</th>\n      <th>Recall</th>\n      <th>F1-Score</th>\n    </tr>\n    <tr>\n      <th>Fold</th>\n      <th></th>\n      <th></th>\n      <th></th>\n      <th></th>\n    </tr>\n  </thead>\n  <tbody>\n    <tr>\n      <th>1</th>\n      <td>0.398227</td>\n      <td>0.332787</td>\n      <td>0.216155</td>\n      <td>0.190712</td>\n    </tr>\n    <tr>\n      <th>2</th>\n      <td>0.304313</td>\n      <td>0.319782</td>\n      <td>0.215310</td>\n      <td>0.227100</td>\n    </tr>\n    <tr>\n      <th>3</th>\n      <td>0.385484</td>\n      <td>0.333333</td>\n      <td>0.128495</td>\n      <td>0.185487</td>\n    </tr>\n    <tr>\n      <th>4</th>\n      <td>0.364516</td>\n      <td>0.333333</td>\n      <td>0.121505</td>\n      <td>0.178093</td>\n    </tr>\n    <tr>\n      <th>5</th>\n      <td>0.317339</td>\n      <td>0.333333</td>\n      <td>0.105780</td>\n      <td>0.160596</td>\n    </tr>\n  </tbody>\n</table>\n</div>"
     },
     "metadata": {},
     "output_type": "display_data"
    },
    {
     "name": "stdout",
     "output_type": "stream",
     "text": [
      "Poly SVM Kernel\n"
     ]
    },
    {
     "data": {
      "text/plain": "      Accuracy  Precision    Recall  F1-Score\nFold                                         \n1     0.289802   0.333333  0.096601  0.149792\n2     0.289399   0.333333  0.096466  0.149630\n3     0.256452   0.333333  0.085484  0.136072\n4     0.251210   0.333333  0.083770  0.133892\n5     0.354435   0.365574  0.264213  0.262435",
      "text/html": "<div>\n<style scoped>\n    .dataframe tbody tr th:only-of-type {\n        vertical-align: middle;\n    }\n\n    .dataframe tbody tr th {\n        vertical-align: top;\n    }\n\n    .dataframe thead th {\n        text-align: right;\n    }\n</style>\n<table border=\"1\" class=\"dataframe\">\n  <thead>\n    <tr style=\"text-align: right;\">\n      <th></th>\n      <th>Accuracy</th>\n      <th>Precision</th>\n      <th>Recall</th>\n      <th>F1-Score</th>\n    </tr>\n    <tr>\n      <th>Fold</th>\n      <th></th>\n      <th></th>\n      <th></th>\n      <th></th>\n    </tr>\n  </thead>\n  <tbody>\n    <tr>\n      <th>1</th>\n      <td>0.289802</td>\n      <td>0.333333</td>\n      <td>0.096601</td>\n      <td>0.149792</td>\n    </tr>\n    <tr>\n      <th>2</th>\n      <td>0.289399</td>\n      <td>0.333333</td>\n      <td>0.096466</td>\n      <td>0.149630</td>\n    </tr>\n    <tr>\n      <th>3</th>\n      <td>0.256452</td>\n      <td>0.333333</td>\n      <td>0.085484</td>\n      <td>0.136072</td>\n    </tr>\n    <tr>\n      <th>4</th>\n      <td>0.251210</td>\n      <td>0.333333</td>\n      <td>0.083770</td>\n      <td>0.133892</td>\n    </tr>\n    <tr>\n      <th>5</th>\n      <td>0.354435</td>\n      <td>0.365574</td>\n      <td>0.264213</td>\n      <td>0.262435</td>\n    </tr>\n  </tbody>\n</table>\n</div>"
     },
     "metadata": {},
     "output_type": "display_data"
    },
    {
     "name": "stdout",
     "output_type": "stream",
     "text": [
      "Rbf SVM Kernel\n"
     ]
    },
    {
     "data": {
      "text/plain": "      Accuracy  Precision    Recall  F1-Score\nFold                                         \n1     0.399033   0.333333  0.133011  0.190147\n2     0.414349   0.333009  0.138284  0.195419\n3     0.310081   0.374814  0.361534  0.238784\n4     0.377823   0.341705  0.606177  0.265555\n5     0.315726   0.331403  0.297484  0.166609",
      "text/html": "<div>\n<style scoped>\n    .dataframe tbody tr th:only-of-type {\n        vertical-align: middle;\n    }\n\n    .dataframe tbody tr th {\n        vertical-align: top;\n    }\n\n    .dataframe thead th {\n        text-align: right;\n    }\n</style>\n<table border=\"1\" class=\"dataframe\">\n  <thead>\n    <tr style=\"text-align: right;\">\n      <th></th>\n      <th>Accuracy</th>\n      <th>Precision</th>\n      <th>Recall</th>\n      <th>F1-Score</th>\n    </tr>\n    <tr>\n      <th>Fold</th>\n      <th></th>\n      <th></th>\n      <th></th>\n      <th></th>\n    </tr>\n  </thead>\n  <tbody>\n    <tr>\n      <th>1</th>\n      <td>0.399033</td>\n      <td>0.333333</td>\n      <td>0.133011</td>\n      <td>0.190147</td>\n    </tr>\n    <tr>\n      <th>2</th>\n      <td>0.414349</td>\n      <td>0.333009</td>\n      <td>0.138284</td>\n      <td>0.195419</td>\n    </tr>\n    <tr>\n      <th>3</th>\n      <td>0.310081</td>\n      <td>0.374814</td>\n      <td>0.361534</td>\n      <td>0.238784</td>\n    </tr>\n    <tr>\n      <th>4</th>\n      <td>0.377823</td>\n      <td>0.341705</td>\n      <td>0.606177</td>\n      <td>0.265555</td>\n    </tr>\n    <tr>\n      <th>5</th>\n      <td>0.315726</td>\n      <td>0.331403</td>\n      <td>0.297484</td>\n      <td>0.166609</td>\n    </tr>\n  </tbody>\n</table>\n</div>"
     },
     "metadata": {},
     "output_type": "display_data"
    },
    {
     "name": "stdout",
     "output_type": "stream",
     "text": [
      "Sigmoid SVM Kernel\n"
     ]
    },
    {
     "data": {
      "text/plain": "      Accuracy  Precision    Recall  F1-Score\nFold                                         \n1     0.289802   0.333333  0.096601  0.149792\n2     0.285369   0.323368  0.193278  0.225996\n3     0.362097   0.335218  0.282369  0.213611\n4     0.368952   0.331721  0.244251  0.272592\n5     0.326613   0.325263  0.194355  0.220808",
      "text/html": "<div>\n<style scoped>\n    .dataframe tbody tr th:only-of-type {\n        vertical-align: middle;\n    }\n\n    .dataframe tbody tr th {\n        vertical-align: top;\n    }\n\n    .dataframe thead th {\n        text-align: right;\n    }\n</style>\n<table border=\"1\" class=\"dataframe\">\n  <thead>\n    <tr style=\"text-align: right;\">\n      <th></th>\n      <th>Accuracy</th>\n      <th>Precision</th>\n      <th>Recall</th>\n      <th>F1-Score</th>\n    </tr>\n    <tr>\n      <th>Fold</th>\n      <th></th>\n      <th></th>\n      <th></th>\n      <th></th>\n    </tr>\n  </thead>\n  <tbody>\n    <tr>\n      <th>1</th>\n      <td>0.289802</td>\n      <td>0.333333</td>\n      <td>0.096601</td>\n      <td>0.149792</td>\n    </tr>\n    <tr>\n      <th>2</th>\n      <td>0.285369</td>\n      <td>0.323368</td>\n      <td>0.193278</td>\n      <td>0.225996</td>\n    </tr>\n    <tr>\n      <th>3</th>\n      <td>0.362097</td>\n      <td>0.335218</td>\n      <td>0.282369</td>\n      <td>0.213611</td>\n    </tr>\n    <tr>\n      <th>4</th>\n      <td>0.368952</td>\n      <td>0.331721</td>\n      <td>0.244251</td>\n      <td>0.272592</td>\n    </tr>\n    <tr>\n      <th>5</th>\n      <td>0.326613</td>\n      <td>0.325263</td>\n      <td>0.194355</td>\n      <td>0.220808</td>\n    </tr>\n  </tbody>\n</table>\n</div>"
     },
     "metadata": {},
     "output_type": "display_data"
    }
   ],
   "source": [
    "\n",
    "for name, model in stock_models.items():\n",
    "    a, p, r, f = kfold_svm_stock_eval(model, stock_df[all_stock_features],\n",
    "                                      stock_df[\"Class Daily Return\"])\n",
    "    stock_data = {\n",
    "        'Fold': [1, 2, 3, 4, 5],\n",
    "        'Accuracy': a,\n",
    "        'Precision': p,\n",
    "        'Recall': r,\n",
    "        'F1-Score': f,\n",
    "    }\n",
    "\n",
    "    stock_scores = pd.DataFrame(stock_data).set_index('Fold')\n",
    "    display(stock_scores)\n"
   ],
   "metadata": {
    "collapsed": false
   }
  },
  {
   "cell_type": "markdown",
   "metadata": {},
   "source": [
    "It seems like the poly kernel performs the worst, while rbf performs the best.\n",
    "\n",
    "Sigmoid is slightly behind linear in performance."
   ]
  }
 ],
 "metadata": {
  "kernelspec": {
   "display_name": "Python 3 (ipykernel)",
   "language": "python",
   "name": "python3"
  },
  "language_info": {
   "codemirror_mode": {
    "name": "ipython",
    "version": 3
   },
   "file_extension": ".py",
   "mimetype": "text/x-python",
   "name": "python",
   "nbconvert_exporter": "python",
   "pygments_lexer": "ipython3",
   "version": "3.9.2"
  }
 },
 "nbformat": 4,
 "nbformat_minor": 4
}