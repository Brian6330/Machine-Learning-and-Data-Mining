{
 "cells": [
  {
   "cell_type": "markdown",
   "metadata": {},
   "source": [
    "### Exercise 7 - Association Rules\n",
    "\n",
    "First name: Brian\n",
    "<br>\n",
    "Last name: Schweigler\n",
    "<br>\n",
    "Matriculation number: 16-102-071"
   ]
  },
  {
   "cell_type": "markdown",
   "metadata": {},
   "source": [
    "#### (1) Problem: Decide whether to wait for a table at a restaurant, based on various attributes.\n"
   ]
  },
  {
   "cell_type": "markdown",
   "metadata": {},
   "source": [
    "We will use the same classifiers as in last series, Decision Tree, KNN, Naive Bayes"
   ]
  },
  {
   "cell_type": "code",
   "execution_count": 31,
   "metadata": {},
   "outputs": [
    {
     "name": "stdout",
     "output_type": "stream",
     "text": [
      "The autoreload extension is already loaded. To reload it, use:\n",
      "  %reload_ext autoreload\n",
      "    choice  bar  day  hungry  patron  price  rain  booking  type  time\n",
      "2        4    4    3       3       9      0     3        3    10     0\n",
      "10       3    3    3       3       8      0     3        3    11     0\n",
      "9        4    4    4       4       6      2     3        4     7    20\n",
      "5        3    4    3       4       9      1     4        3     7     0\n",
      "3        4    3    4       4       6      0     3        3    11    20\n",
      "8        3    4    4       3       6      0     4        3    10    60\n",
      "11       4    4    4       4       6      0     3        3    10    40\n",
      "y_train =  [1 0 0 1 1 0 1] \n",
      "\n",
      "   choice  bar  day  hungry  patron  price  rain  booking  type  time\n",
      "7       3    3    3       4       9      1     4        4    11     0\n",
      "6       3    4    3       3       8      0     4        3    10    20\n",
      "4       4    3    4       3       6      2     3        4     5    60\n",
      "0       4    3    3       4       9      2     3        4     5     0\n",
      "1       4    3    3       4       6      0     3        3    11    40\n",
      "y_test =  [1 0 0 1 0]\n"
     ]
    }
   ],
   "source": [
    "%load_ext autoreload\n",
    "%autoreload 2\n",
    "%matplotlib inline\n",
    "\n",
    "import pandas as pd\n",
    "import numpy as np\n",
    "from sklearn.tree import DecisionTreeClassifier\n",
    "from sklearn import preprocessing\n",
    "from mlxtend.evaluate import accuracy_score\n",
    "from sklearn.neighbors import KNeighborsClassifier\n",
    "from sklearn.naive_bayes import GaussianNB\n",
    "from sklearn.metrics import accuracy_score, classification_report, confusion_matrix, precision_score, recall_score, f1_score\n",
    "from sklearn.model_selection import train_test_split\n",
    "from sklearn.feature_selection import RFE, SelectKBest, f_classif\n",
    "from sklearn import svm\n",
    "from mlxtend.frequent_patterns import apriori, association_rules\n",
    "\n",
    "df = pd.read_csv(\"data/restaurant.csv\")\n",
    "pd.set_option('display.max_colwidth', None)\n",
    "le = preprocessing.LabelEncoder()\n",
    "x_train = df[[\"choice\", \"bar\", \"day\", \"hungry\", \"patron\", \"price\", \"rain\", \"booking\", \"type\"]]\n",
    "x_train = pd.DataFrame(columns=x_train.columns, data=le.fit_transform(x_train.values.flatten()).reshape(x_train.shape))\n",
    "x_train[\"time\"] = df[\"time\"]\n",
    "\n",
    "y = le.fit(df[\"wait\"])\n",
    "y = le.transform(df[\"wait\"])\n",
    "\n",
    "Xd_train, Xd_test, y_train, y_test = train_test_split(x_train, y, test_size=0.4)\n",
    "\n",
    "print(Xd_train)\n",
    "print(\"y_train = \", y_train, \"\\n\")\n",
    "\n",
    "print(Xd_test)\n",
    "print(\"y_test = \", y_test)"
   ]
  },
  {
   "cell_type": "code",
   "execution_count": 26,
   "outputs": [
    {
     "name": "stdout",
     "output_type": "stream",
     "text": [
      "y_test with linear kernel =  [1 0 0 0 1]\n",
      "y_pred with linear kernel =  [0 1 1 1 1] \n",
      "\n",
      "NB_Accuracy with linear kernel =  0.2 \n",
      "\n",
      "Confusion Matrix with linear kernel \n",
      " [[0 3]\n",
      " [1 1]]\n"
     ]
    }
   ],
   "source": [
    "# Create a svm classifier using one kernel (linear, polynomial, and radial basis)\n",
    "clf = svm.SVC(kernel='linear')\n",
    "clf.fit(Xd_train, y_train)\n",
    "\n",
    "y_pred = clf.predict(Xd_test)\n",
    "NB_Accuracy = accuracy_score(y_test, y_pred)\n",
    "\n",
    "print(\"y_test with linear kernel = \", y_test)\n",
    "print(\"y_pred with linear kernel = \", y_pred, \"\\n\")\n",
    "print(\"NB_Accuracy with linear kernel = \", NB_Accuracy, \"\\n\")\n",
    "print(\"Confusion Matrix with linear kernel \\n\", confusion_matrix(y_test, y_pred))"
   ],
   "metadata": {
    "collapsed": false
   }
  },
  {
   "cell_type": "code",
   "execution_count": 27,
   "outputs": [
    {
     "name": "stdout",
     "output_type": "stream",
     "text": [
      "y_test with rbf kernel =  [1 0 0 0 1]\n",
      "y_pred with rbf kernel  =  [1 1 1 1 1] \n",
      "\n",
      "NB_Accuracy with rbf kernel  =  0.4 \n",
      "\n",
      "Confusion Matrix with rbf kernel \n",
      " [[0 3]\n",
      " [0 2]]\n"
     ]
    }
   ],
   "source": [
    "clf = svm.SVC(kernel='rbf')\n",
    "clf.fit(Xd_train, y_train)\n",
    "\n",
    "y_pred = clf.predict(Xd_test)\n",
    "NB_Accuracy = accuracy_score(y_test, y_pred)\n",
    "\n",
    "print(\"y_test with rbf kernel = \", y_test)\n",
    "print(\"y_pred with rbf kernel  = \", y_pred, \"\\n\")\n",
    "print(\"NB_Accuracy with rbf kernel  = \", NB_Accuracy, \"\\n\")\n",
    "print(\"Confusion Matrix with rbf kernel \\n\", confusion_matrix(y_test, y_pred))"
   ],
   "metadata": {
    "collapsed": false
   }
  },
  {
   "cell_type": "code",
   "execution_count": 28,
   "outputs": [
    {
     "name": "stdout",
     "output_type": "stream",
     "text": [
      "y_test with poly kernel =  [1 0 0 0 1]\n",
      "y_pred with poly kernel =  [1 1 1 1 1] \n",
      "\n",
      "NB_Accuracy with poly kernel =  0.4 \n",
      "\n",
      "Confusion Matrix with poly kernel \n",
      " [[0 3]\n",
      " [0 2]]\n"
     ]
    }
   ],
   "source": [
    "clf = svm.SVC(kernel='poly')\n",
    "clf.fit(Xd_train, y_train)\n",
    "\n",
    "y_pred = clf.predict(Xd_test)\n",
    "NB_Accuracy = accuracy_score(y_test, y_pred)\n",
    "\n",
    "print(\"y_test with poly kernel = \", y_test)\n",
    "print(\"y_pred with poly kernel = \", y_pred, \"\\n\")\n",
    "print(\"NB_Accuracy with poly kernel = \", NB_Accuracy, \"\\n\")\n",
    "print(\"Confusion Matrix with poly kernel \\n\", confusion_matrix(y_test, y_pred))"
   ],
   "metadata": {
    "collapsed": false
   }
  },
  {
   "cell_type": "markdown",
   "source": [
    "#### Co-occurence matrix"
   ],
   "metadata": {
    "collapsed": false
   }
  },
  {
   "cell_type": "code",
   "execution_count": null,
   "outputs": [],
   "source": [
    "cooc_mat = x_train.T.dot(x_train)\n",
    "cooc_mat"
   ],
   "metadata": {
    "collapsed": false
   }
  },
  {
   "cell_type": "markdown",
   "source": [
    "#### Calculate support, confidence, completeness, lift, and leverage for the following rules. Build the co-occurrence matrix. (again?)"
   ],
   "metadata": {
    "collapsed": false
   }
  },
  {
   "cell_type": "code",
   "execution_count": null,
   "outputs": [],
   "source": [],
   "metadata": {
    "collapsed": false
   }
  },
  {
   "cell_type": "markdown",
   "source": [
    "#### Explain these measures\n",
    "\n",
    "Support: The fraction of the total number of data entries in which the variable occurs.\n",
    "\n",
    "Confidence: The conditional probability of occurrence of consequent given the antecedent.\n",
    "\n",
    "Completeness: The ratio the overall transactions where the predicted item appear that is covered by the rule.\n",
    "\n",
    "Lift: Controls for the support (frequency) of consequent while calculating the conditional probability of occurrence of Y given X.\n",
    "\n",
    "Leverage: Leverage measures the difference of XX and YY appearing together in the data set and what would be expected if XX and YY were statistically dependent."
   ],
   "metadata": {
    "collapsed": false
   }
  },
  {
   "cell_type": "markdown",
   "source": [
    "#### Use the Apriori algorithm to find frequent item sets. We are only interested in item sets having a support value of at least 50%."
   ],
   "metadata": {
    "collapsed": false
   }
  },
  {
   "cell_type": "code",
   "execution_count": 58,
   "outputs": [
    {
     "data": {
      "text/plain": "  items  support     ordered_statistics\n0   (a)      0.5  [((), (a), 0.5, 1.0)]\n1   (n)      0.5  [((), (n), 0.5, 1.0)]\n2   (r)      0.5  [((), (r), 0.5, 1.0)]",
      "text/html": "<div>\n<style scoped>\n    .dataframe tbody tr th:only-of-type {\n        vertical-align: middle;\n    }\n\n    .dataframe tbody tr th {\n        vertical-align: top;\n    }\n\n    .dataframe thead th {\n        text-align: right;\n    }\n</style>\n<table border=\"1\" class=\"dataframe\">\n  <thead>\n    <tr style=\"text-align: right;\">\n      <th></th>\n      <th>items</th>\n      <th>support</th>\n      <th>ordered_statistics</th>\n    </tr>\n  </thead>\n  <tbody>\n    <tr>\n      <th>0</th>\n      <td>(a)</td>\n      <td>0.5</td>\n      <td>[((), (a), 0.5, 1.0)]</td>\n    </tr>\n    <tr>\n      <th>1</th>\n      <td>(n)</td>\n      <td>0.5</td>\n      <td>[((), (n), 0.5, 1.0)]</td>\n    </tr>\n    <tr>\n      <th>2</th>\n      <td>(r)</td>\n      <td>0.5</td>\n      <td>[((), (r), 0.5, 1.0)]</td>\n    </tr>\n  </tbody>\n</table>\n</div>"
     },
     "execution_count": 58,
     "metadata": {},
     "output_type": "execute_result"
    }
   ],
   "source": [
    "# Inspiration: https://www.kaggle.com/code/sangwookchn/association-rule-learning-with-scikit-learn\n",
    "from apyori import apriori\n",
    "rules = apriori(x_train[['choice', 'bar', 'day', 'hungry', 'patron', 'rain', 'booking', 'type']], min_support = 0.5, min_confidence = 0.1)\n",
    "results = list(rules)\n",
    "results = pd.DataFrame(results)\n",
    "results.head(5)"
   ],
   "metadata": {
    "collapsed": false
   }
  },
  {
   "cell_type": "markdown",
   "source": [
    "\n",
    "\n",
    "\n"
   ],
   "metadata": {
    "collapsed": false
   }
  }
 ],
 "metadata": {
  "kernelspec": {
   "display_name": "Python 3 (ipykernel)",
   "language": "python",
   "name": "python3"
  },
  "language_info": {
   "codemirror_mode": {
    "name": "ipython",
    "version": 3
   },
   "file_extension": ".py",
   "mimetype": "text/x-python",
   "name": "python",
   "nbconvert_exporter": "python",
   "pygments_lexer": "ipython3",
   "version": "3.9.2"
  }
 },
 "nbformat": 4,
 "nbformat_minor": 4
}
