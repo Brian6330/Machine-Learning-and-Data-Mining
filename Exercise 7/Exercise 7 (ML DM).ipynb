{
 "cells": [
  {
   "cell_type": "markdown",
   "metadata": {},
   "source": [
    "### Exercise 7 - Association Rules\n",
    "\n",
    "First name: Brian\n",
    "<br>\n",
    "Last name: Schweigler\n",
    "<br>\n",
    "Matriculation number: 16-102-071"
   ]
  },
  {
   "cell_type": "markdown",
   "metadata": {},
   "source": [
    "#### (1) Take the titanic dataset and using all attributes to predict the class `Survived' (convert age and fare into classes ; exclude names from the attribute list)\n",
    "\n",
    "\n",
    "#### (a) Choose Three classifiers and evaluate their performance using all attributes;\n"
   ]
  },
  {
   "cell_type": "markdown",
   "metadata": {},
   "source": [
    "We will use the same classifiers as in last series, Decision Tree, KNN, Naive Bayes"
   ]
  },
  {
   "cell_type": "code",
   "execution_count": 31,
   "metadata": {},
   "outputs": [
    {
     "name": "stdout",
     "output_type": "stream",
     "text": [
      "The autoreload extension is already loaded. To reload it, use:\n",
      "  %reload_ext autoreload\n",
      "    choice  bar  day  hungry  patron  price  rain  booking  type  time\n",
      "2        4    4    3       3       9      0     3        3    10     0\n",
      "10       3    3    3       3       8      0     3        3    11     0\n",
      "9        4    4    4       4       6      2     3        4     7    20\n",
      "5        3    4    3       4       9      1     4        3     7     0\n",
      "3        4    3    4       4       6      0     3        3    11    20\n",
      "8        3    4    4       3       6      0     4        3    10    60\n",
      "11       4    4    4       4       6      0     3        3    10    40\n",
      "y_train =  [1 0 0 1 1 0 1] \n",
      "\n",
      "   choice  bar  day  hungry  patron  price  rain  booking  type  time\n",
      "7       3    3    3       4       9      1     4        4    11     0\n",
      "6       3    4    3       3       8      0     4        3    10    20\n",
      "4       4    3    4       3       6      2     3        4     5    60\n",
      "0       4    3    3       4       9      2     3        4     5     0\n",
      "1       4    3    3       4       6      0     3        3    11    40\n",
      "y_test =  [1 0 0 1 0]\n"
     ]
    }
   ],
   "source": [
    "%load_ext autoreload\n",
    "%autoreload 2\n",
    "%matplotlib inline\n",
    "\n",
    "import pandas as pd\n",
    "import numpy as np\n",
    "from sklearn.tree import DecisionTreeClassifier\n",
    "from sklearn import preprocessing\n",
    "from mlxtend.evaluate import accuracy_score\n",
    "from sklearn.neighbors import KNeighborsClassifier\n",
    "from sklearn.naive_bayes import GaussianNB\n",
    "from sklearn.metrics import accuracy_score, classification_report, confusion_matrix, precision_score, recall_score, f1_score\n",
    "from sklearn.model_selection import train_test_split\n",
    "from sklearn.feature_selection import RFE, SelectKBest, f_classif\n",
    "from sklearn import svm\n",
    "from mlxtend.frequent_patterns import apriori, association_rules\n",
    "\n",
    "df = pd.read_csv(\"data/restaurant.csv\")\n",
    "pd.set_option('display.max_colwidth', None)\n",
    "le = preprocessing.LabelEncoder()\n",
    "x_train = df[[\"choice\", \"bar\", \"day\", \"hungry\", \"patron\", \"price\", \"rain\", \"booking\", \"type\"]]\n",
    "x_train = pd.DataFrame(columns=x_train.columns, data=le.fit_transform(x_train.values.flatten()).reshape(x_train.shape))\n",
    "x_train[\"time\"] = df[\"time\"]\n",
    "\n",
    "y = le.fit(df[\"wait\"])\n",
    "y = le.transform(df[\"wait\"])\n",
    "\n",
    "Xd_train, Xd_test, y_train, y_test = train_test_split(x_train, y, test_size=0.4)\n",
    "\n",
    "print(Xd_train)\n",
    "print(\"y_train = \", y_train, \"\\n\")\n",
    "\n",
    "print(Xd_test)\n",
    "print(\"y_test = \", y_test)"
   ]
  },
  {
   "cell_type": "code",
   "execution_count": 26,
   "outputs": [
    {
     "name": "stdout",
     "output_type": "stream",
     "text": [
      "y_test with linear kernel =  [1 0 0 0 1]\n",
      "y_pred with linear kernel =  [0 1 1 1 1] \n",
      "\n",
      "NB_Accuracy with linear kernel =  0.2 \n",
      "\n",
      "Confusion Matrix with linear kernel \n",
      " [[0 3]\n",
      " [1 1]]\n"
     ]
    }
   ],
   "source": [
    "# Create a svm classifier using one kernel (linear, polynomial, and radial basis)\n",
    "clf = svm.SVC(kernel='linear')\n",
    "clf.fit(Xd_train, y_train)\n",
    "\n",
    "y_pred = clf.predict(Xd_test)\n",
    "NB_Accuracy = accuracy_score(y_test, y_pred)\n",
    "\n",
    "print(\"y_test with linear kernel = \", y_test)\n",
    "print(\"y_pred with linear kernel = \", y_pred, \"\\n\")\n",
    "print(\"NB_Accuracy with linear kernel = \", NB_Accuracy, \"\\n\")\n",
    "print(\"Confusion Matrix with linear kernel \\n\", confusion_matrix(y_test, y_pred))"
   ],
   "metadata": {
    "collapsed": false
   }
  },
  {
   "cell_type": "code",
   "execution_count": 27,
   "outputs": [
    {
     "name": "stdout",
     "output_type": "stream",
     "text": [
      "y_test with rbf kernel =  [1 0 0 0 1]\n",
      "y_pred with rbf kernel  =  [1 1 1 1 1] \n",
      "\n",
      "NB_Accuracy with rbf kernel  =  0.4 \n",
      "\n",
      "Confusion Matrix with rbf kernel \n",
      " [[0 3]\n",
      " [0 2]]\n"
     ]
    }
   ],
   "source": [
    "clf = svm.SVC(kernel='rbf')\n",
    "clf.fit(Xd_train, y_train)\n",
    "\n",
    "y_pred = clf.predict(Xd_test)\n",
    "NB_Accuracy = accuracy_score(y_test, y_pred)\n",
    "\n",
    "print(\"y_test with rbf kernel = \", y_test)\n",
    "print(\"y_pred with rbf kernel  = \", y_pred, \"\\n\")\n",
    "print(\"NB_Accuracy with rbf kernel  = \", NB_Accuracy, \"\\n\")\n",
    "print(\"Confusion Matrix with rbf kernel \\n\", confusion_matrix(y_test, y_pred))"
   ],
   "metadata": {
    "collapsed": false
   }
  },
  {
   "cell_type": "code",
   "execution_count": 28,
   "outputs": [
    {
     "name": "stdout",
     "output_type": "stream",
     "text": [
      "y_test with poly kernel =  [1 0 0 0 1]\n",
      "y_pred with poly kernel =  [1 1 1 1 1] \n",
      "\n",
      "NB_Accuracy with poly kernel =  0.4 \n",
      "\n",
      "Confusion Matrix with poly kernel \n",
      " [[0 3]\n",
      " [0 2]]\n"
     ]
    }
   ],
   "source": [
    "clf = svm.SVC(kernel='poly')\n",
    "clf.fit(Xd_train, y_train)\n",
    "\n",
    "y_pred = clf.predict(Xd_test)\n",
    "NB_Accuracy = accuracy_score(y_test, y_pred)\n",
    "\n",
    "print(\"y_test with poly kernel = \", y_test)\n",
    "print(\"y_pred with poly kernel = \", y_pred, \"\\n\")\n",
    "print(\"NB_Accuracy with poly kernel = \", NB_Accuracy, \"\\n\")\n",
    "print(\"Confusion Matrix with poly kernel \\n\", confusion_matrix(y_test, y_pred))"
   ],
   "metadata": {
    "collapsed": false
   }
  },
  {
   "cell_type": "markdown",
   "source": [
    "#### Co-occurence matrix"
   ],
   "metadata": {
    "collapsed": false
   }
  },
  {
   "cell_type": "code",
   "execution_count": 42,
   "outputs": [
    {
     "data": {
      "text/plain": "         choice  bar  day  hungry  patron  price  rain  booking  type   time\nchoice      157  150  148     155     312     30   141      144   383    960\nbar         150  150  144     150     308     27   141      139   378    920\nday         148  144  143     147     294     28   136      137   367    980\nhungry      155  150  147     157     315     30   143      144   386    900\npatron      312  308  294     315     668     60   296      294   789   1600\nprice        30   27   28      30      60     14    26       31    52    160\nrain        141  141  136     143     296     26   136      133   362    860\nbooking     144  139  137     144     294     31   133      136   352    860\ntype        383  378  367     386     789     52   362      352  1032   2300\ntime        960  920  980     900    1600    160   860      860  2300  11600",
      "text/html": "<div>\n<style scoped>\n    .dataframe tbody tr th:only-of-type {\n        vertical-align: middle;\n    }\n\n    .dataframe tbody tr th {\n        vertical-align: top;\n    }\n\n    .dataframe thead th {\n        text-align: right;\n    }\n</style>\n<table border=\"1\" class=\"dataframe\">\n  <thead>\n    <tr style=\"text-align: right;\">\n      <th></th>\n      <th>choice</th>\n      <th>bar</th>\n      <th>day</th>\n      <th>hungry</th>\n      <th>patron</th>\n      <th>price</th>\n      <th>rain</th>\n      <th>booking</th>\n      <th>type</th>\n      <th>time</th>\n    </tr>\n  </thead>\n  <tbody>\n    <tr>\n      <th>choice</th>\n      <td>157</td>\n      <td>150</td>\n      <td>148</td>\n      <td>155</td>\n      <td>312</td>\n      <td>30</td>\n      <td>141</td>\n      <td>144</td>\n      <td>383</td>\n      <td>960</td>\n    </tr>\n    <tr>\n      <th>bar</th>\n      <td>150</td>\n      <td>150</td>\n      <td>144</td>\n      <td>150</td>\n      <td>308</td>\n      <td>27</td>\n      <td>141</td>\n      <td>139</td>\n      <td>378</td>\n      <td>920</td>\n    </tr>\n    <tr>\n      <th>day</th>\n      <td>148</td>\n      <td>144</td>\n      <td>143</td>\n      <td>147</td>\n      <td>294</td>\n      <td>28</td>\n      <td>136</td>\n      <td>137</td>\n      <td>367</td>\n      <td>980</td>\n    </tr>\n    <tr>\n      <th>hungry</th>\n      <td>155</td>\n      <td>150</td>\n      <td>147</td>\n      <td>157</td>\n      <td>315</td>\n      <td>30</td>\n      <td>143</td>\n      <td>144</td>\n      <td>386</td>\n      <td>900</td>\n    </tr>\n    <tr>\n      <th>patron</th>\n      <td>312</td>\n      <td>308</td>\n      <td>294</td>\n      <td>315</td>\n      <td>668</td>\n      <td>60</td>\n      <td>296</td>\n      <td>294</td>\n      <td>789</td>\n      <td>1600</td>\n    </tr>\n    <tr>\n      <th>price</th>\n      <td>30</td>\n      <td>27</td>\n      <td>28</td>\n      <td>30</td>\n      <td>60</td>\n      <td>14</td>\n      <td>26</td>\n      <td>31</td>\n      <td>52</td>\n      <td>160</td>\n    </tr>\n    <tr>\n      <th>rain</th>\n      <td>141</td>\n      <td>141</td>\n      <td>136</td>\n      <td>143</td>\n      <td>296</td>\n      <td>26</td>\n      <td>136</td>\n      <td>133</td>\n      <td>362</td>\n      <td>860</td>\n    </tr>\n    <tr>\n      <th>booking</th>\n      <td>144</td>\n      <td>139</td>\n      <td>137</td>\n      <td>144</td>\n      <td>294</td>\n      <td>31</td>\n      <td>133</td>\n      <td>136</td>\n      <td>352</td>\n      <td>860</td>\n    </tr>\n    <tr>\n      <th>type</th>\n      <td>383</td>\n      <td>378</td>\n      <td>367</td>\n      <td>386</td>\n      <td>789</td>\n      <td>52</td>\n      <td>362</td>\n      <td>352</td>\n      <td>1032</td>\n      <td>2300</td>\n    </tr>\n    <tr>\n      <th>time</th>\n      <td>960</td>\n      <td>920</td>\n      <td>980</td>\n      <td>900</td>\n      <td>1600</td>\n      <td>160</td>\n      <td>860</td>\n      <td>860</td>\n      <td>2300</td>\n      <td>11600</td>\n    </tr>\n  </tbody>\n</table>\n</div>"
     },
     "execution_count": 42,
     "metadata": {},
     "output_type": "execute_result"
    }
   ],
   "source": [
    "cooc_mat = x_train.T.dot(x_train)\n",
    "cooc_mat"
   ],
   "metadata": {
    "collapsed": false
   }
  },
  {
   "cell_type": "code",
   "execution_count": null,
   "outputs": [],
   "source": [
    "\n",
    "# Source: https://www.geeksforgeeks.org/implementing-apriori-algorithm-in-python/#:~:text=Apriori%20Algorithm%20is%20a%20Machine,present%20in%20the%20user's%20cart.\n",
    "frq_items = apriori(df[[\"choice\", \"bar\", \"day\", \"hungry\", \"patron\", \"price\", \"rain\", \"booking\", \"type\"]], min_support = 0.01, use_colnames = True)\n",
    "# rules = association_rules(frq_items, metric =\"support\")\n",
    "# rules = association_rules(frq_items, metric =\"confidence\")\n",
    "# rules = association_rules(frq_items, metric =\"completeness\")\n",
    "rules = association_rules(frq_items, metric =\"lift\")\n",
    "# rules = association_rules(frq_items, metric =\"leverage\")\n",
    "rules = rules.sort_values(['confidence', 'lift'], ascending =[False, False])\n",
    "print(rules.head())"
   ],
   "metadata": {
    "collapsed": false
   }
  },
  {
   "cell_type": "code",
   "execution_count": 45,
   "outputs": [
    {
     "data": {
      "text/plain": "    items  support  \\\n0  (b, k)      0.1   \n1  (d, y)      0.1   \n2  (k, g)      0.1   \n3  (u, g)      0.1   \n4  (u, h)      0.1   \n\n                                                                           ordered_statistics  \n0                                                [((b), (k), 0.5, 5.0), ((k), (b), 1.0, 5.0)]  \n1  [((d), (y), 1.0, 3.3333333333333335), ((y), (d), 0.33333333333333337, 3.3333333333333335)]  \n2                                                [((g), (k), 0.5, 5.0), ((k), (g), 1.0, 5.0)]  \n3                                                [((g), (u), 0.5, 5.0), ((u), (g), 1.0, 5.0)]  \n4                                                [((h), (u), 0.5, 5.0), ((u), (h), 1.0, 5.0)]  ",
      "text/html": "<div>\n<style scoped>\n    .dataframe tbody tr th:only-of-type {\n        vertical-align: middle;\n    }\n\n    .dataframe tbody tr th {\n        vertical-align: top;\n    }\n\n    .dataframe thead th {\n        text-align: right;\n    }\n</style>\n<table border=\"1\" class=\"dataframe\">\n  <thead>\n    <tr style=\"text-align: right;\">\n      <th></th>\n      <th>items</th>\n      <th>support</th>\n      <th>ordered_statistics</th>\n    </tr>\n  </thead>\n  <tbody>\n    <tr>\n      <th>0</th>\n      <td>(b, k)</td>\n      <td>0.1</td>\n      <td>[((b), (k), 0.5, 5.0), ((k), (b), 1.0, 5.0)]</td>\n    </tr>\n    <tr>\n      <th>1</th>\n      <td>(d, y)</td>\n      <td>0.1</td>\n      <td>[((d), (y), 1.0, 3.3333333333333335), ((y), (d), 0.33333333333333337, 3.3333333333333335)]</td>\n    </tr>\n    <tr>\n      <th>2</th>\n      <td>(k, g)</td>\n      <td>0.1</td>\n      <td>[((g), (k), 0.5, 5.0), ((k), (g), 1.0, 5.0)]</td>\n    </tr>\n    <tr>\n      <th>3</th>\n      <td>(u, g)</td>\n      <td>0.1</td>\n      <td>[((g), (u), 0.5, 5.0), ((u), (g), 1.0, 5.0)]</td>\n    </tr>\n    <tr>\n      <th>4</th>\n      <td>(u, h)</td>\n      <td>0.1</td>\n      <td>[((h), (u), 0.5, 5.0), ((u), (h), 1.0, 5.0)]</td>\n    </tr>\n  </tbody>\n</table>\n</div>"
     },
     "execution_count": 45,
     "metadata": {},
     "output_type": "execute_result"
    }
   ],
   "source": [
    "# Source: https://www.kaggle.com/code/sangwookchn/association-rule-learning-with-scikit-learn\n",
    "from apyori import apriori\n",
    "rules = apriori(x_train, min_support = 0.003, min_confidence = 0.2, min_lift = 3, min_length = 2)\n",
    "results = list(rules)\n",
    "results = pd.DataFrame(results)\n",
    "results.head(5)"
   ],
   "metadata": {
    "collapsed": false
   }
  },
  {
   "cell_type": "markdown",
   "source": [
    "#### Explain these measures\n",
    "\n",
    "Support: The fraction of the total number of data entries in which the variable occurs.\n",
    "\n",
    "Confidence: Confidence is the conditional probability of occurrence of consequent given the antecedent.\n",
    "\n",
    "Completeness: TODO\n",
    "\n",
    "Lift: Controls for the support (frequency) of consequent while calculating the conditional probability of occurrence of Y given X.\n",
    "\n",
    "Leverage: TODO\n",
    "\n",
    "\n"
   ],
   "metadata": {
    "collapsed": false
   }
  }
 ],
 "metadata": {
  "kernelspec": {
   "display_name": "Python 3 (ipykernel)",
   "language": "python",
   "name": "python3"
  },
  "language_info": {
   "codemirror_mode": {
    "name": "ipython",
    "version": 3
   },
   "file_extension": ".py",
   "mimetype": "text/x-python",
   "name": "python",
   "nbconvert_exporter": "python",
   "pygments_lexer": "ipython3",
   "version": "3.9.2"
  }
 },
 "nbformat": 4,
 "nbformat_minor": 4
}
