{
 "cells": [
  {
   "cell_type": "markdown",
   "metadata": {},
   "source": [
    "### Exercise 7 - Association Rules\n",
    "\n",
    "First name: Brian\n",
    "<br>\n",
    "Last name: Schweigler\n",
    "<br>\n",
    "Matriculation number: 16-102-071"
   ]
  },
  {
   "cell_type": "markdown",
   "metadata": {},
   "source": [
    "#### (1) Problem: Decide whether to wait for a table at a restaurant, based on various attributes.\n"
   ]
  },
  {
   "cell_type": "code",
   "execution_count": 1,
   "metadata": {},
   "outputs": [
    {
     "name": "stdout",
     "output_type": "stream",
     "text": [
      "    choice  bar  day  hungry  patron  price  rain  booking  type  time\n",
      "8        3    4    4       3       6      0     4        3    10    60\n",
      "0        4    3    3       4       9      2     3        4     5     0\n",
      "2        4    4    3       3       9      0     3        3    10     0\n",
      "9        4    4    4       4       6      2     3        4     7    20\n",
      "7        3    3    3       4       9      1     4        4    11     0\n",
      "10       3    3    3       3       8      0     3        3    11     0\n",
      "6        3    4    3       3       8      0     4        3    10    20\n",
      "y_train =  [0 1 1 0 1 0 0] \n",
      "\n",
      "    choice  bar  day  hungry  patron  price  rain  booking  type  time\n",
      "5        3    4    3       4       9      1     4        3     7     0\n",
      "11       4    4    4       4       6      0     3        3    10    40\n",
      "4        4    3    4       3       6      2     3        4     5    60\n",
      "3        4    3    4       4       6      0     3        3    11    20\n",
      "1        4    3    3       4       6      0     3        3    11    40\n",
      "y_test =  [1 1 0 1 0]\n"
     ]
    }
   ],
   "source": [
    "%load_ext autoreload\n",
    "%autoreload 2\n",
    "%matplotlib inline\n",
    "\n",
    "import pandas as pd\n",
    "import numpy as np\n",
    "from sklearn import preprocessing\n",
    "from sklearn.metrics import accuracy_score, classification_report, confusion_matrix\n",
    "from sklearn.model_selection import train_test_split\n",
    "from sklearn import svm\n",
    "from mlxtend.frequent_patterns import apriori, association_rules\n",
    "from mlxtend.preprocessing import TransactionEncoder\n",
    "from mlxtend.frequent_patterns import apriori\n",
    "\n",
    "df = pd.read_csv(\"data/restaurant.csv\")\n",
    "pd.set_option('display.max_colwidth', None)\n",
    "le = preprocessing.LabelEncoder()\n",
    "x_train = df[[\"choice\", \"bar\", \"day\", \"hungry\", \"patron\", \"price\",\n",
    "              \"rain\", \"booking\", \"type\"]]\n",
    "x_train = pd.DataFrame(columns=x_train.columns,\n",
    "                       data=le.fit_transform(x_train.values.flatten())\n",
    "                       .reshape(x_train.shape))\n",
    "x_train[\"time\"] = df[\"time\"]\n",
    "\n",
    "y = le.fit(df[\"wait\"])\n",
    "y = le.transform(df[\"wait\"])\n",
    "\n",
    "Xd_train, Xd_test, y_train, y_test = train_test_split(\n",
    "    x_train, y, test_size=0.4)\n",
    "\n",
    "print(Xd_train)\n",
    "print(\"y_train = \", y_train, \"\\n\")\n",
    "\n",
    "print(Xd_test)\n",
    "print(\"y_test = \", y_test)"
   ]
  },
  {
   "cell_type": "code",
   "execution_count": 2,
   "outputs": [
    {
     "name": "stdout",
     "output_type": "stream",
     "text": [
      "y_test with linear kernel =  [1 1 0 1 0]\n",
      "y_pred with linear kernel =  [1 0 0 0 0] \n",
      "\n",
      "NB_Accuracy with linear kernel =  0.6 \n",
      "\n",
      "Confusion Matrix with linear kernel \n",
      " [[2 0]\n",
      " [2 1]]\n"
     ]
    }
   ],
   "source": [
    "# Create a svm classifier using one kernel (linear, polynomial, and radial basis)\n",
    "clf = svm.SVC(kernel='linear')\n",
    "clf.fit(Xd_train, y_train)\n",
    "\n",
    "y_pred = clf.predict(Xd_test)\n",
    "NB_Accuracy = accuracy_score(y_test, y_pred)\n",
    "\n",
    "print(\"y_test with linear kernel = \", y_test)\n",
    "print(\"y_pred with linear kernel = \", y_pred, \"\\n\")\n",
    "print(\"NB_Accuracy with linear kernel = \", NB_Accuracy, \"\\n\")\n",
    "print(\"Confusion Matrix with linear kernel \\n\",\n",
    "      confusion_matrix(y_test, y_pred))"
   ],
   "metadata": {
    "collapsed": false
   }
  },
  {
   "cell_type": "markdown",
   "source": [
    "#### Co-occurence matrix"
   ],
   "metadata": {
    "collapsed": false
   }
  },
  {
   "cell_type": "code",
   "execution_count": 3,
   "outputs": [
    {
     "data": {
      "text/plain": "         choice  bar  day  hungry  patron  price  rain  booking  type   time\nchoice      157  150  148     155     312     30   141      144   383    960\nbar         150  150  144     150     308     27   141      139   378    920\nday         148  144  143     147     294     28   136      137   367    980\nhungry      155  150  147     157     315     30   143      144   386    900\npatron      312  308  294     315     668     60   296      294   789   1600\nprice        30   27   28      30      60     14    26       31    52    160\nrain        141  141  136     143     296     26   136      133   362    860\nbooking     144  139  137     144     294     31   133      136   352    860\ntype        383  378  367     386     789     52   362      352  1032   2300\ntime        960  920  980     900    1600    160   860      860  2300  11600",
      "text/html": "<div>\n<style scoped>\n    .dataframe tbody tr th:only-of-type {\n        vertical-align: middle;\n    }\n\n    .dataframe tbody tr th {\n        vertical-align: top;\n    }\n\n    .dataframe thead th {\n        text-align: right;\n    }\n</style>\n<table border=\"1\" class=\"dataframe\">\n  <thead>\n    <tr style=\"text-align: right;\">\n      <th></th>\n      <th>choice</th>\n      <th>bar</th>\n      <th>day</th>\n      <th>hungry</th>\n      <th>patron</th>\n      <th>price</th>\n      <th>rain</th>\n      <th>booking</th>\n      <th>type</th>\n      <th>time</th>\n    </tr>\n  </thead>\n  <tbody>\n    <tr>\n      <th>choice</th>\n      <td>157</td>\n      <td>150</td>\n      <td>148</td>\n      <td>155</td>\n      <td>312</td>\n      <td>30</td>\n      <td>141</td>\n      <td>144</td>\n      <td>383</td>\n      <td>960</td>\n    </tr>\n    <tr>\n      <th>bar</th>\n      <td>150</td>\n      <td>150</td>\n      <td>144</td>\n      <td>150</td>\n      <td>308</td>\n      <td>27</td>\n      <td>141</td>\n      <td>139</td>\n      <td>378</td>\n      <td>920</td>\n    </tr>\n    <tr>\n      <th>day</th>\n      <td>148</td>\n      <td>144</td>\n      <td>143</td>\n      <td>147</td>\n      <td>294</td>\n      <td>28</td>\n      <td>136</td>\n      <td>137</td>\n      <td>367</td>\n      <td>980</td>\n    </tr>\n    <tr>\n      <th>hungry</th>\n      <td>155</td>\n      <td>150</td>\n      <td>147</td>\n      <td>157</td>\n      <td>315</td>\n      <td>30</td>\n      <td>143</td>\n      <td>144</td>\n      <td>386</td>\n      <td>900</td>\n    </tr>\n    <tr>\n      <th>patron</th>\n      <td>312</td>\n      <td>308</td>\n      <td>294</td>\n      <td>315</td>\n      <td>668</td>\n      <td>60</td>\n      <td>296</td>\n      <td>294</td>\n      <td>789</td>\n      <td>1600</td>\n    </tr>\n    <tr>\n      <th>price</th>\n      <td>30</td>\n      <td>27</td>\n      <td>28</td>\n      <td>30</td>\n      <td>60</td>\n      <td>14</td>\n      <td>26</td>\n      <td>31</td>\n      <td>52</td>\n      <td>160</td>\n    </tr>\n    <tr>\n      <th>rain</th>\n      <td>141</td>\n      <td>141</td>\n      <td>136</td>\n      <td>143</td>\n      <td>296</td>\n      <td>26</td>\n      <td>136</td>\n      <td>133</td>\n      <td>362</td>\n      <td>860</td>\n    </tr>\n    <tr>\n      <th>booking</th>\n      <td>144</td>\n      <td>139</td>\n      <td>137</td>\n      <td>144</td>\n      <td>294</td>\n      <td>31</td>\n      <td>133</td>\n      <td>136</td>\n      <td>352</td>\n      <td>860</td>\n    </tr>\n    <tr>\n      <th>type</th>\n      <td>383</td>\n      <td>378</td>\n      <td>367</td>\n      <td>386</td>\n      <td>789</td>\n      <td>52</td>\n      <td>362</td>\n      <td>352</td>\n      <td>1032</td>\n      <td>2300</td>\n    </tr>\n    <tr>\n      <th>time</th>\n      <td>960</td>\n      <td>920</td>\n      <td>980</td>\n      <td>900</td>\n      <td>1600</td>\n      <td>160</td>\n      <td>860</td>\n      <td>860</td>\n      <td>2300</td>\n      <td>11600</td>\n    </tr>\n  </tbody>\n</table>\n</div>"
     },
     "execution_count": 3,
     "metadata": {},
     "output_type": "execute_result"
    }
   ],
   "source": [
    "cooc_mat = x_train.T.dot(x_train)\n",
    "cooc_mat"
   ],
   "metadata": {
    "collapsed": false
   }
  },
  {
   "cell_type": "markdown",
   "source": [
    "#### Calculate support, confidence, completeness, lift, and leverage for the following rules. Build the co-occurrence matrix. (again?)"
   ],
   "metadata": {
    "collapsed": false
   }
  },
  {
   "cell_type": "code",
   "execution_count": 4,
   "outputs": [
    {
     "data": {
      "text/plain": "      support            itemsets\n0    0.333333                 (a)\n1    0.166667                 (b)\n2    0.166667                 (c)\n3    0.083333                 (d)\n4    0.333333                 (e)\n..        ...                 ...\n256  0.083333     (y, h, n, r, u)\n257  0.083333     (t, o, n, p, r)\n258  0.083333  (a, t, o, n, p, r)\n259  0.083333  (b, k, i, o, n, g)\n260  0.083333  (y, h, u, n, r, g)\n\n[261 rows x 2 columns]",
      "text/html": "<div>\n<style scoped>\n    .dataframe tbody tr th:only-of-type {\n        vertical-align: middle;\n    }\n\n    .dataframe tbody tr th {\n        vertical-align: top;\n    }\n\n    .dataframe thead th {\n        text-align: right;\n    }\n</style>\n<table border=\"1\" class=\"dataframe\">\n  <thead>\n    <tr style=\"text-align: right;\">\n      <th></th>\n      <th>support</th>\n      <th>itemsets</th>\n    </tr>\n  </thead>\n  <tbody>\n    <tr>\n      <th>0</th>\n      <td>0.333333</td>\n      <td>(a)</td>\n    </tr>\n    <tr>\n      <th>1</th>\n      <td>0.166667</td>\n      <td>(b)</td>\n    </tr>\n    <tr>\n      <th>2</th>\n      <td>0.166667</td>\n      <td>(c)</td>\n    </tr>\n    <tr>\n      <th>3</th>\n      <td>0.083333</td>\n      <td>(d)</td>\n    </tr>\n    <tr>\n      <th>4</th>\n      <td>0.333333</td>\n      <td>(e)</td>\n    </tr>\n    <tr>\n      <th>...</th>\n      <td>...</td>\n      <td>...</td>\n    </tr>\n    <tr>\n      <th>256</th>\n      <td>0.083333</td>\n      <td>(y, h, n, r, u)</td>\n    </tr>\n    <tr>\n      <th>257</th>\n      <td>0.083333</td>\n      <td>(t, o, n, p, r)</td>\n    </tr>\n    <tr>\n      <th>258</th>\n      <td>0.083333</td>\n      <td>(a, t, o, n, p, r)</td>\n    </tr>\n    <tr>\n      <th>259</th>\n      <td>0.083333</td>\n      <td>(b, k, i, o, n, g)</td>\n    </tr>\n    <tr>\n      <th>260</th>\n      <td>0.083333</td>\n      <td>(y, h, u, n, r, g)</td>\n    </tr>\n  </tbody>\n</table>\n<p>261 rows × 2 columns</p>\n</div>"
     },
     "execution_count": 4,
     "metadata": {},
     "output_type": "execute_result"
    }
   ],
   "source": [
    "te = TransactionEncoder()\n",
    "te_ary = te.fit(x_train).transform(x_train)\n",
    "df_new = pd.DataFrame(te_ary, columns=te.columns_)\n",
    "\n",
    "frequent_itemsets = apriori(df_new,\n",
    "                            min_support=0.001, use_colnames=True)\n",
    "frequent_itemsets"
   ],
   "metadata": {
    "collapsed": false
   }
  },
  {
   "cell_type": "code",
   "execution_count": 5,
   "outputs": [
    {
     "data": {
      "text/plain": "     antecedents      consequents  antecedent support  consequent support  \\\n0            (a)              (b)            0.333333            0.166667   \n1            (b)              (a)            0.166667            0.333333   \n2            (a)              (d)            0.333333            0.083333   \n3            (d)              (a)            0.083333            0.333333   \n4            (a)              (i)            0.333333            0.416667   \n...          ...              ...                 ...                 ...   \n2287         (h)  (y, u, n, r, g)            0.166667            0.083333   \n2288         (u)  (y, h, n, r, g)            0.083333            0.083333   \n2289         (n)  (y, h, u, r, g)            0.333333            0.083333   \n2290         (r)  (y, h, u, n, g)            0.416667            0.083333   \n2291         (g)  (y, h, n, r, u)            0.166667            0.083333   \n\n       support  confidence  lift  leverage  conviction  \n0     0.083333        0.25   1.5  0.027778    1.111111  \n1     0.083333        0.50   1.5  0.027778    1.333333  \n2     0.083333        0.25   3.0  0.055556    1.222222  \n3     0.083333        1.00   3.0  0.055556         inf  \n4     0.083333        0.25   0.6 -0.055556    0.777778  \n...        ...         ...   ...       ...         ...  \n2287  0.083333        0.50   6.0  0.069444    1.833333  \n2288  0.083333        1.00  12.0  0.076389         inf  \n2289  0.083333        0.25   3.0  0.055556    1.222222  \n2290  0.083333        0.20   2.4  0.048611    1.145833  \n2291  0.083333        0.50   6.0  0.069444    1.833333  \n\n[2292 rows x 9 columns]",
      "text/html": "<div>\n<style scoped>\n    .dataframe tbody tr th:only-of-type {\n        vertical-align: middle;\n    }\n\n    .dataframe tbody tr th {\n        vertical-align: top;\n    }\n\n    .dataframe thead th {\n        text-align: right;\n    }\n</style>\n<table border=\"1\" class=\"dataframe\">\n  <thead>\n    <tr style=\"text-align: right;\">\n      <th></th>\n      <th>antecedents</th>\n      <th>consequents</th>\n      <th>antecedent support</th>\n      <th>consequent support</th>\n      <th>support</th>\n      <th>confidence</th>\n      <th>lift</th>\n      <th>leverage</th>\n      <th>conviction</th>\n    </tr>\n  </thead>\n  <tbody>\n    <tr>\n      <th>0</th>\n      <td>(a)</td>\n      <td>(b)</td>\n      <td>0.333333</td>\n      <td>0.166667</td>\n      <td>0.083333</td>\n      <td>0.25</td>\n      <td>1.5</td>\n      <td>0.027778</td>\n      <td>1.111111</td>\n    </tr>\n    <tr>\n      <th>1</th>\n      <td>(b)</td>\n      <td>(a)</td>\n      <td>0.166667</td>\n      <td>0.333333</td>\n      <td>0.083333</td>\n      <td>0.50</td>\n      <td>1.5</td>\n      <td>0.027778</td>\n      <td>1.333333</td>\n    </tr>\n    <tr>\n      <th>2</th>\n      <td>(a)</td>\n      <td>(d)</td>\n      <td>0.333333</td>\n      <td>0.083333</td>\n      <td>0.083333</td>\n      <td>0.25</td>\n      <td>3.0</td>\n      <td>0.055556</td>\n      <td>1.222222</td>\n    </tr>\n    <tr>\n      <th>3</th>\n      <td>(d)</td>\n      <td>(a)</td>\n      <td>0.083333</td>\n      <td>0.333333</td>\n      <td>0.083333</td>\n      <td>1.00</td>\n      <td>3.0</td>\n      <td>0.055556</td>\n      <td>inf</td>\n    </tr>\n    <tr>\n      <th>4</th>\n      <td>(a)</td>\n      <td>(i)</td>\n      <td>0.333333</td>\n      <td>0.416667</td>\n      <td>0.083333</td>\n      <td>0.25</td>\n      <td>0.6</td>\n      <td>-0.055556</td>\n      <td>0.777778</td>\n    </tr>\n    <tr>\n      <th>...</th>\n      <td>...</td>\n      <td>...</td>\n      <td>...</td>\n      <td>...</td>\n      <td>...</td>\n      <td>...</td>\n      <td>...</td>\n      <td>...</td>\n      <td>...</td>\n    </tr>\n    <tr>\n      <th>2287</th>\n      <td>(h)</td>\n      <td>(y, u, n, r, g)</td>\n      <td>0.166667</td>\n      <td>0.083333</td>\n      <td>0.083333</td>\n      <td>0.50</td>\n      <td>6.0</td>\n      <td>0.069444</td>\n      <td>1.833333</td>\n    </tr>\n    <tr>\n      <th>2288</th>\n      <td>(u)</td>\n      <td>(y, h, n, r, g)</td>\n      <td>0.083333</td>\n      <td>0.083333</td>\n      <td>0.083333</td>\n      <td>1.00</td>\n      <td>12.0</td>\n      <td>0.076389</td>\n      <td>inf</td>\n    </tr>\n    <tr>\n      <th>2289</th>\n      <td>(n)</td>\n      <td>(y, h, u, r, g)</td>\n      <td>0.333333</td>\n      <td>0.083333</td>\n      <td>0.083333</td>\n      <td>0.25</td>\n      <td>3.0</td>\n      <td>0.055556</td>\n      <td>1.222222</td>\n    </tr>\n    <tr>\n      <th>2290</th>\n      <td>(r)</td>\n      <td>(y, h, u, n, g)</td>\n      <td>0.416667</td>\n      <td>0.083333</td>\n      <td>0.083333</td>\n      <td>0.20</td>\n      <td>2.4</td>\n      <td>0.048611</td>\n      <td>1.145833</td>\n    </tr>\n    <tr>\n      <th>2291</th>\n      <td>(g)</td>\n      <td>(y, h, n, r, u)</td>\n      <td>0.166667</td>\n      <td>0.083333</td>\n      <td>0.083333</td>\n      <td>0.50</td>\n      <td>6.0</td>\n      <td>0.069444</td>\n      <td>1.833333</td>\n    </tr>\n  </tbody>\n</table>\n<p>2292 rows × 9 columns</p>\n</div>"
     },
     "execution_count": 5,
     "metadata": {},
     "output_type": "execute_result"
    }
   ],
   "source": [
    "association_rules(frequent_itemsets,\n",
    "                  metric=\"confidence\", min_threshold=0.001)"
   ],
   "metadata": {
    "collapsed": false
   }
  },
  {
   "cell_type": "markdown",
   "source": [
    "As I did not manage to enter the rules specifically, I decided to just have the min_support and min_threshold values as low as possible, to essentially just include all rules possible.\n",
    "\n",
    "This is bound to include the 10 rules mentioned."
   ],
   "metadata": {
    "collapsed": false
   },
   "outputs": []
  },
  {
   "cell_type": "markdown",
   "source": [
    "\n",
    "#### Explain these measures\n",
    "\n",
    "Support: The fraction of the total number of data entries in which the variable occurs.\n",
    "\n",
    "Confidence: The conditional probability of occurrence of consequent given the antecedent.\n",
    "\n",
    "Completeness: The ratio the overall transactions where the predicted item appear that is covered by the rule.\n",
    "\n",
    "Lift: Controls for the support (frequency) of consequent while calculating the conditional probability of occurrence of Y given X.\n",
    "\n",
    "Leverage: Leverage measures the difference of XX and YY appearing together in the data set and what would be expected if XX and YY were statistically dependent."
   ],
   "metadata": {
    "collapsed": false
   }
  },
  {
   "cell_type": "markdown",
   "source": [
    "#### Use the Apriori algorithm to find frequent item sets. We are only interested in item sets having a support value of at least 50%."
   ],
   "metadata": {
    "collapsed": false
   }
  },
  {
   "cell_type": "code",
   "execution_count": 6,
   "outputs": [
    {
     "data": {
      "text/plain": "  items  support     ordered_statistics\n0   (a)      0.5  [((), (a), 0.5, 1.0)]\n1   (n)      0.5  [((), (n), 0.5, 1.0)]\n2   (r)      0.5  [((), (r), 0.5, 1.0)]",
      "text/html": "<div>\n<style scoped>\n    .dataframe tbody tr th:only-of-type {\n        vertical-align: middle;\n    }\n\n    .dataframe tbody tr th {\n        vertical-align: top;\n    }\n\n    .dataframe thead th {\n        text-align: right;\n    }\n</style>\n<table border=\"1\" class=\"dataframe\">\n  <thead>\n    <tr style=\"text-align: right;\">\n      <th></th>\n      <th>items</th>\n      <th>support</th>\n      <th>ordered_statistics</th>\n    </tr>\n  </thead>\n  <tbody>\n    <tr>\n      <th>0</th>\n      <td>(a)</td>\n      <td>0.5</td>\n      <td>[((), (a), 0.5, 1.0)]</td>\n    </tr>\n    <tr>\n      <th>1</th>\n      <td>(n)</td>\n      <td>0.5</td>\n      <td>[((), (n), 0.5, 1.0)]</td>\n    </tr>\n    <tr>\n      <th>2</th>\n      <td>(r)</td>\n      <td>0.5</td>\n      <td>[((), (r), 0.5, 1.0)]</td>\n    </tr>\n  </tbody>\n</table>\n</div>"
     },
     "execution_count": 6,
     "metadata": {},
     "output_type": "execute_result"
    }
   ],
   "source": [
    "# Inspiration: https://www.kaggle.com/code/sangwookchn/association-rule-learning-with-scikit-learn\n",
    "from apyori import apriori\n",
    "\n",
    "rules = apriori(x_train[['choice', 'bar', 'day', 'hungry', 'patron', 'rain', 'booking', 'type']],\n",
    "                min_support=0.5,\n",
    "                min_confidence=0.01)\n",
    "results = list(rules)\n",
    "results = pd.DataFrame(results)\n",
    "results.head(5)"
   ],
   "metadata": {
    "collapsed": false
   }
  },
  {
   "cell_type": "markdown",
   "source": [
    "Alternative variant, where support is at max 0.25 for some reason:"
   ],
   "metadata": {
    "collapsed": false
   }
  },
  {
   "cell_type": "code",
   "execution_count": 7,
   "outputs": [
    {
     "data": {
      "text/plain": "  antecedents consequents  antecedent support  consequent support  support  \\\n0         (a)         (r)            0.333333            0.416667     0.25   \n1         (r)         (a)            0.416667            0.333333     0.25   \n2         (e)         (i)            0.333333            0.416667     0.25   \n3         (i)         (e)            0.416667            0.333333     0.25   \n4         (n)         (r)            0.333333            0.416667     0.25   \n5         (r)         (n)            0.416667            0.333333     0.25   \n\n   confidence  lift  leverage  conviction  \n0        0.75   1.8  0.111111    2.333333  \n1        0.60   1.8  0.111111    1.666667  \n2        0.75   1.8  0.111111    2.333333  \n3        0.60   1.8  0.111111    1.666667  \n4        0.75   1.8  0.111111    2.333333  \n5        0.60   1.8  0.111111    1.666667  ",
      "text/html": "<div>\n<style scoped>\n    .dataframe tbody tr th:only-of-type {\n        vertical-align: middle;\n    }\n\n    .dataframe tbody tr th {\n        vertical-align: top;\n    }\n\n    .dataframe thead th {\n        text-align: right;\n    }\n</style>\n<table border=\"1\" class=\"dataframe\">\n  <thead>\n    <tr style=\"text-align: right;\">\n      <th></th>\n      <th>antecedents</th>\n      <th>consequents</th>\n      <th>antecedent support</th>\n      <th>consequent support</th>\n      <th>support</th>\n      <th>confidence</th>\n      <th>lift</th>\n      <th>leverage</th>\n      <th>conviction</th>\n    </tr>\n  </thead>\n  <tbody>\n    <tr>\n      <th>0</th>\n      <td>(a)</td>\n      <td>(r)</td>\n      <td>0.333333</td>\n      <td>0.416667</td>\n      <td>0.25</td>\n      <td>0.75</td>\n      <td>1.8</td>\n      <td>0.111111</td>\n      <td>2.333333</td>\n    </tr>\n    <tr>\n      <th>1</th>\n      <td>(r)</td>\n      <td>(a)</td>\n      <td>0.416667</td>\n      <td>0.333333</td>\n      <td>0.25</td>\n      <td>0.60</td>\n      <td>1.8</td>\n      <td>0.111111</td>\n      <td>1.666667</td>\n    </tr>\n    <tr>\n      <th>2</th>\n      <td>(e)</td>\n      <td>(i)</td>\n      <td>0.333333</td>\n      <td>0.416667</td>\n      <td>0.25</td>\n      <td>0.75</td>\n      <td>1.8</td>\n      <td>0.111111</td>\n      <td>2.333333</td>\n    </tr>\n    <tr>\n      <th>3</th>\n      <td>(i)</td>\n      <td>(e)</td>\n      <td>0.416667</td>\n      <td>0.333333</td>\n      <td>0.25</td>\n      <td>0.60</td>\n      <td>1.8</td>\n      <td>0.111111</td>\n      <td>1.666667</td>\n    </tr>\n    <tr>\n      <th>4</th>\n      <td>(n)</td>\n      <td>(r)</td>\n      <td>0.333333</td>\n      <td>0.416667</td>\n      <td>0.25</td>\n      <td>0.75</td>\n      <td>1.8</td>\n      <td>0.111111</td>\n      <td>2.333333</td>\n    </tr>\n    <tr>\n      <th>5</th>\n      <td>(r)</td>\n      <td>(n)</td>\n      <td>0.416667</td>\n      <td>0.333333</td>\n      <td>0.25</td>\n      <td>0.60</td>\n      <td>1.8</td>\n      <td>0.111111</td>\n      <td>1.666667</td>\n    </tr>\n  </tbody>\n</table>\n</div>"
     },
     "execution_count": 7,
     "metadata": {},
     "output_type": "execute_result"
    }
   ],
   "source": [
    "rules = association_rules(frequent_itemsets,\n",
    "                          metric=\"support\", min_threshold=0.25)\n",
    "rules"
   ],
   "metadata": {
    "collapsed": false
   }
  },
  {
   "cell_type": "markdown",
   "source": [
    "\n",
    "\n",
    "\n"
   ],
   "metadata": {
    "collapsed": false
   }
  }
 ],
 "metadata": {
  "kernelspec": {
   "display_name": "Python 3 (ipykernel)",
   "language": "python",
   "name": "python3"
  },
  "language_info": {
   "codemirror_mode": {
    "name": "ipython",
    "version": 3
   },
   "file_extension": ".py",
   "mimetype": "text/x-python",
   "name": "python",
   "nbconvert_exporter": "python",
   "pygments_lexer": "ipython3",
   "version": "3.9.2"
  }
 },
 "nbformat": 4,
 "nbformat_minor": 4
}
