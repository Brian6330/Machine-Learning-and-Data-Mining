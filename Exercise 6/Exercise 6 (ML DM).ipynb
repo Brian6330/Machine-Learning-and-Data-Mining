{
 "cells": [
  {
   "cell_type": "markdown",
   "metadata": {},
   "source": [
    "### Exercise 6 - Feature Selection\n",
    "\n",
    "First name: Brian\n",
    "<br>\n",
    "Last name: Schweigler\n",
    "<br>\n",
    "Matriculation number: 16-102-071"
   ]
  },
  {
   "cell_type": "markdown",
   "metadata": {},
   "source": [
    "#### (1) Take the titanic dataset and using all attributes to predict the class `Survived' (convert age and fare into classes ; exclude names from the attribute list)\n",
    "\n",
    "\n",
    "#### (a) Choose Three classifiers and evaluate their performance using all attributes;\n"
   ]
  },
  {
   "cell_type": "markdown",
   "metadata": {},
   "source": [
    "We will use the same classifiers as in last series, Decision Tree, KNN, Naive Bayes"
   ]
  },
  {
   "cell_type": "code",
   "execution_count": 1,
   "metadata": {},
   "outputs": [
    {
     "name": "stdout",
     "output_type": "stream",
     "text": [
      "                                                    Survived  Pclass  Sex  \\\n",
      "Name                                                                        \n",
      "Mr. Owen Harris Braund                                     0       3    1   \n",
      "Mrs. John Bradley (Florence Briggs Thayer) Cumings         1       1    0   \n",
      "\n",
      "                                                     Age  \\\n",
      "Name                                                       \n",
      "Mr. Owen Harris Braund                              22.0   \n",
      "Mrs. John Bradley (Florence Briggs Thayer) Cumings  38.0   \n",
      "\n",
      "                                                    Siblings/Spouses Aboard  \\\n",
      "Name                                                                          \n",
      "Mr. Owen Harris Braund                                                    1   \n",
      "Mrs. John Bradley (Florence Briggs Thayer) Cumings                        1   \n",
      "\n",
      "                                                    Parents/Children Aboard  \\\n",
      "Name                                                                          \n",
      "Mr. Owen Harris Braund                                                    0   \n",
      "Mrs. John Bradley (Florence Briggs Thayer) Cumings                        0   \n",
      "\n",
      "                                                       Fare  AgeGroup  \\\n",
      "Name                                                                    \n",
      "Mr. Owen Harris Braund                               7.2500         2   \n",
      "Mrs. John Bradley (Florence Briggs Thayer) Cumings  71.2833         2   \n",
      "\n",
      "                                                    FareGroup  \n",
      "Name                                                           \n",
      "Mr. Owen Harris Braund                                      0  \n",
      "Mrs. John Bradley (Florence Briggs Thayer) Cumings          3  \n"
     ]
    }
   ],
   "source": [
    "%load_ext autoreload\n",
    "%autoreload 2\n",
    "%matplotlib inline\n",
    "\n",
    "import pandas as pd\n",
    "import numpy as np\n",
    "from sklearn.tree import DecisionTreeClassifier\n",
    "from sklearn import preprocessing\n",
    "from mlxtend.evaluate import accuracy_score\n",
    "from sklearn.neighbors import KNeighborsClassifier\n",
    "from sklearn.naive_bayes import GaussianNB\n",
    "from sklearn.metrics import accuracy_score, precision_score, recall_score, f1_score\n",
    "from sklearn.model_selection import train_test_split\n",
    "from sklearn.feature_selection import RFE, SelectKBest, f_classif\n",
    "from sklearn.decomposition import PCA\n",
    "\n",
    "df = pd.read_csv(\"data/titanic.csv\", index_col='Name')\n",
    "pd.set_option('display.max_colwidth', None)\n",
    "le = preprocessing.LabelEncoder()\n",
    "bins = [0, 4, 18, 65, 100]\n",
    "labels = ['Infant', 'Child', 'Adult', 'Elderly']\n",
    "labels = [1, 2, 3, 4]\n",
    "df['AgeGroup'] = pd.cut(df['Age'], bins=bins, labels=labels, right=False)\n",
    "df[\"AgeGroup\"] = le.fit_transform(df[\"AgeGroup\"])\n",
    "df['FareGroup'] = pd.qcut(x=df['Fare'], q=4)\n",
    "df[\"FareGroup\"] = le.fit_transform(df[\"FareGroup\"])\n",
    "df[\"Survived\"] = le.fit_transform(df[\"Survived\"])\n",
    "df[\"Sex\"] = le.fit_transform(df[\"Sex\"])\n",
    "print(df.head(2))\n",
    "\n",
    "models = {\n",
    "    'Decision Tree': DecisionTreeClassifier(),\n",
    "    'KNN': KNeighborsClassifier(metric='manhattan'),\n",
    "    'Naive Bayes': GaussianNB(),\n",
    "}"
   ]
  },
  {
   "cell_type": "code",
   "execution_count": 2,
   "metadata": {},
   "outputs": [
    {
     "name": "stdout",
     "output_type": "stream",
     "text": [
      "DecisionTreeClassifier()\n"
     ]
    },
    {
     "data": {
      "text/plain": "      Accuracy  Precision    Recall  F1-Score\nFold                                         \n1     0.814607   0.661765  0.818182  0.731707\n2     0.803371   0.625000  0.849057  0.720000\n3     0.774011   0.716418  0.695652  0.705882\n4     0.745763   0.614286  0.704918  0.656489\n5     0.858757   0.738462  0.857143  0.793388",
      "text/html": "<div>\n<style scoped>\n    .dataframe tbody tr th:only-of-type {\n        vertical-align: middle;\n    }\n\n    .dataframe tbody tr th {\n        vertical-align: top;\n    }\n\n    .dataframe thead th {\n        text-align: right;\n    }\n</style>\n<table border=\"1\" class=\"dataframe\">\n  <thead>\n    <tr style=\"text-align: right;\">\n      <th></th>\n      <th>Accuracy</th>\n      <th>Precision</th>\n      <th>Recall</th>\n      <th>F1-Score</th>\n    </tr>\n    <tr>\n      <th>Fold</th>\n      <th></th>\n      <th></th>\n      <th></th>\n      <th></th>\n    </tr>\n  </thead>\n  <tbody>\n    <tr>\n      <th>1</th>\n      <td>0.814607</td>\n      <td>0.661765</td>\n      <td>0.818182</td>\n      <td>0.731707</td>\n    </tr>\n    <tr>\n      <th>2</th>\n      <td>0.803371</td>\n      <td>0.625000</td>\n      <td>0.849057</td>\n      <td>0.720000</td>\n    </tr>\n    <tr>\n      <th>3</th>\n      <td>0.774011</td>\n      <td>0.716418</td>\n      <td>0.695652</td>\n      <td>0.705882</td>\n    </tr>\n    <tr>\n      <th>4</th>\n      <td>0.745763</td>\n      <td>0.614286</td>\n      <td>0.704918</td>\n      <td>0.656489</td>\n    </tr>\n    <tr>\n      <th>5</th>\n      <td>0.858757</td>\n      <td>0.738462</td>\n      <td>0.857143</td>\n      <td>0.793388</td>\n    </tr>\n  </tbody>\n</table>\n</div>"
     },
     "metadata": {},
     "output_type": "display_data"
    },
    {
     "name": "stdout",
     "output_type": "stream",
     "text": [
      "KNeighborsClassifier(metric='manhattan')\n"
     ]
    },
    {
     "data": {
      "text/plain": "      Accuracy  Precision    Recall  F1-Score\nFold                                         \n1     0.842697   0.691176  0.870370  0.770492\n2     0.837079   0.666667  0.905660  0.768000\n3     0.813559   0.731343  0.765625  0.748092\n4     0.796610   0.642857  0.803571  0.714286\n5     0.841808   0.707692  0.836364  0.766667",
      "text/html": "<div>\n<style scoped>\n    .dataframe tbody tr th:only-of-type {\n        vertical-align: middle;\n    }\n\n    .dataframe tbody tr th {\n        vertical-align: top;\n    }\n\n    .dataframe thead th {\n        text-align: right;\n    }\n</style>\n<table border=\"1\" class=\"dataframe\">\n  <thead>\n    <tr style=\"text-align: right;\">\n      <th></th>\n      <th>Accuracy</th>\n      <th>Precision</th>\n      <th>Recall</th>\n      <th>F1-Score</th>\n    </tr>\n    <tr>\n      <th>Fold</th>\n      <th></th>\n      <th></th>\n      <th></th>\n      <th></th>\n    </tr>\n  </thead>\n  <tbody>\n    <tr>\n      <th>1</th>\n      <td>0.842697</td>\n      <td>0.691176</td>\n      <td>0.870370</td>\n      <td>0.770492</td>\n    </tr>\n    <tr>\n      <th>2</th>\n      <td>0.837079</td>\n      <td>0.666667</td>\n      <td>0.905660</td>\n      <td>0.768000</td>\n    </tr>\n    <tr>\n      <th>3</th>\n      <td>0.813559</td>\n      <td>0.731343</td>\n      <td>0.765625</td>\n      <td>0.748092</td>\n    </tr>\n    <tr>\n      <th>4</th>\n      <td>0.796610</td>\n      <td>0.642857</td>\n      <td>0.803571</td>\n      <td>0.714286</td>\n    </tr>\n    <tr>\n      <th>5</th>\n      <td>0.841808</td>\n      <td>0.707692</td>\n      <td>0.836364</td>\n      <td>0.766667</td>\n    </tr>\n  </tbody>\n</table>\n</div>"
     },
     "metadata": {},
     "output_type": "display_data"
    },
    {
     "name": "stdout",
     "output_type": "stream",
     "text": [
      "GaussianNB()\n"
     ]
    },
    {
     "data": {
      "text/plain": "      Accuracy  Precision    Recall  F1-Score\nFold                                         \n1     0.764045   0.691176  0.691176  0.691176\n2     0.735955   0.722222  0.658228  0.688742\n3     0.768362   0.820896  0.654762  0.728477\n4     0.728814   0.828571  0.617021  0.707317\n5     0.807910   0.830769  0.701299  0.760563",
      "text/html": "<div>\n<style scoped>\n    .dataframe tbody tr th:only-of-type {\n        vertical-align: middle;\n    }\n\n    .dataframe tbody tr th {\n        vertical-align: top;\n    }\n\n    .dataframe thead th {\n        text-align: right;\n    }\n</style>\n<table border=\"1\" class=\"dataframe\">\n  <thead>\n    <tr style=\"text-align: right;\">\n      <th></th>\n      <th>Accuracy</th>\n      <th>Precision</th>\n      <th>Recall</th>\n      <th>F1-Score</th>\n    </tr>\n    <tr>\n      <th>Fold</th>\n      <th></th>\n      <th></th>\n      <th></th>\n      <th></th>\n    </tr>\n  </thead>\n  <tbody>\n    <tr>\n      <th>1</th>\n      <td>0.764045</td>\n      <td>0.691176</td>\n      <td>0.691176</td>\n      <td>0.691176</td>\n    </tr>\n    <tr>\n      <th>2</th>\n      <td>0.735955</td>\n      <td>0.722222</td>\n      <td>0.658228</td>\n      <td>0.688742</td>\n    </tr>\n    <tr>\n      <th>3</th>\n      <td>0.768362</td>\n      <td>0.820896</td>\n      <td>0.654762</td>\n      <td>0.728477</td>\n    </tr>\n    <tr>\n      <th>4</th>\n      <td>0.728814</td>\n      <td>0.828571</td>\n      <td>0.617021</td>\n      <td>0.707317</td>\n    </tr>\n    <tr>\n      <th>5</th>\n      <td>0.807910</td>\n      <td>0.830769</td>\n      <td>0.701299</td>\n      <td>0.760563</td>\n    </tr>\n  </tbody>\n</table>\n</div>"
     },
     "metadata": {},
     "output_type": "display_data"
    }
   ],
   "source": [
    "all_features = ['Pclass', 'Sex', 'Siblings/Spouses Aboard',\n",
    "                'Parents/Children Aboard', 'AgeGroup', 'FareGroup']\n",
    "\n",
    "\n",
    "def kfold_eval(model, x: pd.DataFrame, y: pd.DataFrame):\n",
    "    kf = KFold(n_splits=5, shuffle=True, random_state=6)\n",
    "    accuracy = np.empty(kf.n_splits)\n",
    "    precision = np.empty(kf.n_splits)\n",
    "    recall = np.empty(kf.n_splits)\n",
    "    f1 = np.empty(kf.n_splits)\n",
    "\n",
    "    i = 0\n",
    "    for train_index, test_index in kf.split(x):\n",
    "        x_train, x_test = x.iloc[train_index], x.iloc[test_index]\n",
    "        y_train, y_test = y.iloc[train_index], y.iloc[test_index]\n",
    "\n",
    "        model.fit(x_train, y_train)\n",
    "        prediction = model.predict(x_test)\n",
    "\n",
    "        accuracy[i] = accuracy_score(prediction, y_test)\n",
    "        precision[i] = precision_score(prediction, y_test)\n",
    "        recall[i] = recall_score(prediction, y_test)\n",
    "        f1[i] = f1_score(prediction, y_test)\n",
    "        i += 1\n",
    "\n",
    "    print(model)\n",
    "    return accuracy, precision, recall, f1\n",
    "\n",
    "\n",
    "for name, model in models.items():\n",
    "    a, p, r, f = kfold_eval(model, df[all_features], df[\"Survived\"])\n",
    "    data = {\n",
    "        'Fold': [1, 2, 3, 4, 5],\n",
    "        'Accuracy': a,\n",
    "        'Precision': p,\n",
    "        'Recall': r,\n",
    "        'F1-Score': f,\n",
    "    }\n",
    "\n",
    "    scores = pd.DataFrame(data).set_index('Fold')\n",
    "    display(scores)"
   ]
  },
  {
   "cell_type": "markdown",
   "metadata": {},
   "source": [
    "\n",
    "#### (b) Define a feature selection method and use it on all the classifiers ;\n",
    "\n",
    "Our approach will be using PCA"
   ]
  },
  {
   "cell_type": "code",
   "execution_count": 3,
   "outputs": [
    {
     "name": "stdout",
     "output_type": "stream",
     "text": [
      "Explained Variance: [0.48313985 0.27595039 0.11107641 0.04733949]  \n",
      "\n",
      "[[-0.27269815 -0.09305713  0.54242269  0.33034372 -0.11331966  0.70766192]\n",
      " [ 0.60450815  0.01781941  0.63204615  0.23097823 -0.18033632 -0.3858729 ]\n",
      " [ 0.17721424 -0.17735289 -0.4875729   0.8300098  -0.10135234  0.01500562]\n",
      " [ 0.00589098  0.94848776 -0.01035563  0.22062434  0.21703746  0.06669835]]\n",
      "DecisionTreeClassifier()\n"
     ]
    },
    {
     "data": {
      "text/plain": "      Accuracy  Precision    Recall  F1-Score\nFold                                         \n1     0.820225   0.647059  0.846154  0.733333\n2     0.792135   0.583333  0.857143  0.694215\n3     0.762712   0.701493  0.681159  0.691176\n4     0.768362   0.657143  0.730159  0.691729\n5     0.830508   0.661538  0.843137  0.741379",
      "text/html": "<div>\n<style scoped>\n    .dataframe tbody tr th:only-of-type {\n        vertical-align: middle;\n    }\n\n    .dataframe tbody tr th {\n        vertical-align: top;\n    }\n\n    .dataframe thead th {\n        text-align: right;\n    }\n</style>\n<table border=\"1\" class=\"dataframe\">\n  <thead>\n    <tr style=\"text-align: right;\">\n      <th></th>\n      <th>Accuracy</th>\n      <th>Precision</th>\n      <th>Recall</th>\n      <th>F1-Score</th>\n    </tr>\n    <tr>\n      <th>Fold</th>\n      <th></th>\n      <th></th>\n      <th></th>\n      <th></th>\n    </tr>\n  </thead>\n  <tbody>\n    <tr>\n      <th>1</th>\n      <td>0.820225</td>\n      <td>0.647059</td>\n      <td>0.846154</td>\n      <td>0.733333</td>\n    </tr>\n    <tr>\n      <th>2</th>\n      <td>0.792135</td>\n      <td>0.583333</td>\n      <td>0.857143</td>\n      <td>0.694215</td>\n    </tr>\n    <tr>\n      <th>3</th>\n      <td>0.762712</td>\n      <td>0.701493</td>\n      <td>0.681159</td>\n      <td>0.691176</td>\n    </tr>\n    <tr>\n      <th>4</th>\n      <td>0.768362</td>\n      <td>0.657143</td>\n      <td>0.730159</td>\n      <td>0.691729</td>\n    </tr>\n    <tr>\n      <th>5</th>\n      <td>0.830508</td>\n      <td>0.661538</td>\n      <td>0.843137</td>\n      <td>0.741379</td>\n    </tr>\n  </tbody>\n</table>\n</div>"
     },
     "metadata": {},
     "output_type": "display_data"
    },
    {
     "name": "stdout",
     "output_type": "stream",
     "text": [
      "Explained Variance: [0.48313985 0.27595039 0.11107641 0.04733949]  \n",
      "\n",
      "[[-0.27269815 -0.09305713  0.54242269  0.33034372 -0.11331966  0.70766192]\n",
      " [ 0.60450815  0.01781941  0.63204615  0.23097823 -0.18033632 -0.3858729 ]\n",
      " [ 0.17721424 -0.17735289 -0.4875729   0.8300098  -0.10135234  0.01500562]\n",
      " [ 0.00589098  0.94848776 -0.01035563  0.22062434  0.21703746  0.06669835]]\n",
      "KNeighborsClassifier(metric='manhattan')\n"
     ]
    },
    {
     "data": {
      "text/plain": "      Accuracy  Precision    Recall  F1-Score\nFold                                         \n1     0.837079   0.691176  0.854545  0.764228\n2     0.797753   0.597222  0.860000  0.704918\n3     0.779661   0.746269  0.694444  0.719424\n4     0.774011   0.757143  0.697368  0.726027\n5     0.830508   0.738462  0.786885  0.761905",
      "text/html": "<div>\n<style scoped>\n    .dataframe tbody tr th:only-of-type {\n        vertical-align: middle;\n    }\n\n    .dataframe tbody tr th {\n        vertical-align: top;\n    }\n\n    .dataframe thead th {\n        text-align: right;\n    }\n</style>\n<table border=\"1\" class=\"dataframe\">\n  <thead>\n    <tr style=\"text-align: right;\">\n      <th></th>\n      <th>Accuracy</th>\n      <th>Precision</th>\n      <th>Recall</th>\n      <th>F1-Score</th>\n    </tr>\n    <tr>\n      <th>Fold</th>\n      <th></th>\n      <th></th>\n      <th></th>\n      <th></th>\n    </tr>\n  </thead>\n  <tbody>\n    <tr>\n      <th>1</th>\n      <td>0.837079</td>\n      <td>0.691176</td>\n      <td>0.854545</td>\n      <td>0.764228</td>\n    </tr>\n    <tr>\n      <th>2</th>\n      <td>0.797753</td>\n      <td>0.597222</td>\n      <td>0.860000</td>\n      <td>0.704918</td>\n    </tr>\n    <tr>\n      <th>3</th>\n      <td>0.779661</td>\n      <td>0.746269</td>\n      <td>0.694444</td>\n      <td>0.719424</td>\n    </tr>\n    <tr>\n      <th>4</th>\n      <td>0.774011</td>\n      <td>0.757143</td>\n      <td>0.697368</td>\n      <td>0.726027</td>\n    </tr>\n    <tr>\n      <th>5</th>\n      <td>0.830508</td>\n      <td>0.738462</td>\n      <td>0.786885</td>\n      <td>0.761905</td>\n    </tr>\n  </tbody>\n</table>\n</div>"
     },
     "metadata": {},
     "output_type": "display_data"
    },
    {
     "name": "stdout",
     "output_type": "stream",
     "text": [
      "Explained Variance: [0.48313985 0.27595039 0.11107641 0.04733949]  \n",
      "\n",
      "[[-0.27269815 -0.09305713  0.54242269  0.33034372 -0.11331966  0.70766192]\n",
      " [ 0.60450815  0.01781941  0.63204615  0.23097823 -0.18033632 -0.3858729 ]\n",
      " [ 0.17721424 -0.17735289 -0.4875729   0.8300098  -0.10135234  0.01500562]\n",
      " [ 0.00589098  0.94848776 -0.01035563  0.22062434  0.21703746  0.06669835]]\n",
      "GaussianNB()\n"
     ]
    },
    {
     "data": {
      "text/plain": "      Accuracy  Precision    Recall  F1-Score\nFold                                         \n1     0.831461   0.705882  0.827586  0.761905\n2     0.769663   0.583333  0.792453  0.672000\n3     0.774011   0.671642  0.714286  0.692308\n4     0.751412   0.657143  0.696970  0.676471\n5     0.836158   0.692308  0.833333  0.756303",
      "text/html": "<div>\n<style scoped>\n    .dataframe tbody tr th:only-of-type {\n        vertical-align: middle;\n    }\n\n    .dataframe tbody tr th {\n        vertical-align: top;\n    }\n\n    .dataframe thead th {\n        text-align: right;\n    }\n</style>\n<table border=\"1\" class=\"dataframe\">\n  <thead>\n    <tr style=\"text-align: right;\">\n      <th></th>\n      <th>Accuracy</th>\n      <th>Precision</th>\n      <th>Recall</th>\n      <th>F1-Score</th>\n    </tr>\n    <tr>\n      <th>Fold</th>\n      <th></th>\n      <th></th>\n      <th></th>\n      <th></th>\n    </tr>\n  </thead>\n  <tbody>\n    <tr>\n      <th>1</th>\n      <td>0.831461</td>\n      <td>0.705882</td>\n      <td>0.827586</td>\n      <td>0.761905</td>\n    </tr>\n    <tr>\n      <th>2</th>\n      <td>0.769663</td>\n      <td>0.583333</td>\n      <td>0.792453</td>\n      <td>0.672000</td>\n    </tr>\n    <tr>\n      <th>3</th>\n      <td>0.774011</td>\n      <td>0.671642</td>\n      <td>0.714286</td>\n      <td>0.692308</td>\n    </tr>\n    <tr>\n      <th>4</th>\n      <td>0.751412</td>\n      <td>0.657143</td>\n      <td>0.696970</td>\n      <td>0.676471</td>\n    </tr>\n    <tr>\n      <th>5</th>\n      <td>0.836158</td>\n      <td>0.692308</td>\n      <td>0.833333</td>\n      <td>0.756303</td>\n    </tr>\n  </tbody>\n</table>\n</div>"
     },
     "metadata": {},
     "output_type": "display_data"
    }
   ],
   "source": [
    "def pca_eval(model, x: pd.DataFrame, y: pd.DataFrame):\n",
    "    kf = KFold(n_splits=5, shuffle=True, random_state=6)\n",
    "    pca = PCA(n_components=4)\n",
    "    fit = pca.fit(x)\n",
    "\n",
    "    print(\"Explained Variance: %s\" % fit.explained_variance_ratio_, \" \\n\")\n",
    "    print(fit.components_)\n",
    "    accuracy = np.empty(kf.n_splits)\n",
    "    precision = np.empty(kf.n_splits)\n",
    "    recall = np.empty(kf.n_splits)\n",
    "    f1 = np.empty(kf.n_splits)\n",
    "\n",
    "    i = 0\n",
    "    for train_index, test_index in kf.split(x):\n",
    "        x_train, x_test = x.iloc[train_index], x.iloc[test_index]\n",
    "        y_train, y_test = y.iloc[train_index], y.iloc[test_index]\n",
    "\n",
    "        x_train_pca = fit.transform(x_train)\n",
    "        x_test_pca = fit.transform(x_test)\n",
    "\n",
    "        model.fit(x_train_pca, y_train)\n",
    "        prediction = model.predict(x_test_pca)\n",
    "\n",
    "        accuracy[i] = accuracy_score(prediction, y_test)\n",
    "        precision[i] = precision_score(prediction, y_test)\n",
    "        recall[i] = recall_score(prediction, y_test)\n",
    "        f1[i] = f1_score(prediction, y_test)\n",
    "        i += 1\n",
    "\n",
    "    print(model)\n",
    "    return accuracy, precision, recall, f1\n",
    "\n",
    "\n",
    "for name, model in models.items():\n",
    "    a, p, r, f = pca_eval(model, df[all_features], df[\"Survived\"])\n",
    "    data = {\n",
    "        'Fold': [1, 2, 3, 4, 5],\n",
    "        'Accuracy': a,\n",
    "        'Precision': p,\n",
    "        'Recall': r,\n",
    "        'F1-Score': f,\n",
    "    }\n",
    "\n",
    "    scores = pd.DataFrame(data).set_index('Fold')\n",
    "    display(scores)"
   ],
   "metadata": {
    "collapsed": false
   }
  },
  {
   "cell_type": "markdown",
   "metadata": {},
   "source": [
    "#### (c) Compare the classifiers and explain the differences observed;\n",
    "\n",
    "PCA is a data reduction technique, that uses linear algebra to compress the dataset. Thus, we have \"less\" features, as we compress the features into the principal components.\n",
    "\n",
    "Performance in terms of accuracy, precision and recall is quite similar for the classiffiers, except for GaussianNB; this seems to slightly prefer the non-PCA approach.\n",
    "\n",
    "Generally, it seems to be a good approach, but is a bit overkill for such a small dataset. It will be interesting to see if there are larger differences in performance for the stock dataset.\n",
    "\n"
   ],
   "outputs": []
  },
  {
   "cell_type": "markdown",
   "source": [
    "#### (2) Build Decision tree model with your selected stock / market index using all attributes to predict `daily returns'(decision). ('daily returns' must frst be converted into a decision class that will be used as the target(label), all other attributes must be grouped into classes)\n",
    "\n",
    "#### (a) Choose Three feature selection methods to evaluate the model;\n",
    "\n",
    "For the first part, we can follow last week's implementation:"
   ],
   "metadata": {
    "collapsed": false
   }
  },
  {
   "cell_type": "code",
   "execution_count": 4,
   "metadata": {},
   "outputs": [
    {
     "name": "stdout",
     "output_type": "stream",
     "text": [
      "                  Open        High         Low       Close   Adj Close  Volume\n",
      "Date                                                                          \n",
      "1971-02-05  100.000000  100.000000  100.000000  100.000000  100.000000       0\n",
      "1971-02-08  100.839996  100.839996  100.839996  100.839996  100.839996       0\n",
      "1971-02-09  100.760002  100.760002  100.760002  100.760002  100.760002       0\n",
      "                    Open          High           Low         Close  \\\n",
      "Date                                                                 \n",
      "2021-09-20  14758.139648  14841.820312  14530.070312  14713.900391   \n",
      "2021-09-21  14803.400391  14847.027344  14696.467773  14779.216797   \n",
      "\n",
      "               Adj Close      Volume  Daily Return  Binary Decision  \\\n",
      "Date                                                                  \n",
      "2021-09-20  14713.900391  4860630000     -0.021940                0   \n",
      "2021-09-21  14779.216797  3083208000      0.004439                1   \n",
      "\n",
      "            Rolling Mean 5  Rolling Mean 10  Rolling Mean 20  Rolling Mean 50  \\\n",
      "Date                                                                            \n",
      "2021-09-20    15027.816016     15126.937012     15143.909961     14875.705195   \n",
      "2021-09-21    14976.107422     15067.425684     15135.738281     14876.624727   \n",
      "\n",
      "            Rolling Mean 200  \n",
      "Date                          \n",
      "2021-09-20      13856.711787  \n",
      "2021-09-21      13868.721973  \n"
     ]
    }
   ],
   "source": [
    "stock_df = pd.read_csv(\"data/Nasdaq.csv\", index_col='Date')\n",
    "print(stock_df.head(3))\n",
    "\n",
    "daily_return = np.empty(stock_df['Close'].shape)\n",
    "#  From Slides: Daily return (r): Difference in percentage between\n",
    "#  price at time t+1 and time t\n",
    "daily_return[0] = float('NaN')  # The first\n",
    "daily_return[1:] = np.ediff1d(stock_df['Close']) / stock_df['Close'][:-1]\n",
    "stock_df.insert(loc=len(stock_df.columns), column='Daily Return', value=daily_return)\n",
    "\n",
    "binary = (daily_return > 0).astype(float)\n",
    "stock_df.insert(loc=len(stock_df.columns), column='Binary Decision', value=binary)\n",
    "stock_df[\"Binary Decision\"] = le.fit_transform(stock_df[\"Binary Decision\"])\n",
    "\n",
    "stock_df['Rolling Mean 5'] = stock_df['Close'].rolling(5).mean()\n",
    "stock_df['Rolling Mean 10'] = stock_df['Close'].rolling(10).mean()\n",
    "stock_df['Rolling Mean 20'] = stock_df['Close'].rolling(20).mean()\n",
    "stock_df['Rolling Mean 50'] = stock_df['Close'].rolling(50).mean()\n",
    "stock_df['Rolling Mean 200'] = stock_df['Close'].rolling(200).mean()\n",
    "stock_df = stock_df.fillna(0)  # NAs replaced with zero\n",
    "\n",
    "stock_models = {\n",
    "    'Decision Tree': DecisionTreeClassifier(),\n",
    "}\n",
    "print(stock_df.tail(2))\n"
   ]
  },
  {
   "cell_type": "markdown",
   "metadata": {},
   "source": [
    "With the Rolling Mean, we already have a sort of grouping, thus I vouch to leave the values ungrouped and just work with the Rolling Mean, especially as it is what was also used in prior exercises."
   ]
  },
  {
   "cell_type": "code",
   "execution_count": 5,
   "metadata": {},
   "outputs": [],
   "source": [
    "stock_df[\"Class Daily Return\"] = pd.qcut(stock_df[\"Daily Return\"], q=3)\n",
    "stock_df[\"Class Daily Return\"], _ = stock_df[\"Class Daily Return\"].factorize(sort=True)\n",
    "\n",
    "all_stock_features = ['Volume', 'Rolling Mean 5', 'Rolling Mean 10',\n",
    "                      'Rolling Mean 20', 'Rolling Mean 50', 'Rolling Mean 200']"
   ]
  },
  {
   "cell_type": "code",
   "execution_count": 6,
   "outputs": [],
   "source": [
    "def stock_pca_eval(model, x: pd.DataFrame, y: pd.DataFrame):\n",
    "    kf = KFold(n_splits=10)\n",
    "    pca = PCA(n_components=3)\n",
    "    fit = pca.fit(x)\n",
    "\n",
    "    print(\"Explained Variance: %s\" % fit.explained_variance_ratio_, \" \\n\")\n",
    "    print(fit.components_)\n",
    "    accuracy = np.empty(kf.n_splits)\n",
    "    precision = np.empty(kf.n_splits)\n",
    "    recall = np.empty(kf.n_splits)\n",
    "    f1 = np.empty(kf.n_splits)\n",
    "\n",
    "    i = 0\n",
    "    for train_index, test_index in kf.split(x):\n",
    "        x_train, x_test = x.iloc[train_index], x.iloc[test_index]\n",
    "        y_train, y_test = y.iloc[train_index], y.iloc[test_index]\n",
    "\n",
    "        x_train_pca = fit.transform(x_train)\n",
    "        x_test_pca = fit.transform(x_test)\n",
    "\n",
    "        model.fit(x_train_pca, y_train)\n",
    "        prediction = model.predict(x_test_pca)\n",
    "\n",
    "        accuracy[i] = accuracy_score(prediction, y_test)\n",
    "        precision[i] = precision_score(prediction, y_test,\n",
    "                                       average='macro', zero_division=0)\n",
    "        recall[i] = recall_score(prediction, y_test,\n",
    "                                 average='macro', zero_division=0)\n",
    "        f1[i] = f1_score(prediction, y_test,\n",
    "                         average='macro', zero_division=0)\n",
    "        i += 1\n",
    "\n",
    "    print(str(model) + \" Using PCA\")\n",
    "    return accuracy, precision, recall, f1\n",
    "\n",
    "\n",
    "def stock_rfe_eval(model, x: pd.DataFrame, y: pd.DataFrame):\n",
    "    kf = KFold(n_splits=10)\n",
    "    accuracy = np.empty(kf.n_splits)\n",
    "    precision = np.empty(kf.n_splits)\n",
    "    recall = np.empty(kf.n_splits)\n",
    "    f1 = np.empty(kf.n_splits)\n",
    "    rfe = RFE(model, n_features_to_select=3)\n",
    "\n",
    "    i = 0\n",
    "    for train_index, test_index in kf.split(x):\n",
    "        x_train, x_test = x.iloc[train_index], x.iloc[test_index]\n",
    "        y_train, y_test = y.iloc[train_index], y.iloc[test_index]\n",
    "\n",
    "        fit = rfe.fit(x_train, y_train)\n",
    "        x_train_rfe = fit.transform(x_train)\n",
    "        x_test_rfe = fit.transform(x_test)\n",
    "\n",
    "        # print(\"Num features: %d\" % fit.n_features_)\n",
    "        # print(\"Feature Ranking: %s\" % fit.ranking_)\n",
    "\n",
    "        model.fit(x_train_rfe, y_train)\n",
    "        prediction = model.predict(x_test_rfe)\n",
    "\n",
    "        accuracy[i] = accuracy_score(prediction, y_test)\n",
    "        precision[i] = precision_score(prediction, y_test,\n",
    "                                       average='macro', zero_division=0)\n",
    "        recall[i] = recall_score(prediction, y_test,\n",
    "                                 average='macro', zero_division=0)\n",
    "        f1[i] = f1_score(prediction, y_test,\n",
    "                         average='macro', zero_division=0)\n",
    "        i += 1\n",
    "\n",
    "    print(str(model) + \" Using RFE\")\n",
    "    return accuracy, precision, recall, f1\n",
    "\n",
    "\n",
    "# Selects the 3 best scoring features as input\n",
    "def stock_kbest_eval(model, x: pd.DataFrame, y: pd.DataFrame):\n",
    "    kf = KFold(n_splits=10)\n",
    "    accuracy = np.empty(kf.n_splits)\n",
    "    precision = np.empty(kf.n_splits)\n",
    "    recall = np.empty(kf.n_splits)\n",
    "    f1 = np.empty(kf.n_splits)\n",
    "    best_features = SelectKBest(score_func=f_classif, k=3)\n",
    "\n",
    "    i = 0\n",
    "    for train_index, test_index in kf.split(x):\n",
    "        x_train, x_test = x.iloc[train_index], x.iloc[test_index]\n",
    "        y_train, y_test = y.iloc[train_index], y.iloc[test_index]\n",
    "\n",
    "        fit = best_features.fit(x_train, y_train)\n",
    "        # df_scores = pd.DataFrame(fit.scores_)\n",
    "        # df_columns = pd.DataFrame(x_train.columns)\n",
    "        # feature_scores = pd.concat([df_columns, df_scores], axis=1)\n",
    "        # feature_scores.columns = ['Feature_Name', 'Score']\n",
    "        # print(feature_scores.nlargest(3, 'Score'))\n",
    "\n",
    "        x_train_kbest = fit.transform(x_train)\n",
    "        x_test_kbest = fit.transform(x_test)\n",
    "\n",
    "        model.fit(x_train_kbest, y_train)\n",
    "        prediction = model.predict(x_test_kbest)\n",
    "\n",
    "        accuracy[i] = accuracy_score(prediction, y_test)\n",
    "        precision[i] = precision_score(prediction, y_test,\n",
    "                                       average='macro', zero_division=0)\n",
    "        recall[i] = recall_score(prediction, y_test,\n",
    "                                 average='macro', zero_division=0)\n",
    "        f1[i] = f1_score(prediction, y_test,\n",
    "                         average='macro', zero_division=0)\n",
    "        i += 1\n",
    "\n",
    "    print(str(model) + \" Using k=3 best features\")\n",
    "    return accuracy, precision, recall, f1"
   ],
   "metadata": {
    "collapsed": false
   }
  },
  {
   "cell_type": "code",
   "execution_count": 7,
   "outputs": [
    {
     "name": "stdout",
     "output_type": "stream",
     "text": [
      "Explained Variance: [1.00000000e+00 7.77331260e-12 4.02766284e-14]  \n",
      "\n",
      "[[ 1.00000000e+00  1.96057382e-06  1.95750602e-06  1.95030502e-06\n",
      "   1.92540289e-06  1.80813391e-06]\n",
      " [-4.29553087e-06  4.61669966e-01  4.59950931e-01  4.56591956e-01\n",
      "   4.48108035e-01  4.07466513e-01]\n",
      " [ 6.53639040e-08  3.33271455e-01  3.01747927e-01  2.10877506e-01\n",
      "  -8.22324056e-02 -8.64087284e-01]]\n",
      "DecisionTreeClassifier() Using PCA\n"
     ]
    },
    {
     "data": {
      "text/plain": "      Accuracy  Precision    Recall  F1-Score\nFold                                         \n1     0.318292   0.344197  0.331186  0.288834\n2     0.393231   0.362061  0.361201  0.358971\n3     0.361290   0.370021  0.369138  0.361444\n4     0.332258   0.342702  0.341717  0.326632\n5     0.337097   0.345062  0.344109  0.318398\n6     0.342742   0.351657  0.350400  0.329881\n7     0.343548   0.347136  0.344881  0.341826\n8     0.370968   0.363832  0.363164  0.363314\n9     0.343548   0.346188  0.350882  0.339140\n10    0.353226   0.354133  0.336953  0.272066",
      "text/html": "<div>\n<style scoped>\n    .dataframe tbody tr th:only-of-type {\n        vertical-align: middle;\n    }\n\n    .dataframe tbody tr th {\n        vertical-align: top;\n    }\n\n    .dataframe thead th {\n        text-align: right;\n    }\n</style>\n<table border=\"1\" class=\"dataframe\">\n  <thead>\n    <tr style=\"text-align: right;\">\n      <th></th>\n      <th>Accuracy</th>\n      <th>Precision</th>\n      <th>Recall</th>\n      <th>F1-Score</th>\n    </tr>\n    <tr>\n      <th>Fold</th>\n      <th></th>\n      <th></th>\n      <th></th>\n      <th></th>\n    </tr>\n  </thead>\n  <tbody>\n    <tr>\n      <th>1</th>\n      <td>0.318292</td>\n      <td>0.344197</td>\n      <td>0.331186</td>\n      <td>0.288834</td>\n    </tr>\n    <tr>\n      <th>2</th>\n      <td>0.393231</td>\n      <td>0.362061</td>\n      <td>0.361201</td>\n      <td>0.358971</td>\n    </tr>\n    <tr>\n      <th>3</th>\n      <td>0.361290</td>\n      <td>0.370021</td>\n      <td>0.369138</td>\n      <td>0.361444</td>\n    </tr>\n    <tr>\n      <th>4</th>\n      <td>0.332258</td>\n      <td>0.342702</td>\n      <td>0.341717</td>\n      <td>0.326632</td>\n    </tr>\n    <tr>\n      <th>5</th>\n      <td>0.337097</td>\n      <td>0.345062</td>\n      <td>0.344109</td>\n      <td>0.318398</td>\n    </tr>\n    <tr>\n      <th>6</th>\n      <td>0.342742</td>\n      <td>0.351657</td>\n      <td>0.350400</td>\n      <td>0.329881</td>\n    </tr>\n    <tr>\n      <th>7</th>\n      <td>0.343548</td>\n      <td>0.347136</td>\n      <td>0.344881</td>\n      <td>0.341826</td>\n    </tr>\n    <tr>\n      <th>8</th>\n      <td>0.370968</td>\n      <td>0.363832</td>\n      <td>0.363164</td>\n      <td>0.363314</td>\n    </tr>\n    <tr>\n      <th>9</th>\n      <td>0.343548</td>\n      <td>0.346188</td>\n      <td>0.350882</td>\n      <td>0.339140</td>\n    </tr>\n    <tr>\n      <th>10</th>\n      <td>0.353226</td>\n      <td>0.354133</td>\n      <td>0.336953</td>\n      <td>0.272066</td>\n    </tr>\n  </tbody>\n</table>\n</div>"
     },
     "metadata": {},
     "output_type": "display_data"
    }
   ],
   "source": [
    "for name, model in stock_models.items():\n",
    "    a, p, r, f = stock_pca_eval(model, stock_df[all_stock_features],\n",
    "                                stock_df[\"Class Daily Return\"])\n",
    "    stock_data = {\n",
    "        'Fold': [1, 2, 3, 4, 5, 6, 7, 8, 9, 10],\n",
    "        'Accuracy': a,\n",
    "        'Precision': p,\n",
    "        'Recall': r,\n",
    "        'F1-Score': f,\n",
    "    }\n",
    "\n",
    "    stock_scores = pd.DataFrame(stock_data).set_index('Fold')\n",
    "    display(stock_scores)"
   ],
   "metadata": {
    "collapsed": false
   }
  },
  {
   "cell_type": "code",
   "execution_count": 8,
   "outputs": [
    {
     "name": "stdout",
     "output_type": "stream",
     "text": [
      "DecisionTreeClassifier() Using RFE\n"
     ]
    },
    {
     "data": {
      "text/plain": "      Accuracy  Precision    Recall  F1-Score\nFold                                         \n1     0.305399   0.335865  0.338626  0.260303\n2     0.346495   0.328387  0.339926  0.321607\n3     0.346774   0.351313  0.343261  0.339635\n4     0.300806   0.328797  0.311409  0.256077\n5     0.325806   0.330587  0.334277  0.210185\n6     0.353226   0.339394  0.338944  0.329983\n7     0.347581   0.348216  0.344796  0.340891\n8     0.388710   0.382545  0.382062  0.381041\n9     0.336290   0.339469  0.372021  0.301421\n10    0.359677   0.335537  0.342048  0.185986",
      "text/html": "<div>\n<style scoped>\n    .dataframe tbody tr th:only-of-type {\n        vertical-align: middle;\n    }\n\n    .dataframe tbody tr th {\n        vertical-align: top;\n    }\n\n    .dataframe thead th {\n        text-align: right;\n    }\n</style>\n<table border=\"1\" class=\"dataframe\">\n  <thead>\n    <tr style=\"text-align: right;\">\n      <th></th>\n      <th>Accuracy</th>\n      <th>Precision</th>\n      <th>Recall</th>\n      <th>F1-Score</th>\n    </tr>\n    <tr>\n      <th>Fold</th>\n      <th></th>\n      <th></th>\n      <th></th>\n      <th></th>\n    </tr>\n  </thead>\n  <tbody>\n    <tr>\n      <th>1</th>\n      <td>0.305399</td>\n      <td>0.335865</td>\n      <td>0.338626</td>\n      <td>0.260303</td>\n    </tr>\n    <tr>\n      <th>2</th>\n      <td>0.346495</td>\n      <td>0.328387</td>\n      <td>0.339926</td>\n      <td>0.321607</td>\n    </tr>\n    <tr>\n      <th>3</th>\n      <td>0.346774</td>\n      <td>0.351313</td>\n      <td>0.343261</td>\n      <td>0.339635</td>\n    </tr>\n    <tr>\n      <th>4</th>\n      <td>0.300806</td>\n      <td>0.328797</td>\n      <td>0.311409</td>\n      <td>0.256077</td>\n    </tr>\n    <tr>\n      <th>5</th>\n      <td>0.325806</td>\n      <td>0.330587</td>\n      <td>0.334277</td>\n      <td>0.210185</td>\n    </tr>\n    <tr>\n      <th>6</th>\n      <td>0.353226</td>\n      <td>0.339394</td>\n      <td>0.338944</td>\n      <td>0.329983</td>\n    </tr>\n    <tr>\n      <th>7</th>\n      <td>0.347581</td>\n      <td>0.348216</td>\n      <td>0.344796</td>\n      <td>0.340891</td>\n    </tr>\n    <tr>\n      <th>8</th>\n      <td>0.388710</td>\n      <td>0.382545</td>\n      <td>0.382062</td>\n      <td>0.381041</td>\n    </tr>\n    <tr>\n      <th>9</th>\n      <td>0.336290</td>\n      <td>0.339469</td>\n      <td>0.372021</td>\n      <td>0.301421</td>\n    </tr>\n    <tr>\n      <th>10</th>\n      <td>0.359677</td>\n      <td>0.335537</td>\n      <td>0.342048</td>\n      <td>0.185986</td>\n    </tr>\n  </tbody>\n</table>\n</div>"
     },
     "metadata": {},
     "output_type": "display_data"
    }
   ],
   "source": [
    "for name, model in stock_models.items():\n",
    "    a, p, r, f = stock_rfe_eval(model, stock_df[all_stock_features],\n",
    "                                stock_df[\"Class Daily Return\"])\n",
    "    stock_data = {\n",
    "        'Fold': [1, 2, 3, 4, 5, 6, 7, 8, 9, 10],\n",
    "        'Accuracy': a,\n",
    "        'Precision': p,\n",
    "        'Recall': r,\n",
    "        'F1-Score': f,\n",
    "    }\n",
    "\n",
    "    stock_scores = pd.DataFrame(stock_data).set_index('Fold')\n",
    "    display(stock_scores)"
   ],
   "metadata": {
    "collapsed": false
   }
  },
  {
   "cell_type": "code",
   "execution_count": 9,
   "outputs": [
    {
     "name": "stdout",
     "output_type": "stream",
     "text": [
      "DecisionTreeClassifier() Using k=3 best features\n"
     ]
    },
    {
     "data": {
      "text/plain": "      Accuracy  Precision    Recall  F1-Score\nFold                                         \n1     0.349718   0.365259  0.359046  0.305377\n2     0.356164   0.352839  0.344614  0.337216\n3     0.377419   0.338125  0.330384  0.300806\n4     0.370968   0.391240  0.399634  0.368657\n5     0.319355   0.338600  0.356970  0.240909\n6     0.366935   0.317761  0.318583  0.317901\n7     0.327419   0.317344  0.320953  0.318205\n8     0.337903   0.317179  0.320793  0.306351\n9     0.296774   0.301389  0.300846  0.277635\n10    0.228226   0.236339  0.276374  0.188258",
      "text/html": "<div>\n<style scoped>\n    .dataframe tbody tr th:only-of-type {\n        vertical-align: middle;\n    }\n\n    .dataframe tbody tr th {\n        vertical-align: top;\n    }\n\n    .dataframe thead th {\n        text-align: right;\n    }\n</style>\n<table border=\"1\" class=\"dataframe\">\n  <thead>\n    <tr style=\"text-align: right;\">\n      <th></th>\n      <th>Accuracy</th>\n      <th>Precision</th>\n      <th>Recall</th>\n      <th>F1-Score</th>\n    </tr>\n    <tr>\n      <th>Fold</th>\n      <th></th>\n      <th></th>\n      <th></th>\n      <th></th>\n    </tr>\n  </thead>\n  <tbody>\n    <tr>\n      <th>1</th>\n      <td>0.349718</td>\n      <td>0.365259</td>\n      <td>0.359046</td>\n      <td>0.305377</td>\n    </tr>\n    <tr>\n      <th>2</th>\n      <td>0.356164</td>\n      <td>0.352839</td>\n      <td>0.344614</td>\n      <td>0.337216</td>\n    </tr>\n    <tr>\n      <th>3</th>\n      <td>0.377419</td>\n      <td>0.338125</td>\n      <td>0.330384</td>\n      <td>0.300806</td>\n    </tr>\n    <tr>\n      <th>4</th>\n      <td>0.370968</td>\n      <td>0.391240</td>\n      <td>0.399634</td>\n      <td>0.368657</td>\n    </tr>\n    <tr>\n      <th>5</th>\n      <td>0.319355</td>\n      <td>0.338600</td>\n      <td>0.356970</td>\n      <td>0.240909</td>\n    </tr>\n    <tr>\n      <th>6</th>\n      <td>0.366935</td>\n      <td>0.317761</td>\n      <td>0.318583</td>\n      <td>0.317901</td>\n    </tr>\n    <tr>\n      <th>7</th>\n      <td>0.327419</td>\n      <td>0.317344</td>\n      <td>0.320953</td>\n      <td>0.318205</td>\n    </tr>\n    <tr>\n      <th>8</th>\n      <td>0.337903</td>\n      <td>0.317179</td>\n      <td>0.320793</td>\n      <td>0.306351</td>\n    </tr>\n    <tr>\n      <th>9</th>\n      <td>0.296774</td>\n      <td>0.301389</td>\n      <td>0.300846</td>\n      <td>0.277635</td>\n    </tr>\n    <tr>\n      <th>10</th>\n      <td>0.228226</td>\n      <td>0.236339</td>\n      <td>0.276374</td>\n      <td>0.188258</td>\n    </tr>\n  </tbody>\n</table>\n</div>"
     },
     "metadata": {},
     "output_type": "display_data"
    }
   ],
   "source": [
    "for name, model in stock_models.items():\n",
    "    a, p, r, f = stock_kbest_eval(model, stock_df[all_stock_features],\n",
    "                                  stock_df[\"Class Daily Return\"])\n",
    "    stock_data = {\n",
    "        'Fold': [1, 2, 3, 4, 5, 6, 7, 8, 9, 10],\n",
    "        'Accuracy': a,\n",
    "        'Precision': p,\n",
    "        'Recall': r,\n",
    "        'F1-Score': f,\n",
    "    }\n",
    "\n",
    "    stock_scores = pd.DataFrame(stock_data).set_index('Fold')\n",
    "    display(stock_scores)"
   ],
   "metadata": {
    "collapsed": false
   }
  },
  {
   "cell_type": "markdown",
   "metadata": {},
   "source": [
    "#### (b) Compare the feature selection methods and explain the differences observed;\n",
    "\n",
    "PCA is the only one that seems to perform best in fold 10, so it seems that the intuition was right that PCA might be a good choice.\n",
    "\n",
    "Generally, they all exhibit only small differences in performance, thus all of them could be used.\n",
    "\n"
   ]
  }
 ],
 "metadata": {
  "kernelspec": {
   "display_name": "Python 3 (ipykernel)",
   "language": "python",
   "name": "python3"
  },
  "language_info": {
   "codemirror_mode": {
    "name": "ipython",
    "version": 3
   },
   "file_extension": ".py",
   "mimetype": "text/x-python",
   "name": "python",
   "nbconvert_exporter": "python",
   "pygments_lexer": "ipython3",
   "version": "3.9.2"
  }
 },
 "nbformat": 4,
 "nbformat_minor": 4
}
