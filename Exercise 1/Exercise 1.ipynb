{
 "cells": [
  {
   "cell_type": "markdown",
   "metadata": {},
   "source": [
    "## Exercise 1 - Simple rules\n",
    "\n",
    "First name: Brian\n",
    "<br>\n",
    "Last name: Schweigler\n",
    "<br>\n",
    "Matriculation number: 16-102-071"
   ]
  },
  {
   "cell_type": "markdown",
   "metadata": {},
   "source": [
    "##### In the folder \\Data\" you have access to the dataset Titanic.csv presenting information about travellers with their status (survived=1 (yes) or =0 (no)). In addition, you have the information about the class (Pclass), name (Name), gender (Sex), age (Age), sibling or spouse on board (1/0), parents or children aboard (1/0), and fare price (Fare).\n",
    "\n",
    "#### (a) What is the best default rule for this dataset? (Default means without any evidence about the person)?"
   ]
  },
  {
   "cell_type": "markdown",
   "metadata": {},
   "source": [
    "In general, \"choose most frequent to be the default rule\".\n",
    "Very likely, without prior information, we can assume that due to \"mothers and children first\" when the titanic sank,\n",
    "that those are most likely to have survived, thus gender (Sex) and parents or chlidren on board (1/0).\n"
   ]
  },
  {
   "cell_type": "code",
   "execution_count": 1,
   "metadata": {
    "pycharm": {
     "name": "#%%\n"
    }
   },
   "outputs": [
    {
     "name": "stdout",
     "output_type": "stream",
     "text": [
      "                                                        Survived  Pclass  \\\n",
      "Name                                                                       \n",
      "Mr. Owen Harris Braund                                         0       3   \n",
      "Mrs. John Bradley (Florence Briggs Thayer) Cumings             1       1   \n",
      "Miss. Laina Heikkinen                                          1       3   \n",
      "Mrs. Jacques Heath (Lily May Peel) Futrelle                    1       1   \n",
      "Mr. William Henry Allen                                        0       3   \n",
      "Mr. James Moran                                                0       3   \n",
      "Mr. Timothy J McCarthy                                         0       1   \n",
      "Master. Gosta Leonard Palsson                                  0       3   \n",
      "Mrs. Oscar W (Elisabeth Vilhelmina Berg) Johnson               1       3   \n",
      "Mrs. Nicholas (Adele Achem) Nasser                             1       2   \n",
      "Miss. Marguerite Rut Sandstrom                                 1       3   \n",
      "Miss. Elizabeth Bonnell                                        1       1   \n",
      "Mr. William Henry Saundercock                                  0       3   \n",
      "Mr. Anders Johan Andersson                                     0       3   \n",
      "Miss. Hulda Amanda Adolfina Vestrom                            0       3   \n",
      "Mrs. (Mary D Kingcome) Hewlett                                 1       2   \n",
      "Master. Eugene Rice                                            0       3   \n",
      "Mr. Charles Eugene Williams                                    1       2   \n",
      "Mrs. Julius (Emelia Maria Vandemoortele) Vander Planke         0       3   \n",
      "Mrs. Fatima Masselmani                                         1       3   \n",
      "\n",
      "                                                           Sex   Age  \\\n",
      "Name                                                                   \n",
      "Mr. Owen Harris Braund                                    male  22.0   \n",
      "Mrs. John Bradley (Florence Briggs Thayer) Cumings      female  38.0   \n",
      "Miss. Laina Heikkinen                                   female  26.0   \n",
      "Mrs. Jacques Heath (Lily May Peel) Futrelle             female  35.0   \n",
      "Mr. William Henry Allen                                   male  35.0   \n",
      "Mr. James Moran                                           male  27.0   \n",
      "Mr. Timothy J McCarthy                                    male  54.0   \n",
      "Master. Gosta Leonard Palsson                             male   2.0   \n",
      "Mrs. Oscar W (Elisabeth Vilhelmina Berg) Johnson        female  27.0   \n",
      "Mrs. Nicholas (Adele Achem) Nasser                      female  14.0   \n",
      "Miss. Marguerite Rut Sandstrom                          female   4.0   \n",
      "Miss. Elizabeth Bonnell                                 female  58.0   \n",
      "Mr. William Henry Saundercock                             male  20.0   \n",
      "Mr. Anders Johan Andersson                                male  39.0   \n",
      "Miss. Hulda Amanda Adolfina Vestrom                     female  14.0   \n",
      "Mrs. (Mary D Kingcome) Hewlett                          female  55.0   \n",
      "Master. Eugene Rice                                       male   2.0   \n",
      "Mr. Charles Eugene Williams                               male  23.0   \n",
      "Mrs. Julius (Emelia Maria Vandemoortele) Vander Planke  female  31.0   \n",
      "Mrs. Fatima Masselmani                                  female  22.0   \n",
      "\n",
      "                                                        Siblings/Spouses Aboard  \\\n",
      "Name                                                                              \n",
      "Mr. Owen Harris Braund                                                        1   \n",
      "Mrs. John Bradley (Florence Briggs Thayer) Cumings                            1   \n",
      "Miss. Laina Heikkinen                                                         0   \n",
      "Mrs. Jacques Heath (Lily May Peel) Futrelle                                   1   \n",
      "Mr. William Henry Allen                                                       0   \n",
      "Mr. James Moran                                                               0   \n",
      "Mr. Timothy J McCarthy                                                        0   \n",
      "Master. Gosta Leonard Palsson                                                 3   \n",
      "Mrs. Oscar W (Elisabeth Vilhelmina Berg) Johnson                              0   \n",
      "Mrs. Nicholas (Adele Achem) Nasser                                            1   \n",
      "Miss. Marguerite Rut Sandstrom                                                1   \n",
      "Miss. Elizabeth Bonnell                                                       0   \n",
      "Mr. William Henry Saundercock                                                 0   \n",
      "Mr. Anders Johan Andersson                                                    1   \n",
      "Miss. Hulda Amanda Adolfina Vestrom                                           0   \n",
      "Mrs. (Mary D Kingcome) Hewlett                                                0   \n",
      "Master. Eugene Rice                                                           4   \n",
      "Mr. Charles Eugene Williams                                                   0   \n",
      "Mrs. Julius (Emelia Maria Vandemoortele) Vander Planke                        1   \n",
      "Mrs. Fatima Masselmani                                                        0   \n",
      "\n",
      "                                                        Parents/Children Aboard  \\\n",
      "Name                                                                              \n",
      "Mr. Owen Harris Braund                                                        0   \n",
      "Mrs. John Bradley (Florence Briggs Thayer) Cumings                            0   \n",
      "Miss. Laina Heikkinen                                                         0   \n",
      "Mrs. Jacques Heath (Lily May Peel) Futrelle                                   0   \n",
      "Mr. William Henry Allen                                                       0   \n",
      "Mr. James Moran                                                               0   \n",
      "Mr. Timothy J McCarthy                                                        0   \n",
      "Master. Gosta Leonard Palsson                                                 1   \n",
      "Mrs. Oscar W (Elisabeth Vilhelmina Berg) Johnson                              2   \n",
      "Mrs. Nicholas (Adele Achem) Nasser                                            0   \n",
      "Miss. Marguerite Rut Sandstrom                                                1   \n",
      "Miss. Elizabeth Bonnell                                                       0   \n",
      "Mr. William Henry Saundercock                                                 0   \n",
      "Mr. Anders Johan Andersson                                                    5   \n",
      "Miss. Hulda Amanda Adolfina Vestrom                                           0   \n",
      "Mrs. (Mary D Kingcome) Hewlett                                                0   \n",
      "Master. Eugene Rice                                                           1   \n",
      "Mr. Charles Eugene Williams                                                   0   \n",
      "Mrs. Julius (Emelia Maria Vandemoortele) Vander Planke                        0   \n",
      "Mrs. Fatima Masselmani                                                        0   \n",
      "\n",
      "                                                           Fare  \n",
      "Name                                                             \n",
      "Mr. Owen Harris Braund                                   7.2500  \n",
      "Mrs. John Bradley (Florence Briggs Thayer) Cumings      71.2833  \n",
      "Miss. Laina Heikkinen                                    7.9250  \n",
      "Mrs. Jacques Heath (Lily May Peel) Futrelle             53.1000  \n",
      "Mr. William Henry Allen                                  8.0500  \n",
      "Mr. James Moran                                          8.4583  \n",
      "Mr. Timothy J McCarthy                                  51.8625  \n",
      "Master. Gosta Leonard Palsson                           21.0750  \n",
      "Mrs. Oscar W (Elisabeth Vilhelmina Berg) Johnson        11.1333  \n",
      "Mrs. Nicholas (Adele Achem) Nasser                      30.0708  \n",
      "Miss. Marguerite Rut Sandstrom                          16.7000  \n",
      "Miss. Elizabeth Bonnell                                 26.5500  \n",
      "Mr. William Henry Saundercock                            8.0500  \n",
      "Mr. Anders Johan Andersson                              31.2750  \n",
      "Miss. Hulda Amanda Adolfina Vestrom                      7.8542  \n",
      "Mrs. (Mary D Kingcome) Hewlett                          16.0000  \n",
      "Master. Eugene Rice                                     29.1250  \n",
      "Mr. Charles Eugene Williams                             13.0000  \n",
      "Mrs. Julius (Emelia Maria Vandemoortele) Vander Planke  18.0000  \n",
      "Mrs. Fatima Masselmani                                   7.2250  \n"
     ]
    },
    {
     "data": {
      "text/plain": "          Survived      Pclass   Sex         Age  Siblings/Spouses Aboard  \\\ncount   887.000000  887.000000   887  887.000000               887.000000   \nunique         NaN         NaN     2         NaN                      NaN   \ntop            NaN         NaN  male         NaN                      NaN   \nfreq           NaN         NaN   573         NaN                      NaN   \nmean      0.385569    2.305524   NaN   29.471443                 0.525366   \nstd       0.487004    0.836662   NaN   14.121908                 1.104669   \nmin       0.000000    1.000000   NaN    0.420000                 0.000000   \n25%       0.000000    2.000000   NaN   20.250000                 0.000000   \n50%       0.000000    3.000000   NaN   28.000000                 0.000000   \n75%       1.000000    3.000000   NaN   38.000000                 1.000000   \nmax       1.000000    3.000000   NaN   80.000000                 8.000000   \n\n        Parents/Children Aboard       Fare  \ncount                887.000000  887.00000  \nunique                      NaN        NaN  \ntop                         NaN        NaN  \nfreq                        NaN        NaN  \nmean                   0.383315   32.30542  \nstd                    0.807466   49.78204  \nmin                    0.000000    0.00000  \n25%                    0.000000    7.92500  \n50%                    0.000000   14.45420  \n75%                    0.000000   31.13750  \nmax                    6.000000  512.32920  ",
      "text/html": "<div>\n<style scoped>\n    .dataframe tbody tr th:only-of-type {\n        vertical-align: middle;\n    }\n\n    .dataframe tbody tr th {\n        vertical-align: top;\n    }\n\n    .dataframe thead th {\n        text-align: right;\n    }\n</style>\n<table border=\"1\" class=\"dataframe\">\n  <thead>\n    <tr style=\"text-align: right;\">\n      <th></th>\n      <th>Survived</th>\n      <th>Pclass</th>\n      <th>Sex</th>\n      <th>Age</th>\n      <th>Siblings/Spouses Aboard</th>\n      <th>Parents/Children Aboard</th>\n      <th>Fare</th>\n    </tr>\n  </thead>\n  <tbody>\n    <tr>\n      <th>count</th>\n      <td>887.000000</td>\n      <td>887.000000</td>\n      <td>887</td>\n      <td>887.000000</td>\n      <td>887.000000</td>\n      <td>887.000000</td>\n      <td>887.00000</td>\n    </tr>\n    <tr>\n      <th>unique</th>\n      <td>NaN</td>\n      <td>NaN</td>\n      <td>2</td>\n      <td>NaN</td>\n      <td>NaN</td>\n      <td>NaN</td>\n      <td>NaN</td>\n    </tr>\n    <tr>\n      <th>top</th>\n      <td>NaN</td>\n      <td>NaN</td>\n      <td>male</td>\n      <td>NaN</td>\n      <td>NaN</td>\n      <td>NaN</td>\n      <td>NaN</td>\n    </tr>\n    <tr>\n      <th>freq</th>\n      <td>NaN</td>\n      <td>NaN</td>\n      <td>573</td>\n      <td>NaN</td>\n      <td>NaN</td>\n      <td>NaN</td>\n      <td>NaN</td>\n    </tr>\n    <tr>\n      <th>mean</th>\n      <td>0.385569</td>\n      <td>2.305524</td>\n      <td>NaN</td>\n      <td>29.471443</td>\n      <td>0.525366</td>\n      <td>0.383315</td>\n      <td>32.30542</td>\n    </tr>\n    <tr>\n      <th>std</th>\n      <td>0.487004</td>\n      <td>0.836662</td>\n      <td>NaN</td>\n      <td>14.121908</td>\n      <td>1.104669</td>\n      <td>0.807466</td>\n      <td>49.78204</td>\n    </tr>\n    <tr>\n      <th>min</th>\n      <td>0.000000</td>\n      <td>1.000000</td>\n      <td>NaN</td>\n      <td>0.420000</td>\n      <td>0.000000</td>\n      <td>0.000000</td>\n      <td>0.00000</td>\n    </tr>\n    <tr>\n      <th>25%</th>\n      <td>0.000000</td>\n      <td>2.000000</td>\n      <td>NaN</td>\n      <td>20.250000</td>\n      <td>0.000000</td>\n      <td>0.000000</td>\n      <td>7.92500</td>\n    </tr>\n    <tr>\n      <th>50%</th>\n      <td>0.000000</td>\n      <td>3.000000</td>\n      <td>NaN</td>\n      <td>28.000000</td>\n      <td>0.000000</td>\n      <td>0.000000</td>\n      <td>14.45420</td>\n    </tr>\n    <tr>\n      <th>75%</th>\n      <td>1.000000</td>\n      <td>3.000000</td>\n      <td>NaN</td>\n      <td>38.000000</td>\n      <td>1.000000</td>\n      <td>0.000000</td>\n      <td>31.13750</td>\n    </tr>\n    <tr>\n      <th>max</th>\n      <td>1.000000</td>\n      <td>3.000000</td>\n      <td>NaN</td>\n      <td>80.000000</td>\n      <td>8.000000</td>\n      <td>6.000000</td>\n      <td>512.32920</td>\n    </tr>\n  </tbody>\n</table>\n</div>"
     },
     "execution_count": 1,
     "metadata": {},
     "output_type": "execute_result"
    }
   ],
   "source": [
    "%load_ext autoreload\n",
    "%autoreload 2\n",
    "%matplotlib inline\n",
    "\n",
    "import os\n",
    "import math\n",
    "import pandas as pd\n",
    "import numpy as np\n",
    "import matplotlib.pyplot as plt\n",
    "from PIL import Image\n",
    "from sklearn.feature_selection import chi2\n",
    "from sklearn.model_selection import train_test_split\n",
    "from sklearn.naive_bayes import GaussianNB\n",
    "from sklearn import preprocessing\n",
    "import scipy\n",
    "from mlxtend.classifier import OneRClassifier\n",
    "from mlxtend.evaluate import accuracy_score\n",
    "\n",
    "clf = GaussianNB()\n",
    "le = preprocessing.LabelEncoder()\n",
    "df = pd.read_csv(\"data/titanic.csv\", index_col='Name')\n",
    "pd.set_option('display.max_colwidth', None)\n",
    "print(df.head(20))\n",
    "df.describe(include='all')"
   ]
  },
  {
   "cell_type": "code",
   "execution_count": 8,
   "outputs": [
    {
     "ename": "KeyError",
     "evalue": "('Sex', 'Siblings/Spouses Aboard')",
     "output_type": "error",
     "traceback": [
      "\u001B[1;31m---------------------------------------------------------------------------\u001B[0m",
      "\u001B[1;31mKeyError\u001B[0m                                  Traceback (most recent call last)",
      "\u001B[1;32mc:\\users\\brian\\appdata\\local\\programs\\python\\python39\\lib\\site-packages\\pandas\\core\\indexes\\base.py\u001B[0m in \u001B[0;36mget_loc\u001B[1;34m(self, key, method, tolerance)\u001B[0m\n\u001B[0;32m   3079\u001B[0m             \u001B[1;32mtry\u001B[0m\u001B[1;33m:\u001B[0m\u001B[1;33m\u001B[0m\u001B[1;33m\u001B[0m\u001B[0m\n\u001B[1;32m-> 3080\u001B[1;33m                 \u001B[1;32mreturn\u001B[0m \u001B[0mself\u001B[0m\u001B[1;33m.\u001B[0m\u001B[0m_engine\u001B[0m\u001B[1;33m.\u001B[0m\u001B[0mget_loc\u001B[0m\u001B[1;33m(\u001B[0m\u001B[0mcasted_key\u001B[0m\u001B[1;33m)\u001B[0m\u001B[1;33m\u001B[0m\u001B[1;33m\u001B[0m\u001B[0m\n\u001B[0m\u001B[0;32m   3081\u001B[0m             \u001B[1;32mexcept\u001B[0m \u001B[0mKeyError\u001B[0m \u001B[1;32mas\u001B[0m \u001B[0merr\u001B[0m\u001B[1;33m:\u001B[0m\u001B[1;33m\u001B[0m\u001B[1;33m\u001B[0m\u001B[0m\n",
      "\u001B[1;32mpandas\\_libs\\index.pyx\u001B[0m in \u001B[0;36mpandas._libs.index.IndexEngine.get_loc\u001B[1;34m()\u001B[0m\n",
      "\u001B[1;32mpandas\\_libs\\index.pyx\u001B[0m in \u001B[0;36mpandas._libs.index.IndexEngine.get_loc\u001B[1;34m()\u001B[0m\n",
      "\u001B[1;32mpandas\\_libs\\hashtable_class_helper.pxi\u001B[0m in \u001B[0;36mpandas._libs.hashtable.PyObjectHashTable.get_item\u001B[1;34m()\u001B[0m\n",
      "\u001B[1;32mpandas\\_libs\\hashtable_class_helper.pxi\u001B[0m in \u001B[0;36mpandas._libs.hashtable.PyObjectHashTable.get_item\u001B[1;34m()\u001B[0m\n",
      "\u001B[1;31mKeyError\u001B[0m: ('Sex', 'Siblings/Spouses Aboard')",
      "\nThe above exception was the direct cause of the following exception:\n",
      "\u001B[1;31mKeyError\u001B[0m                                  Traceback (most recent call last)",
      "\u001B[1;32m~\\AppData\\Local\\Temp/ipykernel_16428/259800017.py\u001B[0m in \u001B[0;36m<module>\u001B[1;34m\u001B[0m\n\u001B[1;32m----> 1\u001B[1;33m \u001B[0mX_d\u001B[0m \u001B[1;33m=\u001B[0m \u001B[0mdf\u001B[0m\u001B[1;33m[\u001B[0m\u001B[1;34m\"Sex\"\u001B[0m\u001B[1;33m,\u001B[0m \u001B[1;34m\"Siblings/Spouses Aboard\"\u001B[0m\u001B[1;33m]\u001B[0m\u001B[1;33m\u001B[0m\u001B[1;33m\u001B[0m\u001B[0m\n\u001B[0m\u001B[0;32m      2\u001B[0m \u001B[0my\u001B[0m \u001B[1;33m=\u001B[0m \u001B[0mdf\u001B[0m\u001B[1;33m[\u001B[0m\u001B[1;34m\"Survived\"\u001B[0m\u001B[1;33m]\u001B[0m\u001B[1;33m\u001B[0m\u001B[1;33m\u001B[0m\u001B[0m\n\u001B[0;32m      3\u001B[0m \u001B[1;31m# y = le.transform(df[\"Survived\"])\u001B[0m\u001B[1;33m\u001B[0m\u001B[1;33m\u001B[0m\u001B[1;33m\u001B[0m\u001B[0m\n\u001B[0;32m      4\u001B[0m \u001B[0mXd_train\u001B[0m\u001B[1;33m,\u001B[0m \u001B[0mXd_test\u001B[0m\u001B[1;33m,\u001B[0m \u001B[0my_train\u001B[0m\u001B[1;33m,\u001B[0m \u001B[0my_test\u001B[0m \u001B[1;33m=\u001B[0m \u001B[0mtrain_test_split\u001B[0m\u001B[1;33m(\u001B[0m\u001B[0mX_d\u001B[0m\u001B[1;33m,\u001B[0m \u001B[0my\u001B[0m\u001B[1;33m,\u001B[0m \u001B[0mtest_size\u001B[0m\u001B[1;33m=\u001B[0m\u001B[1;36m0.4\u001B[0m\u001B[1;33m)\u001B[0m\u001B[1;33m\u001B[0m\u001B[1;33m\u001B[0m\u001B[0m\n\u001B[0;32m      5\u001B[0m \u001B[0moner\u001B[0m \u001B[1;33m=\u001B[0m \u001B[0mOneRClassifier\u001B[0m\u001B[1;33m(\u001B[0m\u001B[1;33m)\u001B[0m\u001B[1;33m\u001B[0m\u001B[1;33m\u001B[0m\u001B[0m\n",
      "\u001B[1;32mc:\\users\\brian\\appdata\\local\\programs\\python\\python39\\lib\\site-packages\\pandas\\core\\frame.py\u001B[0m in \u001B[0;36m__getitem__\u001B[1;34m(self, key)\u001B[0m\n\u001B[0;32m   3022\u001B[0m             \u001B[1;32mif\u001B[0m \u001B[0mself\u001B[0m\u001B[1;33m.\u001B[0m\u001B[0mcolumns\u001B[0m\u001B[1;33m.\u001B[0m\u001B[0mnlevels\u001B[0m \u001B[1;33m>\u001B[0m \u001B[1;36m1\u001B[0m\u001B[1;33m:\u001B[0m\u001B[1;33m\u001B[0m\u001B[1;33m\u001B[0m\u001B[0m\n\u001B[0;32m   3023\u001B[0m                 \u001B[1;32mreturn\u001B[0m \u001B[0mself\u001B[0m\u001B[1;33m.\u001B[0m\u001B[0m_getitem_multilevel\u001B[0m\u001B[1;33m(\u001B[0m\u001B[0mkey\u001B[0m\u001B[1;33m)\u001B[0m\u001B[1;33m\u001B[0m\u001B[1;33m\u001B[0m\u001B[0m\n\u001B[1;32m-> 3024\u001B[1;33m             \u001B[0mindexer\u001B[0m \u001B[1;33m=\u001B[0m \u001B[0mself\u001B[0m\u001B[1;33m.\u001B[0m\u001B[0mcolumns\u001B[0m\u001B[1;33m.\u001B[0m\u001B[0mget_loc\u001B[0m\u001B[1;33m(\u001B[0m\u001B[0mkey\u001B[0m\u001B[1;33m)\u001B[0m\u001B[1;33m\u001B[0m\u001B[1;33m\u001B[0m\u001B[0m\n\u001B[0m\u001B[0;32m   3025\u001B[0m             \u001B[1;32mif\u001B[0m \u001B[0mis_integer\u001B[0m\u001B[1;33m(\u001B[0m\u001B[0mindexer\u001B[0m\u001B[1;33m)\u001B[0m\u001B[1;33m:\u001B[0m\u001B[1;33m\u001B[0m\u001B[1;33m\u001B[0m\u001B[0m\n\u001B[0;32m   3026\u001B[0m                 \u001B[0mindexer\u001B[0m \u001B[1;33m=\u001B[0m \u001B[1;33m[\u001B[0m\u001B[0mindexer\u001B[0m\u001B[1;33m]\u001B[0m\u001B[1;33m\u001B[0m\u001B[1;33m\u001B[0m\u001B[0m\n",
      "\u001B[1;32mc:\\users\\brian\\appdata\\local\\programs\\python\\python39\\lib\\site-packages\\pandas\\core\\indexes\\base.py\u001B[0m in \u001B[0;36mget_loc\u001B[1;34m(self, key, method, tolerance)\u001B[0m\n\u001B[0;32m   3080\u001B[0m                 \u001B[1;32mreturn\u001B[0m \u001B[0mself\u001B[0m\u001B[1;33m.\u001B[0m\u001B[0m_engine\u001B[0m\u001B[1;33m.\u001B[0m\u001B[0mget_loc\u001B[0m\u001B[1;33m(\u001B[0m\u001B[0mcasted_key\u001B[0m\u001B[1;33m)\u001B[0m\u001B[1;33m\u001B[0m\u001B[1;33m\u001B[0m\u001B[0m\n\u001B[0;32m   3081\u001B[0m             \u001B[1;32mexcept\u001B[0m \u001B[0mKeyError\u001B[0m \u001B[1;32mas\u001B[0m \u001B[0merr\u001B[0m\u001B[1;33m:\u001B[0m\u001B[1;33m\u001B[0m\u001B[1;33m\u001B[0m\u001B[0m\n\u001B[1;32m-> 3082\u001B[1;33m                 \u001B[1;32mraise\u001B[0m \u001B[0mKeyError\u001B[0m\u001B[1;33m(\u001B[0m\u001B[0mkey\u001B[0m\u001B[1;33m)\u001B[0m \u001B[1;32mfrom\u001B[0m \u001B[0merr\u001B[0m\u001B[1;33m\u001B[0m\u001B[1;33m\u001B[0m\u001B[0m\n\u001B[0m\u001B[0;32m   3083\u001B[0m \u001B[1;33m\u001B[0m\u001B[0m\n\u001B[0;32m   3084\u001B[0m         \u001B[1;32mif\u001B[0m \u001B[0mtolerance\u001B[0m \u001B[1;32mis\u001B[0m \u001B[1;32mnot\u001B[0m \u001B[1;32mNone\u001B[0m\u001B[1;33m:\u001B[0m\u001B[1;33m\u001B[0m\u001B[1;33m\u001B[0m\u001B[0m\n",
      "\u001B[1;31mKeyError\u001B[0m: ('Sex', 'Siblings/Spouses Aboard')"
     ]
    }
   ],
   "source": [
    "X_d = df[\"Sex\", \"Siblings/Spouses Aboard\"]\n",
    "y = df[\"Survived\"]\n",
    "# y = le.transform(df[\"Survived\"])\n",
    "Xd_train, Xd_test, y_train, y_test = train_test_split(X_d, y, test_size=0.3)\n",
    "oner = OneRClassifier()\n",
    "oner.fit(Xd_train.to_numpy(), y_train)\n",
    "y_pred = oner.predict(Xd_test.to_numpy())\n",
    "\n",
    "accuracy = accuracy_score(y_test, y_pred)\n",
    "\n",
    "# print(Xd_train)\n",
    "# print(\"y_train = \", y_train)\n",
    "print(accuracy)"
   ],
   "metadata": {
    "collapsed": false,
    "pycharm": {
     "name": "#%%\n"
    }
   }
  },
  {
   "cell_type": "markdown",
   "source": [
    "Can you produce a second rule based on a single attribute with a good effectiveness?"
   ],
   "metadata": {
    "collapsed": false
   }
  },
  {
   "cell_type": "code",
   "execution_count": 31,
   "outputs": [
    {
     "name": "stdout",
     "output_type": "stream",
     "text": [
      "Fare Accuracy:  0.7303370786516854\n",
      "Pclass Accuracy:  0.6891385767790262\n",
      "Age accuracy:  0.5730337078651685\n",
      "Sibling/Spouse accuracy:  0.6441947565543071\n",
      "Parents/Children accuracy:  0.6404494382022472\n",
      "Outdated binary gender accuracy:  0.7752808988764045\n"
     ]
    }
   ],
   "source": [
    "X_d_fare = df[[\"Fare\"]]\n",
    "y_fare = df[\"Survived\"]\n",
    "# y = le.transform(df[\"Survived\"])\n",
    "Xd_train_fare, Xd_test_fare, y_train_fare, y_test_fare = train_test_split(X_d_fare, y_fare, test_size=0.3)\n",
    "oner_fare = OneRClassifier()\n",
    "oner_fare.fit(Xd_train_fare.to_numpy(), y_train_fare)\n",
    "y_pred_fare = oner_fare.predict(Xd_test_fare.to_numpy())\n",
    "accuracy_fare = accuracy_score(y_test_fare, y_pred_fare)\n",
    "\n",
    "print(\"Fare Accuracy: \", accuracy_fare)\n",
    "\n",
    "X_d_pclass = df[[\"Pclass\"]]\n",
    "y_pclass = df[\"Survived\"]\n",
    "# y = le.transform(df[\"Survived\"])\n",
    "Xd_train_pclass, Xd_test_pclass, y_train_pclass, y_test_pclass = train_test_split(X_d_pclass, y_pclass, test_size=0.3)\n",
    "oner_pclass = OneRClassifier()\n",
    "oner_pclass.fit(Xd_train_pclass.to_numpy(), y_train_pclass)\n",
    "y_pred_pclass = oner_pclass.predict(Xd_test_pclass.to_numpy())\n",
    "\n",
    "accuracy_pclass = accuracy_score(y_test_pclass, y_pred_pclass)\n",
    "\n",
    "print(\"Pclass Accuracy: \", accuracy_pclass)\n",
    "\n",
    "X_d_age = df[[\"Age\"]]\n",
    "y_age = df[\"Survived\"]\n",
    "# y = le.transform(df[\"Survived\"])\n",
    "Xd_train_age, Xd_test_age, y_train_age, y_test_age = train_test_split(X_d_age, y_age, test_size=0.3)\n",
    "oner_age = OneRClassifier()\n",
    "oner_age.fit(Xd_train_age.to_numpy(), y_train_age)\n",
    "y_pred_age = oner_age.predict(Xd_test_age.to_numpy())\n",
    "\n",
    "accuracy_age = accuracy_score(y_test_age, y_pred_age)\n",
    "\n",
    "print(\"Age accuracy: \", accuracy_age)\n",
    "\n",
    "X_d_sib = df[[\"Siblings/Spouses Aboard\"]]\n",
    "y_sib = df[\"Survived\"]\n",
    "# y = le.transform(df[\"Survived\"])\n",
    "Xd_train_sib, Xd_test_sib, y_train_sib, y_test_sib = train_test_split(X_d_sib, y_sib, test_size=0.3)\n",
    "oner_sib = OneRClassifier()\n",
    "oner_sib.fit(Xd_train_sib.to_numpy(), y_train_sib)\n",
    "y_pred_sib = oner_sib.predict(Xd_test_sib.to_numpy())\n",
    "\n",
    "accuracy_sib = accuracy_score(y_test_sib, y_pred_sib)\n",
    "\n",
    "print(\"Sibling/Spouse accuracy: \", accuracy_sib)\n",
    "\n",
    "X_d_fam = df[[\"Parents/Children Aboard\"]]\n",
    "y_fam = df[\"Survived\"]\n",
    "# y = le.transform(df[\"Survived\"])\n",
    "Xd_train_fam, Xd_test_fam, y_train_fam, y_test_fam = train_test_split(X_d_fam, y_fam, test_size=0.3)\n",
    "oner_fam = OneRClassifier()\n",
    "oner_fam.fit(Xd_train_fam.to_numpy(), y_train_fam)\n",
    "y_pred_fam = oner_fam.predict(Xd_test_fam.to_numpy())\n",
    "\n",
    "accuracy_fam = accuracy_score(y_test_fam, y_pred_fam)\n",
    "\n",
    "print(\"Parents/Children accuracy: \", accuracy_fam)\n",
    "\n",
    "X_d_sex = df[[\"Sex\"]]\n",
    "y_sex = df[\"Survived\"]\n",
    "# y = le.transform(df[\"Survived\"])\n",
    "Xd_train_sex, Xd_test_sex, y_train_sex, y_test_sex = train_test_split(X_d_sex, y_sex, test_size=0.3)\n",
    "oner_sex = OneRClassifier()\n",
    "oner_sex.fit(Xd_train_sex.to_numpy(), y_train_sex)\n",
    "y_pred_sex = oner_sex.predict(Xd_test_sex.to_numpy())\n",
    "\n",
    "accuracy_sex = accuracy_score(y_test_sex, y_pred_sex)\n",
    "\n",
    "print(\"Accuracy using outdated binary gender: \", accuracy_sex)\n"
   ],
   "metadata": {
    "collapsed": false,
    "pycharm": {
     "name": "#%%\n"
    }
   }
  },
  {
   "cell_type": "markdown",
   "source": [
    "Thus, we can conclude that using only the binary gender produces useful results."
   ],
   "metadata": {
    "collapsed": false,
    "pycharm": {
     "name": "#%% md\n"
    }
   }
  }
 ],
 "metadata": {
  "kernelspec": {
   "display_name": "Python 3 (ipykernel)",
   "language": "python",
   "name": "python3"
  },
  "language_info": {
   "codemirror_mode": {
    "name": "ipython",
    "version": 3
   },
   "file_extension": ".py",
   "mimetype": "text/x-python",
   "name": "python",
   "nbconvert_exporter": "python",
   "pygments_lexer": "ipython3",
   "version": "3.9.2"
  }
 },
 "nbformat": 4,
 "nbformat_minor": 4
}