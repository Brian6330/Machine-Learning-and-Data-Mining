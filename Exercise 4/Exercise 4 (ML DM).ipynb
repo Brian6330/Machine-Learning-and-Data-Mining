{
 "cells": [
  {
   "cell_type": "markdown",
   "metadata": {},
   "source": [
    "### Exercise 4 -  Decision Tree\n",
    "\n",
    "First name: Brian\n",
    "<br>\n",
    "Last name: Schweigler\n",
    "<br>\n",
    "Matriculation number: 16-102-071"
   ]
  },
  {
   "cell_type": "markdown",
   "metadata": {},
   "source": [
    "#### (1) Take the titanic dataset and use all attributes to predict the class ‘Survived’with a Decision tree classifier. (convert age and fare into classes ; exclude names from the attribute list)\n",
    "\n",
    "\n",
    "#### (a) Find the best tree depth for the model\n"
   ]
  },
  {
   "cell_type": "markdown",
   "metadata": {},
   "source": [
    "First some imports and preprocessing"
   ]
  },
  {
   "cell_type": "code",
   "execution_count": 1,
   "metadata": {},
   "outputs": [
    {
     "name": "stdout",
     "output_type": "stream",
     "text": [
      "                                                    Survived  Pclass  Sex  \\\n",
      "Name                                                                        \n",
      "Mr. Owen Harris Braund                                     0       3    1   \n",
      "Mrs. John Bradley (Florence Briggs Thayer) Cumings         1       1    0   \n",
      "Miss. Laina Heikkinen                                      1       3    0   \n",
      "\n",
      "                                                     Age  \\\n",
      "Name                                                       \n",
      "Mr. Owen Harris Braund                              22.0   \n",
      "Mrs. John Bradley (Florence Briggs Thayer) Cumings  38.0   \n",
      "Miss. Laina Heikkinen                               26.0   \n",
      "\n",
      "                                                    Siblings/Spouses Aboard  \\\n",
      "Name                                                                          \n",
      "Mr. Owen Harris Braund                                                    1   \n",
      "Mrs. John Bradley (Florence Briggs Thayer) Cumings                        1   \n",
      "Miss. Laina Heikkinen                                                     0   \n",
      "\n",
      "                                                    Parents/Children Aboard  \\\n",
      "Name                                                                          \n",
      "Mr. Owen Harris Braund                                                    0   \n",
      "Mrs. John Bradley (Florence Briggs Thayer) Cumings                        0   \n",
      "Miss. Laina Heikkinen                                                     0   \n",
      "\n",
      "                                                       Fare  AgeGroup  \\\n",
      "Name                                                                    \n",
      "Mr. Owen Harris Braund                               7.2500         2   \n",
      "Mrs. John Bradley (Florence Briggs Thayer) Cumings  71.2833         2   \n",
      "Miss. Laina Heikkinen                                7.9250         2   \n",
      "\n",
      "                                                    FareGroup  \n",
      "Name                                                           \n",
      "Mr. Owen Harris Braund                                      0  \n",
      "Mrs. John Bradley (Florence Briggs Thayer) Cumings          3  \n",
      "Miss. Laina Heikkinen                                       0  \n"
     ]
    }
   ],
   "source": [
    "%load_ext autoreload\n",
    "%autoreload 2\n",
    "%matplotlib inline\n",
    "\n",
    "import pandas as pd\n",
    "import numpy as np\n",
    "import matplotlib.pyplot as plt\n",
    "from sklearn.model_selection import train_test_split\n",
    "from sklearn.tree import DecisionTreeClassifier\n",
    "from sklearn import preprocessing\n",
    "from mlxtend.evaluate import accuracy_score\n",
    "\n",
    "df = pd.read_csv(\"data/titanic.csv\", index_col='Name')\n",
    "pd.set_option('display.max_colwidth', None)\n",
    "le = preprocessing.LabelEncoder()\n",
    "bins = [0, 4, 18, 65, 100]\n",
    "labels = ['Infant', 'Child', 'Adult', 'Elderly']\n",
    "labels = [1, 2, 3, 4]\n",
    "df['AgeGroup'] = pd.cut(df['Age'], bins=bins, labels=labels, right=False)\n",
    "df[\"AgeGroup\"] = le.fit_transform(df[\"AgeGroup\"])\n",
    "df['FareGroup'] = pd.qcut(x=df['Fare'], q=4)\n",
    "df[\"FareGroup\"] = le.fit_transform(df[\"FareGroup\"])\n",
    "df[\"Survived\"] = le.fit_transform(df[\"Survived\"])\n",
    "df[\"Sex\"] = le.fit_transform(df[\"Sex\"])\n",
    "print(df.head(3))"
   ]
  },
  {
   "cell_type": "code",
   "execution_count": 2,
   "metadata": {},
   "outputs": [
    {
     "data": {
      "text/plain": "   Decision Tree Depth  Accuracy\n4                    5  0.819718\n5                    6  0.819718\n2                    3  0.816901\n3                    4  0.814085\n0                    1  0.802817\n1                    2  0.777465",
      "text/html": "<div>\n<style scoped>\n    .dataframe tbody tr th:only-of-type {\n        vertical-align: middle;\n    }\n\n    .dataframe tbody tr th {\n        vertical-align: top;\n    }\n\n    .dataframe thead th {\n        text-align: right;\n    }\n</style>\n<table border=\"1\" class=\"dataframe\">\n  <thead>\n    <tr style=\"text-align: right;\">\n      <th></th>\n      <th>Decision Tree Depth</th>\n      <th>Accuracy</th>\n    </tr>\n  </thead>\n  <tbody>\n    <tr>\n      <th>4</th>\n      <td>5</td>\n      <td>0.819718</td>\n    </tr>\n    <tr>\n      <th>5</th>\n      <td>6</td>\n      <td>0.819718</td>\n    </tr>\n    <tr>\n      <th>2</th>\n      <td>3</td>\n      <td>0.816901</td>\n    </tr>\n    <tr>\n      <th>3</th>\n      <td>4</td>\n      <td>0.814085</td>\n    </tr>\n    <tr>\n      <th>0</th>\n      <td>1</td>\n      <td>0.802817</td>\n    </tr>\n    <tr>\n      <th>1</th>\n      <td>2</td>\n      <td>0.777465</td>\n    </tr>\n  </tbody>\n</table>\n</div>"
     },
     "execution_count": 2,
     "metadata": {},
     "output_type": "execute_result"
    }
   ],
   "source": [
    "all_features = ['Pclass', 'Sex', 'Siblings/Spouses Aboard',\n",
    "                'Parents/Children Aboard', 'AgeGroup', 'FareGroup']\n",
    "max_depth = len(all_features) + 1\n",
    "\n",
    "\n",
    "def decision_tree_accuracy(depth: int):\n",
    "    x_train, x_test, y_train, y_test = train_test_split(\n",
    "        df[all_features], df[\"Survived\"], test_size=0.4, random_state=6)\n",
    "\n",
    "    dt = DecisionTreeClassifier(max_depth=depth)\n",
    "    dt.fit(x_train, y_train)\n",
    "    y_pred = dt.predict(x_test)\n",
    "\n",
    "    return accuracy_score(y_test, y_pred)\n",
    "\n",
    "accuracies = pd.DataFrame(\n",
    "    map(lambda d: [d, decision_tree_accuracy(d)], range(1, max_depth)),\n",
    "    columns=['Decision Tree Depth', 'Accuracy'],\n",
    ").sort_values(by='Accuracy', ascending=False)\n",
    "\n",
    "accuracies"
   ]
  },
  {
   "cell_type": "markdown",
   "metadata": {},
   "source": [
    "It seems like the best depth is 5, but as the values for 5, 6, 3, and 4 are very close in their accuracy.\n",
    "\n",
    "\n",
    "3 might be the best choice for depth on a performance/computation trade-off."
   ]
  },
  {
   "cell_type": "markdown",
   "metadata": {},
   "source": [
    "#### (2) Build a Decision tree model with your selected stock / market index determine the number attributes that is capable of giving the best prediction of ‘daily returns’. (‘daily returns’ must first be converted into a decision class that will be used as the target(label))\n",
    "\n",
    "#### (a) Find the best tree depth for the model with the selected attributes.\n",
    "\n",
    "First simply import the dataset and set up the values:"
   ]
  },
  {
   "cell_type": "code",
   "execution_count": 3,
   "metadata": {},
   "outputs": [
    {
     "name": "stdout",
     "output_type": "stream",
     "text": [
      "                  Open        High         Low       Close   Adj Close  Volume\n",
      "Date                                                                          \n",
      "1971-02-05  100.000000  100.000000  100.000000  100.000000  100.000000       0\n",
      "1971-02-08  100.839996  100.839996  100.839996  100.839996  100.839996       0\n",
      "1971-02-09  100.760002  100.760002  100.760002  100.760002  100.760002       0\n",
      "                    Open          High           Low         Close  \\\n",
      "Date                                                                 \n",
      "2021-09-17  15163.360352  15166.559570  14998.730469  15043.969727   \n",
      "2021-09-20  14758.139648  14841.820312  14530.070312  14713.900391   \n",
      "2021-09-21  14803.400391  14847.027344  14696.467773  14779.216797   \n",
      "\n",
      "               Adj Close      Volume  Daily Return  Binary Decision  \\\n",
      "Date                                                                  \n",
      "2021-09-17  15043.969727  6682650000     -0.009086                0   \n",
      "2021-09-20  14713.900391  4860630000     -0.021940                0   \n",
      "2021-09-21  14779.216797  3083208000      0.004439                1   \n",
      "\n",
      "            Rolling Mean 5  Rolling Mean 10  Rolling Mean 20  Rolling Mean 50  \\\n",
      "Date                                                                            \n",
      "2021-09-17    15106.151953     15191.898926     15143.947949     14875.465586   \n",
      "2021-09-20    15027.816016     15126.937012     15143.909961     14875.705195   \n",
      "2021-09-21    14976.107422     15067.425684     15135.738281     14876.624727   \n",
      "\n",
      "            Rolling Mean 200  \n",
      "Date                          \n",
      "2021-09-17      13844.889136  \n",
      "2021-09-20      13856.711787  \n",
      "2021-09-21      13868.721973  \n"
     ]
    }
   ],
   "source": [
    "stock_df = pd.read_csv(\"data/Nasdaq.csv\", index_col='Date')\n",
    "print(stock_df.head(3))\n",
    "\n",
    "\n",
    "daily_return = np.empty(stock_df['Close'].shape)\n",
    "#  From Slides: Daily return (r): Difference in percentage between\n",
    "#  price at time t+1 and time t\n",
    "daily_return[0] = float('NaN') # The first\n",
    "daily_return[1:] = np.ediff1d(stock_df['Close']) / stock_df['Close'][:-1]\n",
    "stock_df.insert(loc=len(stock_df.columns), column='Daily Return', value=daily_return)\n",
    "\n",
    "binary = (daily_return > 0).astype(float)\n",
    "stock_df.insert(loc=len(stock_df.columns), column='Binary Decision', value=binary)\n",
    "stock_df[\"Binary Decision\"] = le.fit_transform(stock_df[\"Binary Decision\"])\n",
    "\n",
    "stock_df['Rolling Mean 5'] = stock_df['Close'].rolling(5).mean()\n",
    "stock_df['Rolling Mean 10'] = stock_df['Close'].rolling(10).mean()\n",
    "stock_df['Rolling Mean 20'] = stock_df['Close'].rolling(20).mean()\n",
    "stock_df['Rolling Mean 50'] = stock_df['Close'].rolling(50).mean()\n",
    "stock_df['Rolling Mean 200'] = stock_df['Close'].rolling(200).mean()\n",
    "stock_df = stock_df.fillna(0)  # NAs replaced with zero\n",
    "\n",
    "print(stock_df.tail(3))\n",
    "\n"
   ]
  },
  {
   "cell_type": "markdown",
   "metadata": {},
   "source": [
    "Solving the task"
   ]
  },
  {
   "cell_type": "code",
   "execution_count": 4,
   "metadata": {},
   "outputs": [
    {
     "data": {
      "text/plain": "   Decision Tree Depth  Accuracy\n4                    5  0.819718\n5                    6  0.819718\n2                    3  0.816901\n3                    4  0.814085\n0                    1  0.802817\n1                    2  0.777465",
      "text/html": "<div>\n<style scoped>\n    .dataframe tbody tr th:only-of-type {\n        vertical-align: middle;\n    }\n\n    .dataframe tbody tr th {\n        vertical-align: top;\n    }\n\n    .dataframe thead th {\n        text-align: right;\n    }\n</style>\n<table border=\"1\" class=\"dataframe\">\n  <thead>\n    <tr style=\"text-align: right;\">\n      <th></th>\n      <th>Decision Tree Depth</th>\n      <th>Accuracy</th>\n    </tr>\n  </thead>\n  <tbody>\n    <tr>\n      <th>4</th>\n      <td>5</td>\n      <td>0.819718</td>\n    </tr>\n    <tr>\n      <th>5</th>\n      <td>6</td>\n      <td>0.819718</td>\n    </tr>\n    <tr>\n      <th>2</th>\n      <td>3</td>\n      <td>0.816901</td>\n    </tr>\n    <tr>\n      <th>3</th>\n      <td>4</td>\n      <td>0.814085</td>\n    </tr>\n    <tr>\n      <th>0</th>\n      <td>1</td>\n      <td>0.802817</td>\n    </tr>\n    <tr>\n      <th>1</th>\n      <td>2</td>\n      <td>0.777465</td>\n    </tr>\n  </tbody>\n</table>\n</div>"
     },
     "execution_count": 4,
     "metadata": {},
     "output_type": "execute_result"
    }
   ],
   "source": [
    "stock_df[\"Class Daily Return\"] = pd.qcut(stock_df[\"Daily Return\"], q=3)\n",
    "stock_df[\"Class Daily Return\"], _ = stock_df[\"Class Daily Return\"].factorize(sort=True)\n",
    "\n",
    "all_stock_features = ['Volume', 'Rolling Mean 5', 'Rolling Mean 10',\n",
    "                      'Rolling Mean 20', 'Rolling Mean 50', 'Rolling Mean 200']\n",
    "\n",
    "\n",
    "def decision_tree_accuracy_stock(depth: int):\n",
    "    x_train, x_test, y_train, y_test = train_test_split(\n",
    "        stock_df[all_stock_features], stock_df[\"Class Daily Return\"],\n",
    "        test_size=0.4, random_state=6)\n",
    "\n",
    "    dt = DecisionTreeClassifier(max_depth=depth)\n",
    "    dt.fit(x_train, y_train)\n",
    "    y_pred = dt.predict(x_test)\n",
    "\n",
    "    return accuracy_score(y_test, y_pred)\n",
    "\n",
    "\n",
    "accuracies = pd.DataFrame(\n",
    "    map(lambda d: [d, decision_tree_accuracy(d)], range(1, max_depth)),\n",
    "    columns=['Decision Tree Depth', 'Accuracy'],\n",
    ").sort_values(by='Accuracy', ascending=False)\n",
    "\n",
    "accuracies\n"
   ]
  },
  {
   "cell_type": "markdown",
   "metadata": {},
   "source": [
    "In the stock_df case, 3 seems like a good trade-off between performance and computation speed in terms of accuracy.\n",
    "\n",
    "A depth of 5 would lead to the highest accuracy though.\n",
    "\n",
    "\n"
   ]
  }
 ],
 "metadata": {
  "kernelspec": {
   "display_name": "Python 3 (ipykernel)",
   "language": "python",
   "name": "python3"
  },
  "language_info": {
   "codemirror_mode": {
    "name": "ipython",
    "version": 3
   },
   "file_extension": ".py",
   "mimetype": "text/x-python",
   "name": "python",
   "nbconvert_exporter": "python",
   "pygments_lexer": "ipython3",
   "version": "3.9.2"
  }
 },
 "nbformat": 4,
 "nbformat_minor": 4
}
